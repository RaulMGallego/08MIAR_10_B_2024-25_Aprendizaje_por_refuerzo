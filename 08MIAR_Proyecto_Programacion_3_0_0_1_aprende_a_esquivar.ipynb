{
 "cells": [
  {
   "cell_type": "markdown",
   "metadata": {
    "id": "jUehXgCyIRdq"
   },
   "source": [
    "# Actividad - Proyecto práctico\n",
    "\n",
    "\n",
    "> La actividad se desarrollará en grupos pre-definidos de 2-3 alumnos. Se debe indicar los nombres en orden alfabético (de apellidos). Recordad que esta actividad se corresponde con un 30% de la nota final de la asignatura. Se debe entregar entregar el trabajo en la presente notebook.\n",
    "*   Alumno 1: Marta Castillo Galán\n",
    "*   Alumno 2: Unai Marín Etxebarria\n",
    "*   Alumno 3: Laura Molinos Mayo\n",
    "*   Alumno 4: Raúl Murillo Gallego\n",
    "\n",
    "\n",
    "\n",
    "\n"
   ]
  },
  {
   "cell_type": "markdown",
   "metadata": {
    "id": "4hzP_5ZuGb2X"
   },
   "source": [
    "---\n",
    "## **PARTE 2**. Enunciado\n",
    "\n",
    "Consideraciones a tener en cuenta:\n",
    "\n",
    "- El entorno sobre el que trabajaremos será _SpaceInvaders-v0_ y el algoritmo que usaremos será _DQN_.\n",
    "\n",
    "- Para nuestro ejercicio, el requisito mínimo será alcanzado cuando el agente consiga una **media de recompensa por encima de 20 puntos en modo test**. Por ello, esta media de la recompensa se calculará a partir del código de test en la última celda del notebook.\n",
    "\n",
    "Este proyecto práctico consta de tres partes:\n",
    "\n",
    "1.   Implementar la red neuronal que se usará en la solución\n",
    "2.   Implementar las distintas piezas de la solución DQN\n",
    "3.   Justificar la respuesta en relación a los resultados obtenidos\n",
    "\n",
    "**Rúbrica**: Se valorará la originalidad en la solución aportada, así como la capacidad de discutir los resultados de forma detallada. El requisito mínimo servirá para aprobar la actividad, bajo premisa de que la discusión del resultado sera apropiada.\n",
    "\n",
    "IMPORTANTE:\n",
    "\n",
    "* Si no se consigue una puntuación óptima, responder sobre la mejor puntuación obtenida.\n",
    "* Para entrenamientos largos, recordad que podéis usar checkpoints de vuestros modelos para retomar los entrenamientos. En este caso, recordad cambiar los parámetros adecuadamente (sobre todo los relacionados con el proceso de exploración).\n",
    "* Se deberá entregar unicamente el notebook y los pesos del mejor modelo en un fichero .zip, de forma organizada.\n",
    "* Cada alumno deberá de subir la solución de forma individual."
   ]
  },
  {
   "cell_type": "code",
   "execution_count": 72,
   "metadata": {
    "id": "UbVRjvHCJ8UF"
   },
   "outputs": [],
   "source": [
    "#if IN_COLAB:\n",
    "  #%pip install gym==0.17.3\n",
    "  #%pip install git+https://github.com/Kojoley/atari-py.git\n",
    "  #%pip install keras-rl2==1.0.5\n",
    "  #%pip install tensorflow==2.8\n",
    "#else:\n",
    "  #%pip install gym==0.17.3\n",
    "  #%pip install git+https://github.com/Kojoley/atari-py.git\n",
    "  #%pip install pyglet==1.5.0\n",
    "  #%pip install h5py==3.1.0\n",
    "  #%pip install Pillow==9.5.0\n",
    "  #%pip install keras-rl2==1.0.5\n",
    "  #%pip install Keras==2.2.4\n",
    "  #%pip install tensorflow==2.5.3\n",
    "  ##%pip install torch==2.0.1\n",
    "  #%pip install agents==1.4.0"
   ]
  },
  {
   "cell_type": "markdown",
   "metadata": {
    "id": "6_b3mzw8IzJP"
   },
   "source": [
    "---\n",
    "## **PARTE 3**. Desarrollo y preguntas"
   ]
  },
  {
   "cell_type": "markdown",
   "metadata": {
    "id": "duPmUNOVGb2a"
   },
   "source": [
    "#### Importar librerías"
   ]
  },
  {
   "cell_type": "code",
   "execution_count": 73,
   "metadata": {
    "id": "j3eRhgI-Gb2a"
   },
   "outputs": [],
   "source": [
    "from __future__ import division\n",
    "\n",
    "from PIL import Image\n",
    "import numpy as np\n",
    "import gym\n",
    "\n",
    "from tensorflow.keras.models import Sequential\n",
    "from tensorflow.keras.layers import Dense, Activation, Flatten, Convolution2D, Permute\n",
    "from tensorflow.keras.optimizers import Adam\n",
    "import tensorflow.keras.backend as K\n",
    "\n",
    "from rl.agents.dqn import DQNAgent\n",
    "from rl.policy import LinearAnnealedPolicy, BoltzmannQPolicy, EpsGreedyQPolicy\n",
    "from rl.memory import SequentialMemory\n",
    "from rl.core import Processor\n",
    "from rl.callbacks import FileLogger, ModelIntervalCheckpoint"
   ]
  },
  {
   "cell_type": "markdown",
   "metadata": {
    "id": "f4jgQjzoGb2a"
   },
   "source": [
    "#### Configuración base"
   ]
  },
  {
   "cell_type": "code",
   "execution_count": 74,
   "metadata": {
    "id": "jwOE6I_KGb2a"
   },
   "outputs": [],
   "source": [
    "INPUT_SHAPE = (84, 84)\n",
    "WINDOW_LENGTH = 4\n",
    "\n",
    "env_name = 'SpaceInvaders-v0'\n",
    "env = gym.make(env_name)\n",
    "\n",
    "np.random.seed(123)\n",
    "env.seed(123)\n",
    "nb_actions = env.action_space.n"
   ]
  },
  {
   "cell_type": "code",
   "execution_count": 75,
   "metadata": {
    "id": "9jGEZUcpGb2a"
   },
   "outputs": [],
   "source": [
    "class AtariProcessor(Processor):\n",
    "    def process_observation(self, observation):\n",
    "        assert observation.ndim == 3  # (height, width, channel)\n",
    "        img = Image.fromarray(observation)\n",
    "        img = img.resize(INPUT_SHAPE).convert('L')\n",
    "        processed_observation = np.array(img)\n",
    "        assert processed_observation.shape == INPUT_SHAPE\n",
    "        return processed_observation.astype('uint8')\n",
    "\n",
    "    def process_state_batch(self, batch):\n",
    "        processed_batch = batch.astype('float32') / 255.\n",
    "        return processed_batch\n",
    "\n",
    "    def process_reward(self, reward):\n",
    "        return np.clip(reward, -1., 1.)\n"
   ]
  },
  {
   "cell_type": "markdown",
   "metadata": {
    "id": "7yitXTADGb2b"
   },
   "source": [
    "1. Implementación de la red neuronal"
   ]
  },
  {
   "cell_type": "markdown",
   "metadata": {},
   "source": [
    "En otra ejecución hemos utilizado el siguiente modelo:"
   ]
  },
  {
   "cell_type": "code",
   "execution_count": 76,
   "metadata": {
    "id": "O4GKrfWSGb2b"
   },
   "outputs": [],
   "source": [
    "def build_model(window_length, input_shape, nb_actions):\n",
    "    model = Sequential()\n",
    "    model.add(Permute((2, 3, 1), input_shape=(window_length,) + input_shape))\n",
    "    model.add(Convolution2D(32, (8, 8), strides=(4, 4)))\n",
    "    model.add(Activation('relu'))\n",
    "    model.add(Convolution2D(64, (4, 4), strides=(2, 2)))\n",
    "    model.add(Activation('relu'))\n",
    "    model.add(Convolution2D(64, (3, 3), strides=(1, 1)))\n",
    "    model.add(Activation('relu'))\n",
    "    model.add(Flatten())\n",
    "    model.add(Dense(512))\n",
    "    model.add(Activation('relu'))\n",
    "    model.add(Dense(nb_actions))\n",
    "    model.add(Activation('linear'))\n",
    "    return model"
   ]
  },
  {
   "cell_type": "markdown",
   "metadata": {},
   "source": [
    "Con el objetivo de incorporar técnicas de regulación, introducimos dropout después de la primera capa densa. Como ya sabemos, esto podría ayudar a generalizar y evitar el sobreajuste. Además, vamos a ampliar la tercera capa convolucional de 64 a 512 neuronas, a sabiendas de que el número de parámetros incrementará considerablemente."
   ]
  },
  {
   "cell_type": "code",
   "execution_count": 77,
   "metadata": {},
   "outputs": [],
   "source": [
    "\n",
    "from tensorflow.keras.layers import  Dropout\n",
    "\n",
    "def build_model(window_length, input_shape, nb_actions):\n",
    "    model = Sequential()\n",
    "    model.add(Permute((2, 3, 1), input_shape=(window_length,) + input_shape))  # (C, H, W) → (H, W, C)\n",
    "\n",
    "    # Convolucional 1\n",
    "    model.add(Conv2D(32, (8, 8), strides=(4, 4), padding='same'))\n",
    "    model.add(Activation('relu'))\n",
    "    \n",
    "    # Convolucional 2\n",
    "    model.add(Conv2D(64, (4, 4), strides=(2, 2), padding='same'))\n",
    "    model.add(Activation('relu'))\n",
    "    \n",
    "    # Convolucional 3 (ligero cambio en tamaño del kernel)\n",
    "    model.add(Conv2D(512, (3, 3), strides=(1, 1), padding='same'))\n",
    "    model.add(Activation('relu'))\n",
    "\n",
    "    model.add(Flatten())\n",
    "\n",
    "    # Capa densa + regularización\n",
    "    model.add(Dense(512))\n",
    "    model.add(Activation('relu'))\n",
    "    model.add(Dropout(0.25))  # 25% dropout\n",
    "\n",
    "    # Salida\n",
    "    model.add(Dense(nb_actions))\n",
    "    model.add(Activation('linear'))\n",
    "    \n",
    "    return model\n"
   ]
  },
  {
   "cell_type": "markdown",
   "metadata": {
    "id": "OB9-_5HPGb2b"
   },
   "source": [
    "2. Implementación de la solución DQN"
   ]
  },
  {
   "cell_type": "markdown",
   "metadata": {},
   "source": [
    "Por lo demás, seguimos con la misma estrategia."
   ]
  },
  {
   "cell_type": "code",
   "execution_count": 78,
   "metadata": {
    "id": "foSlxWH1Gb2b"
   },
   "outputs": [
    {
     "name": "stdout",
     "output_type": "stream",
     "text": [
      "Model: \"sequential_5\"\n",
      "_________________________________________________________________\n",
      "Layer (type)                 Output Shape              Param #   \n",
      "=================================================================\n",
      "permute_5 (Permute)          (None, 84, 84, 4)         0         \n",
      "_________________________________________________________________\n",
      "conv2d_15 (Conv2D)           (None, 21, 21, 32)        8224      \n",
      "_________________________________________________________________\n",
      "activation_25 (Activation)   (None, 21, 21, 32)        0         \n",
      "_________________________________________________________________\n",
      "conv2d_16 (Conv2D)           (None, 11, 11, 64)        32832     \n",
      "_________________________________________________________________\n",
      "activation_26 (Activation)   (None, 11, 11, 64)        0         \n",
      "_________________________________________________________________\n",
      "conv2d_17 (Conv2D)           (None, 11, 11, 512)       295424    \n",
      "_________________________________________________________________\n",
      "activation_27 (Activation)   (None, 11, 11, 512)       0         \n",
      "_________________________________________________________________\n",
      "flatten_5 (Flatten)          (None, 61952)             0         \n",
      "_________________________________________________________________\n",
      "dense_10 (Dense)             (None, 512)               31719936  \n",
      "_________________________________________________________________\n",
      "activation_28 (Activation)   (None, 512)               0         \n",
      "_________________________________________________________________\n",
      "dropout_7 (Dropout)          (None, 512)               0         \n",
      "_________________________________________________________________\n",
      "dense_11 (Dense)             (None, 6)                 3078      \n",
      "_________________________________________________________________\n",
      "activation_29 (Activation)   (None, 6)                 0         \n",
      "=================================================================\n",
      "Total params: 32,059,494\n",
      "Trainable params: 32,059,494\n",
      "Non-trainable params: 0\n",
      "_________________________________________________________________\n",
      "None\n"
     ]
    }
   ],
   "source": [
    "# Preparamos memoria y política\n",
    "memory = SequentialMemory(limit=100000, window_length=WINDOW_LENGTH)\n",
    "#policy = EpsGreedyQPolicy()  # Exploración simple\n",
    "policy = LinearAnnealedPolicy(EpsGreedyQPolicy(), attr='eps',\n",
    "                              value_max=1.0, value_min=0.1,\n",
    "                              value_test=0.05, nb_steps=100000)\n",
    "\n",
    "# Creamos el modelo\n",
    "model = build_model(WINDOW_LENGTH, INPUT_SHAPE, nb_actions)\n",
    "print(model.summary())\n",
    "\n",
    "# Creamos el procesador\n",
    "processor = AtariProcessor()\n",
    "\n",
    "#Creamos el agente\n",
    "dqn = DQNAgent(model=model,\n",
    "               nb_actions=nb_actions,\n",
    "               policy=policy,\n",
    "               memory=memory,\n",
    "               processor=processor,\n",
    "               nb_steps_warmup=10000,\n",
    "               gamma=0.99,\n",
    "               target_model_update=10000,\n",
    "               train_interval=4,\n",
    "               delta_clip=1.0)\n",
    "\n",
    "dqn.compile(Adam(learning_rate=1e-4), metrics=['mae'])"
   ]
  },
  {
   "cell_type": "code",
   "execution_count": 79,
   "metadata": {},
   "outputs": [
    {
     "name": "stdout",
     "output_type": "stream",
     "text": [
      "Training for 20000 steps ...\n"
     ]
    },
    {
     "name": "stderr",
     "output_type": "stream",
     "text": [
      "C:\\Users\\Unai\\anaconda3\\envs\\miar_rl\\lib\\site-packages\\tensorflow\\python\\keras\\engine\\training.py:2424: UserWarning: `Model.state_updates` will be removed in a future version. This property should not be used in TensorFlow 2.0, as `updates` are applied automatically.\n",
      "  warnings.warn('`Model.state_updates` will be removed in a future version. '\n"
     ]
    },
    {
     "name": "stdout",
     "output_type": "stream",
     "text": [
      "   420/20000: episode: 1, duration: 9.851s, episode steps: 420, steps per second:  43, episode reward:  6.000, mean reward:  0.014 [ 0.000,  1.000], mean action: 2.471 [0.000, 5.000],  loss: --, mae: --, mean_q: --, mean_eps: --\n",
      "  1218/20000: episode: 2, duration: 16.181s, episode steps: 798, steps per second:  49, episode reward: 11.000, mean reward:  0.014 [ 0.000,  1.000], mean action: 2.421 [0.000, 5.000],  loss: --, mae: --, mean_q: --, mean_eps: --\n",
      "  1844/20000: episode: 3, duration: 12.406s, episode steps: 626, steps per second:  50, episode reward:  8.000, mean reward:  0.013 [ 0.000,  1.000], mean action: 2.388 [0.000, 5.000],  loss: --, mae: --, mean_q: --, mean_eps: --\n",
      "  2676/20000: episode: 4, duration: 17.019s, episode steps: 832, steps per second:  49, episode reward: 10.000, mean reward:  0.012 [ 0.000,  1.000], mean action: 2.361 [0.000, 5.000],  loss: --, mae: --, mean_q: --, mean_eps: --\n",
      "  3064/20000: episode: 5, duration: 10.646s, episode steps: 388, steps per second:  36, episode reward:  6.000, mean reward:  0.015 [ 0.000,  1.000], mean action: 2.582 [0.000, 5.000],  loss: --, mae: --, mean_q: --, mean_eps: --\n",
      "  3659/20000: episode: 6, duration: 12.485s, episode steps: 595, steps per second:  48, episode reward:  6.000, mean reward:  0.010 [ 0.000,  1.000], mean action: 2.400 [0.000, 5.000],  loss: --, mae: --, mean_q: --, mean_eps: --\n",
      "  4521/20000: episode: 7, duration: 16.782s, episode steps: 862, steps per second:  51, episode reward: 12.000, mean reward:  0.014 [ 0.000,  1.000], mean action: 2.435 [0.000, 5.000],  loss: --, mae: --, mean_q: --, mean_eps: --\n",
      "  4917/20000: episode: 8, duration: 7.408s, episode steps: 396, steps per second:  53, episode reward:  6.000, mean reward:  0.015 [ 0.000,  1.000], mean action: 2.508 [0.000, 5.000],  loss: --, mae: --, mean_q: --, mean_eps: --\n",
      "  5544/20000: episode: 9, duration: 12.321s, episode steps: 627, steps per second:  51, episode reward:  6.000, mean reward:  0.010 [ 0.000,  1.000], mean action: 2.399 [0.000, 5.000],  loss: --, mae: --, mean_q: --, mean_eps: --\n",
      "  6611/20000: episode: 10, duration: 20.994s, episode steps: 1067, steps per second:  51, episode reward: 14.000, mean reward:  0.013 [ 0.000,  1.000], mean action: 2.448 [0.000, 5.000],  loss: --, mae: --, mean_q: --, mean_eps: --\n",
      "  7399/20000: episode: 11, duration: 16.006s, episode steps: 788, steps per second:  49, episode reward: 13.000, mean reward:  0.016 [ 0.000,  1.000], mean action: 2.377 [0.000, 5.000],  loss: --, mae: --, mean_q: --, mean_eps: --\n",
      "  8006/20000: episode: 12, duration: 12.039s, episode steps: 607, steps per second:  50, episode reward:  9.000, mean reward:  0.015 [ 0.000,  1.000], mean action: 2.442 [0.000, 5.000],  loss: --, mae: --, mean_q: --, mean_eps: --\n",
      "  8589/20000: episode: 13, duration: 11.546s, episode steps: 583, steps per second:  50, episode reward:  9.000, mean reward:  0.015 [ 0.000,  1.000], mean action: 2.422 [0.000, 5.000],  loss: --, mae: --, mean_q: --, mean_eps: --\n",
      "  9232/20000: episode: 14, duration: 12.382s, episode steps: 643, steps per second:  52, episode reward:  6.000, mean reward:  0.009 [ 0.000,  1.000], mean action: 2.437 [0.000, 5.000],  loss: --, mae: --, mean_q: --, mean_eps: --\n",
      "  9738/20000: episode: 15, duration: 9.756s, episode steps: 506, steps per second:  52, episode reward:  7.000, mean reward:  0.014 [ 0.000,  1.000], mean action: 2.443 [0.000, 5.000],  loss: --, mae: --, mean_q: --, mean_eps: --\n"
     ]
    },
    {
     "name": "stderr",
     "output_type": "stream",
     "text": [
      "C:\\Users\\Unai\\anaconda3\\envs\\miar_rl\\lib\\site-packages\\tensorflow\\python\\keras\\engine\\training.py:2424: UserWarning: `Model.state_updates` will be removed in a future version. This property should not be used in TensorFlow 2.0, as `updates` are applied automatically.\n",
      "  warnings.warn('`Model.state_updates` will be removed in a future version. '\n"
     ]
    },
    {
     "name": "stdout",
     "output_type": "stream",
     "text": [
      " 10162/20000: episode: 16, duration: 26.860s, episode steps: 424, steps per second:  16, episode reward:  8.000, mean reward:  0.019 [ 0.000,  1.000], mean action: 2.342 [0.000, 5.000],  loss: 0.008356, mae: 0.027945, mean_q: 0.058856, mean_eps: 0.909262\n",
      " 10755/20000: episode: 17, duration: 75.819s, episode steps: 593, steps per second:   8, episode reward:  4.000, mean reward:  0.007 [ 0.000,  1.000], mean action: 2.511 [0.000, 5.000],  loss: 0.006304, mae: 0.020641, mean_q: 0.033484, mean_eps: 0.905878\n",
      " 11752/20000: episode: 18, duration: 116.499s, episode steps: 997, steps per second:   9, episode reward: 17.000, mean reward:  0.017 [ 0.000,  1.000], mean action: 2.464 [0.000, 5.000],  loss: 0.007238, mae: 0.022784, mean_q: 0.036257, mean_eps: 0.898732\n",
      " 12934/20000: episode: 19, duration: 137.926s, episode steps: 1182, steps per second:   9, episode reward: 15.000, mean reward:  0.013 [ 0.000,  1.000], mean action: 2.548 [0.000, 5.000],  loss: 0.006980, mae: 0.024021, mean_q: 0.040953, mean_eps: 0.888922\n",
      " 13579/20000: episode: 20, duration: 83.429s, episode steps: 645, steps per second:   8, episode reward: 10.000, mean reward:  0.016 [ 0.000,  1.000], mean action: 2.549 [0.000, 5.000],  loss: 0.005642, mae: 0.020659, mean_q: 0.034610, mean_eps: 0.880696\n",
      " 14005/20000: episode: 21, duration: 52.942s, episode steps: 426, steps per second:   8, episode reward:  4.000, mean reward:  0.009 [ 0.000,  1.000], mean action: 2.505 [0.000, 5.000],  loss: 0.008025, mae: 0.025817, mean_q: 0.045745, mean_eps: 0.875872\n",
      " 14462/20000: episode: 22, duration: 55.336s, episode steps: 457, steps per second:   8, episode reward:  5.000, mean reward:  0.011 [ 0.000,  1.000], mean action: 2.510 [0.000, 5.000],  loss: 0.005876, mae: 0.021878, mean_q: 0.038239, mean_eps: 0.871894\n",
      " 15479/20000: episode: 23, duration: 124.989s, episode steps: 1017, steps per second:   8, episode reward: 16.000, mean reward:  0.016 [ 0.000,  1.000], mean action: 2.484 [0.000, 5.000],  loss: 0.006641, mae: 0.024035, mean_q: 0.042526, mean_eps: 0.865270\n",
      " 16120/20000: episode: 24, duration: 76.386s, episode steps: 641, steps per second:   8, episode reward: 11.000, mean reward:  0.017 [ 0.000,  1.000], mean action: 2.451 [0.000, 5.000],  loss: 0.007035, mae: 0.024773, mean_q: 0.043937, mean_eps: 0.857818\n",
      " 16640/20000: episode: 25, duration: 59.394s, episode steps: 520, steps per second:   9, episode reward:  5.000, mean reward:  0.010 [ 0.000,  1.000], mean action: 2.502 [0.000, 5.000],  loss: 0.005999, mae: 0.022847, mean_q: 0.043807, mean_eps: 0.852598\n",
      " 17067/20000: episode: 26, duration: 48.384s, episode steps: 427, steps per second:   9, episode reward:  5.000, mean reward:  0.012 [ 0.000,  1.000], mean action: 2.520 [0.000, 5.000],  loss: 0.005298, mae: 0.022276, mean_q: 0.041902, mean_eps: 0.848332\n",
      " 17848/20000: episode: 27, duration: 91.500s, episode steps: 781, steps per second:   9, episode reward: 13.000, mean reward:  0.017 [ 0.000,  1.000], mean action: 2.490 [0.000, 5.000],  loss: 0.006742, mae: 0.024658, mean_q: 0.047591, mean_eps: 0.842896\n",
      " 19055/20000: episode: 28, duration: 138.977s, episode steps: 1207, steps per second:   9, episode reward: 16.000, mean reward:  0.013 [ 0.000,  1.000], mean action: 2.477 [0.000, 5.000],  loss: 0.006091, mae: 0.023359, mean_q: 0.044804, mean_eps: 0.833950\n",
      " 19505/20000: episode: 29, duration: 52.174s, episode steps: 450, steps per second:   9, episode reward:  5.000, mean reward:  0.011 [ 0.000,  1.000], mean action: 2.322 [0.000, 5.000],  loss: 0.005989, mae: 0.023871, mean_q: 0.046687, mean_eps: 0.826480\n",
      "done, took 1396.238 seconds\n"
     ]
    },
    {
     "data": {
      "text/plain": [
       "<tensorflow.python.keras.callbacks.History at 0x20b852c5af0>"
      ]
     },
     "execution_count": 79,
     "metadata": {},
     "output_type": "execute_result"
    }
   ],
   "source": [
    "# Entrenamiento inicial\n",
    "# (0.0.0.2) Pasamos de 5000 a 20.000 pasos\n",
    "dqn.fit(env, nb_steps=20000, visualize=False, verbose=2)"
   ]
  },
  {
   "cell_type": "code",
   "execution_count": 80,
   "metadata": {},
   "outputs": [
    {
     "name": "stdout",
     "output_type": "stream",
     "text": [
      "Testing for 10 episodes ...\n",
      "Episode 1: reward: 24.000, steps: 1118\n",
      "Episode 2: reward: 15.000, steps: 963\n",
      "Episode 3: reward: 10.000, steps: 637\n",
      "Episode 4: reward: 18.000, steps: 718\n",
      "Episode 5: reward: 16.000, steps: 1257\n",
      "Episode 6: reward: 18.000, steps: 784\n",
      "Episode 7: reward: 18.000, steps: 993\n",
      "Episode 8: reward: 15.000, steps: 1112\n",
      "Episode 9: reward: 15.000, steps: 932\n",
      "Episode 10: reward: 14.000, steps: 973\n",
      "Media de recompensa: 16.3\n"
     ]
    }
   ],
   "source": [
    "#Evaluación en modo test\n",
    "scores = dqn.test(env, nb_episodes=10, visualize=False)\n",
    "print(\"Media de recompensa:\", np.mean(scores.history['episode_reward']))"
   ]
  },
  {
   "cell_type": "code",
   "execution_count": 81,
   "metadata": {},
   "outputs": [],
   "source": [
    "#Guardado de pesos\n",
    "dqn.save_weights('dqn_spaceinvaders_weights_aprende_a_esquivar.h5f', overwrite=True)"
   ]
  },
  {
   "cell_type": "markdown",
   "metadata": {
    "id": "-NAlu8b1Gb2b"
   },
   "source": [
    "3. Justificación de los parámetros seleccionados y de los resultados obtenidos"
   ]
  },
  {
   "cell_type": "markdown",
   "metadata": {},
   "source": [
    "Es interesante observar la el rendimiento de este algoritmo. Por una parte, es obvio que la media de puntuación obtenida no es suficiente, y por ese lado no hemos conseguido ninguna mejora. Sin embargo, obsérvese que a medida que avanzaba el entrenamiento, el algoritmo a aprendido a sobrevivir durante más tiempo. Uno de los episodios ha llegado a durar 108 segundo, esto es, casi dos minutos. \n",
    "\n",
    "De modo que cabe concluir que la red esta aprendiendo a esquivar los ataques enemigos. Esto, en si mismo, no constituye ningun objetivo, ni merece recompensa. Aun así, es una propiedad que todo agente exitoso necesitará, puesto que lo ideal es aprender a no morir, a la par que elimnar enemigos. Por lo tanto, necesitamos una arquitectura que logre captar la habilidad de esquivar balas de este modelo, pero que corrija su incapacidad para matar enemigos."
   ]
  },
  {
   "cell_type": "markdown",
   "metadata": {
    "id": "ANFQiicXK3sO"
   },
   "source": [
    "---"
   ]
  }
 ],
 "metadata": {
  "colab": {
   "provenance": []
  },
  "kernelspec": {
   "display_name": "Python [miar_rl]",
   "language": "python",
   "name": "miar_rl"
  },
  "language_info": {
   "codemirror_mode": {
    "name": "ipython",
    "version": 3
   },
   "file_extension": ".py",
   "mimetype": "text/x-python",
   "name": "python",
   "nbconvert_exporter": "python",
   "pygments_lexer": "ipython3",
   "version": "3.8.20"
  }
 },
 "nbformat": 4,
 "nbformat_minor": 4
}
