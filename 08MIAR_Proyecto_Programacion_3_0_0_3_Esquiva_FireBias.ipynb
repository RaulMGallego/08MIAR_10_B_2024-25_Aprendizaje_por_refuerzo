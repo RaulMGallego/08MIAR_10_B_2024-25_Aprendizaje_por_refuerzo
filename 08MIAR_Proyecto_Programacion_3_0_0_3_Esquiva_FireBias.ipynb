{
 "cells": [
  {
   "cell_type": "markdown",
   "metadata": {
    "id": "jUehXgCyIRdq"
   },
   "source": [
    "# Actividad - Proyecto práctico\n",
    "\n",
    "\n",
    "> La actividad se desarrollará en grupos pre-definidos de 2-3 alumnos. Se debe indicar los nombres en orden alfabético (de apellidos). Recordad que esta actividad se corresponde con un 30% de la nota final de la asignatura. Se debe entregar entregar el trabajo en la presente notebook.\n",
    "*   Alumno 1: Marta Castillo Galán\n",
    "*   Alumno 2: Unai Marín Etxebarria\n",
    "*   Alumno 3: Laura Molinos Mayo\n",
    "*   Alumno 4: Raúl Murillo Gallego\n",
    "\n",
    "\n",
    "\n",
    "\n"
   ]
  },
  {
   "cell_type": "markdown",
   "metadata": {
    "id": "4hzP_5ZuGb2X"
   },
   "source": [
    "---\n",
    "## **PARTE 2**. Enunciado\n",
    "\n",
    "Consideraciones a tener en cuenta:\n",
    "\n",
    "- El entorno sobre el que trabajaremos será _SpaceInvaders-v0_ y el algoritmo que usaremos será _DQN_.\n",
    "\n",
    "- Para nuestro ejercicio, el requisito mínimo será alcanzado cuando el agente consiga una **media de recompensa por encima de 20 puntos en modo test**. Por ello, esta media de la recompensa se calculará a partir del código de test en la última celda del notebook.\n",
    "\n",
    "Este proyecto práctico consta de tres partes:\n",
    "\n",
    "1.   Implementar la red neuronal que se usará en la solución\n",
    "2.   Implementar las distintas piezas de la solución DQN\n",
    "3.   Justificar la respuesta en relación a los resultados obtenidos\n",
    "\n",
    "**Rúbrica**: Se valorará la originalidad en la solución aportada, así como la capacidad de discutir los resultados de forma detallada. El requisito mínimo servirá para aprobar la actividad, bajo premisa de que la discusión del resultado sera apropiada.\n",
    "\n",
    "IMPORTANTE:\n",
    "\n",
    "* Si no se consigue una puntuación óptima, responder sobre la mejor puntuación obtenida.\n",
    "* Para entrenamientos largos, recordad que podéis usar checkpoints de vuestros modelos para retomar los entrenamientos. En este caso, recordad cambiar los parámetros adecuadamente (sobre todo los relacionados con el proceso de exploración).\n",
    "* Se deberá entregar unicamente el notebook y los pesos del mejor modelo en un fichero .zip, de forma organizada.\n",
    "* Cada alumno deberá de subir la solución de forma individual."
   ]
  },
  {
   "cell_type": "code",
   "execution_count": 10,
   "metadata": {
    "id": "UbVRjvHCJ8UF"
   },
   "outputs": [],
   "source": [
    "#if IN_COLAB:\n",
    "  #%pip install gym==0.17.3\n",
    "  #%pip install git+https://github.com/Kojoley/atari-py.git\n",
    "  #%pip install keras-rl2==1.0.5\n",
    "  #%pip install tensorflow==2.8\n",
    "#else:\n",
    "  #%pip install gym==0.17.3\n",
    "  #%pip install git+https://github.com/Kojoley/atari-py.git\n",
    "  #%pip install pyglet==1.5.0\n",
    "  #%pip install h5py==3.1.0\n",
    "  #%pip install Pillow==9.5.0\n",
    "  #%pip install keras-rl2==1.0.5\n",
    "  #%pip install Keras==2.2.4\n",
    "  #%pip install tensorflow==2.5.3\n",
    "  ##%pip install torch==2.0.1\n",
    "  #%pip install agents==1.4.0"
   ]
  },
  {
   "cell_type": "markdown",
   "metadata": {
    "id": "6_b3mzw8IzJP"
   },
   "source": [
    "---\n",
    "## **PARTE 3**. Desarrollo y preguntas"
   ]
  },
  {
   "cell_type": "markdown",
   "metadata": {
    "id": "duPmUNOVGb2a"
   },
   "source": [
    "#### Importar librerías"
   ]
  },
  {
   "cell_type": "code",
   "execution_count": 11,
   "metadata": {
    "id": "j3eRhgI-Gb2a"
   },
   "outputs": [],
   "source": [
    "from __future__ import division\n",
    "\n",
    "from PIL import Image\n",
    "import numpy as np\n",
    "import gym\n",
    "\n",
    "from tensorflow.keras.models import Sequential\n",
    "from tensorflow.keras.layers import Dense, Activation, Flatten, Convolution2D, Permute, Conv2D\n",
    "from tensorflow.keras.optimizers import Adam\n",
    "import tensorflow.keras.backend as K\n",
    "\n",
    "from rl.agents.dqn import DQNAgent\n",
    "from rl.policy import LinearAnnealedPolicy, BoltzmannQPolicy, EpsGreedyQPolicy\n",
    "from rl.memory import SequentialMemory\n",
    "from rl.core import Processor\n",
    "from rl.callbacks import FileLogger, ModelIntervalCheckpoint"
   ]
  },
  {
   "cell_type": "markdown",
   "metadata": {
    "id": "f4jgQjzoGb2a"
   },
   "source": [
    "#### Configuración base"
   ]
  },
  {
   "cell_type": "code",
   "execution_count": 12,
   "metadata": {
    "id": "jwOE6I_KGb2a"
   },
   "outputs": [],
   "source": [
    "INPUT_SHAPE = (84, 84)\n",
    "WINDOW_LENGTH = 4\n",
    "\n",
    "env_name = 'SpaceInvaders-v0'\n",
    "env = gym.make(env_name)\n",
    "\n",
    "np.random.seed(123)\n",
    "env.seed(123)\n",
    "nb_actions = env.action_space.n"
   ]
  },
  {
   "cell_type": "code",
   "execution_count": 13,
   "metadata": {
    "id": "9jGEZUcpGb2a"
   },
   "outputs": [],
   "source": [
    "class AtariProcessor(Processor):\n",
    "    def process_observation(self, observation):\n",
    "        assert observation.ndim == 3  # (height, width, channel)\n",
    "        img = Image.fromarray(observation)\n",
    "        img = img.resize(INPUT_SHAPE).convert('L')\n",
    "        processed_observation = np.array(img)\n",
    "        assert processed_observation.shape == INPUT_SHAPE\n",
    "        return processed_observation.astype('uint8')\n",
    "\n",
    "    def process_state_batch(self, batch):\n",
    "        processed_batch = batch.astype('float32') / 255.\n",
    "        return processed_batch\n",
    "\n",
    "    def process_reward(self, reward):\n",
    "        return np.clip(reward, -1., 1.)"
   ]
  },
  {
   "cell_type": "markdown",
   "metadata": {
    "id": "7yitXTADGb2b"
   },
   "source": [
    "1. Implementación de la red neuronal"
   ]
  },
  {
   "cell_type": "code",
   "execution_count": 14,
   "metadata": {
    "id": "O4GKrfWSGb2b"
   },
   "outputs": [],
   "source": [
    "\n",
    "from tensorflow.keras.layers import  Dropout\n",
    "\n",
    "def build_model(window_length, input_shape, nb_actions):\n",
    "    model = Sequential()\n",
    "    model.add(Permute((2, 3, 1), input_shape=(window_length,) + input_shape))  # (C, H, W) → (H, W, C)\n",
    "\n",
    "    # Convolucional 1\n",
    "    model.add(Conv2D(32, (8, 8), strides=(4, 4), padding='same'))\n",
    "    model.add(Activation('relu'))\n",
    "    \n",
    "    # Convolucional 2\n",
    "    model.add(Conv2D(64, (4, 4), strides=(2, 2), padding='same'))\n",
    "    model.add(Activation('relu'))\n",
    "    \n",
    "    # Convolucional 3 (ligero cambio en tamaño del kernel)\n",
    "    model.add(Conv2D(512, (3, 3), strides=(1, 1), padding='same'))\n",
    "    model.add(Activation('relu'))\n",
    "\n",
    "    model.add(Flatten())\n",
    "\n",
    "    # Capa densa + regularización\n",
    "    model.add(Dense(512))\n",
    "    model.add(Activation('relu'))\n",
    "    model.add(Dropout(0.25))  # 25% dropout\n",
    "\n",
    "    # Salida\n",
    "    model.add(Dense(nb_actions))\n",
    "    model.add(Activation('linear'))\n",
    "    \n",
    "    return model\n"
   ]
  },
  {
   "cell_type": "code",
   "execution_count": 15,
   "metadata": {},
   "outputs": [],
   "source": [
    "from rl.policy import Policy\n",
    "import numpy as np\n",
    "import random\n",
    "\n",
    "class FireBiasPolicy(Policy):\n",
    "    def __init__(self, fire_action_idx, nb_steps_bias=10000):\n",
    "        self.fire_action = fire_action_idx\n",
    "        self.step = 0\n",
    "        self.nb_steps_bias = nb_steps_bias\n",
    "\n",
    "    def select_action(self, q_values):\n",
    "        self.step += 1\n",
    "\n",
    "        if self.step < self.nb_steps_bias:\n",
    "            # Alta probabilidad de disparar (por ejemplo 30%)\n",
    "            if random.random() < 0.3:\n",
    "                return self.fire_action\n",
    "\n",
    "        # Si no, acción greedy\n",
    "        return np.argmax(q_values)\n"
   ]
  },
  {
   "cell_type": "markdown",
   "metadata": {
    "id": "OB9-_5HPGb2b"
   },
   "source": [
    "2. Implementación de la solución DQN"
   ]
  },
  {
   "cell_type": "markdown",
   "metadata": {},
   "source": [
    "En este intento, tratamos de combinar la capacidad de un modelo anterior para esquivar las balas contrarias con una estrategia predisopuesta mayoritariamente a que el agente dispare. Haremos fine tuning a los pesos del modelo \"dqn_spaceinvaders_weights_aprende_a_esquivar\". El objetivo es por lo tanto que el agente aprenda lo mejor de ambas estrategias."
   ]
  },
  {
   "cell_type": "code",
   "execution_count": 21,
   "metadata": {
    "id": "foSlxWH1Gb2b"
   },
   "outputs": [
    {
     "name": "stdout",
     "output_type": "stream",
     "text": [
      "Model: \"sequential_2\"\n",
      "_________________________________________________________________\n",
      "Layer (type)                 Output Shape              Param #   \n",
      "=================================================================\n",
      "permute_2 (Permute)          (None, 84, 84, 4)         0         \n",
      "_________________________________________________________________\n",
      "conv2d_3 (Conv2D)            (None, 21, 21, 32)        8224      \n",
      "_________________________________________________________________\n",
      "activation_5 (Activation)    (None, 21, 21, 32)        0         \n",
      "_________________________________________________________________\n",
      "conv2d_4 (Conv2D)            (None, 11, 11, 64)        32832     \n",
      "_________________________________________________________________\n",
      "activation_6 (Activation)    (None, 11, 11, 64)        0         \n",
      "_________________________________________________________________\n",
      "conv2d_5 (Conv2D)            (None, 11, 11, 512)       295424    \n",
      "_________________________________________________________________\n",
      "activation_7 (Activation)    (None, 11, 11, 512)       0         \n",
      "_________________________________________________________________\n",
      "flatten_1 (Flatten)          (None, 61952)             0         \n",
      "_________________________________________________________________\n",
      "dense_2 (Dense)              (None, 512)               31719936  \n",
      "_________________________________________________________________\n",
      "activation_8 (Activation)    (None, 512)               0         \n",
      "_________________________________________________________________\n",
      "dropout_1 (Dropout)          (None, 512)               0         \n",
      "_________________________________________________________________\n",
      "dense_3 (Dense)              (None, 6)                 3078      \n",
      "_________________________________________________________________\n",
      "activation_9 (Activation)    (None, 6)                 0         \n",
      "=================================================================\n",
      "Total params: 32,059,494\n",
      "Trainable params: 32,059,494\n",
      "Non-trainable params: 0\n",
      "_________________________________________________________________\n",
      "None\n",
      "['NOOP', 'FIRE', 'RIGHT', 'LEFT', 'RIGHTFIRE', 'LEFTFIRE']\n"
     ]
    }
   ],
   "source": [
    "# Preparamos memoria y estrategia\n",
    "memory = SequentialMemory(limit=100000, window_length=WINDOW_LENGTH)\n",
    "#policy = EpsGreedyQPolicy()  # Exploración simple\n",
    "policy = FireBiasPolicy(fire_action_idx=1, nb_steps_bias=20000)\n",
    "# Creamos el modelo\n",
    "model = build_model(WINDOW_LENGTH, INPUT_SHAPE, nb_actions)\n",
    "# 2. Luego cargas los pesos\n",
    "model.load_weights('dqn_spaceinvaders_weights_aprende_a_esquivar.h5f')\n",
    "print(model.summary())\n",
    "\n",
    "# Creamos el procesador\n",
    "processor = AtariProcessor()\n",
    "print(env.unwrapped.get_action_meanings())\n",
    "\n",
    "#Creamos el agente\n",
    "dqn = DQNAgent(model=model,\n",
    "               nb_actions=nb_actions,\n",
    "               policy=policy,\n",
    "               memory=memory,\n",
    "               processor=processor,\n",
    "               nb_steps_warmup=10000,\n",
    "               gamma=0.99,\n",
    "               target_model_update=10000,\n",
    "               train_interval=4,\n",
    "               delta_clip=1.0)\n",
    "\n",
    "dqn.compile(Adam(learning_rate=1e-4), metrics=['mae'])"
   ]
  },
  {
   "cell_type": "code",
   "execution_count": 17,
   "metadata": {},
   "outputs": [
    {
     "name": "stdout",
     "output_type": "stream",
     "text": [
      "Training for 20000 steps ...\n"
     ]
    },
    {
     "name": "stderr",
     "output_type": "stream",
     "text": [
      "C:\\Users\\Unai\\anaconda3\\envs\\miar_rl\\lib\\site-packages\\tensorflow\\python\\keras\\engine\\training.py:2424: UserWarning: `Model.state_updates` will be removed in a future version. This property should not be used in TensorFlow 2.0, as `updates` are applied automatically.\n",
      "  warnings.warn('`Model.state_updates` will be removed in a future version. '\n"
     ]
    },
    {
     "name": "stdout",
     "output_type": "stream",
     "text": [
      "   531/20000: episode: 1, duration: 14.939s, episode steps: 531, steps per second:  36, episode reward: 11.000, mean reward:  0.021 [ 0.000,  1.000], mean action: 1.908 [0.000, 5.000],  loss: --, mae: --, mean_q: --\n",
      "  1152/20000: episode: 2, duration: 13.169s, episode steps: 621, steps per second:  47, episode reward: 14.000, mean reward:  0.023 [ 0.000,  1.000], mean action: 1.646 [0.000, 5.000],  loss: --, mae: --, mean_q: --\n",
      "  1734/20000: episode: 3, duration: 11.412s, episode steps: 582, steps per second:  51, episode reward: 12.000, mean reward:  0.021 [ 0.000,  1.000], mean action: 1.667 [0.000, 5.000],  loss: --, mae: --, mean_q: --\n",
      "  2954/20000: episode: 4, duration: 23.715s, episode steps: 1220, steps per second:  51, episode reward: 17.000, mean reward:  0.014 [ 0.000,  1.000], mean action: 1.645 [0.000, 5.000],  loss: --, mae: --, mean_q: --\n",
      "  3544/20000: episode: 5, duration: 12.178s, episode steps: 590, steps per second:  48, episode reward: 10.000, mean reward:  0.017 [ 0.000,  1.000], mean action: 1.714 [0.000, 5.000],  loss: --, mae: --, mean_q: --\n",
      "  4163/20000: episode: 6, duration: 12.918s, episode steps: 619, steps per second:  48, episode reward: 13.000, mean reward:  0.021 [ 0.000,  1.000], mean action: 1.848 [0.000, 5.000],  loss: --, mae: --, mean_q: --\n",
      "  5193/20000: episode: 7, duration: 20.918s, episode steps: 1030, steps per second:  49, episode reward: 18.000, mean reward:  0.017 [ 0.000,  1.000], mean action: 1.633 [0.000, 5.000],  loss: --, mae: --, mean_q: --\n",
      "  6721/20000: episode: 8, duration: 36.535s, episode steps: 1528, steps per second:  42, episode reward: 24.000, mean reward:  0.016 [ 0.000,  1.000], mean action: 1.651 [0.000, 5.000],  loss: --, mae: --, mean_q: --\n",
      "  7187/20000: episode: 9, duration: 9.372s, episode steps: 466, steps per second:  50, episode reward:  6.000, mean reward:  0.013 [ 0.000,  1.000], mean action: 1.878 [0.000, 4.000],  loss: --, mae: --, mean_q: --\n",
      "  8155/20000: episode: 10, duration: 18.446s, episode steps: 968, steps per second:  52, episode reward: 16.000, mean reward:  0.017 [ 0.000,  1.000], mean action: 1.807 [0.000, 5.000],  loss: --, mae: --, mean_q: --\n",
      "  8832/20000: episode: 11, duration: 13.162s, episode steps: 677, steps per second:  51, episode reward: 15.000, mean reward:  0.022 [ 0.000,  1.000], mean action: 2.109 [0.000, 5.000],  loss: --, mae: --, mean_q: --\n",
      "  9345/20000: episode: 12, duration: 10.205s, episode steps: 513, steps per second:  50, episode reward:  8.000, mean reward:  0.016 [ 0.000,  1.000], mean action: 1.766 [0.000, 5.000],  loss: --, mae: --, mean_q: --\n"
     ]
    },
    {
     "name": "stderr",
     "output_type": "stream",
     "text": [
      "C:\\Users\\Unai\\anaconda3\\envs\\miar_rl\\lib\\site-packages\\tensorflow\\python\\keras\\engine\\training.py:2424: UserWarning: `Model.state_updates` will be removed in a future version. This property should not be used in TensorFlow 2.0, as `updates` are applied automatically.\n",
      "  warnings.warn('`Model.state_updates` will be removed in a future version. '\n"
     ]
    },
    {
     "name": "stdout",
     "output_type": "stream",
     "text": [
      " 10225/20000: episode: 13, duration: 41.085s, episode steps: 880, steps per second:  21, episode reward: 20.000, mean reward:  0.023 [ 0.000,  1.000], mean action: 1.719 [0.000, 5.000],  loss: 0.007922, mae: 0.029687, mean_q: 0.060974\n",
      " 11067/20000: episode: 14, duration: 96.972s, episode steps: 842, steps per second:   9, episode reward: 20.000, mean reward:  0.024 [ 0.000,  1.000], mean action: 1.467 [0.000, 5.000],  loss: 0.007545, mae: 0.035066, mean_q: 0.062506\n",
      " 12175/20000: episode: 15, duration: 128.972s, episode steps: 1108, steps per second:   9, episode reward: 22.000, mean reward:  0.020 [ 0.000,  1.000], mean action: 1.609 [0.000, 5.000],  loss: 0.008086, mae: 0.038569, mean_q: 0.065566\n",
      " 13300/20000: episode: 16, duration: 129.316s, episode steps: 1125, steps per second:   9, episode reward: 20.000, mean reward:  0.018 [ 0.000,  1.000], mean action: 1.467 [0.000, 5.000],  loss: 0.009048, mae: 0.041562, mean_q: 0.070368\n",
      " 13663/20000: episode: 17, duration: 42.607s, episode steps: 363, steps per second:   9, episode reward:  4.000, mean reward:  0.011 [ 0.000,  1.000], mean action: 1.050 [0.000, 5.000],  loss: 0.010918, mae: 0.041742, mean_q: 0.073151\n",
      " 14054/20000: episode: 18, duration: 49.457s, episode steps: 391, steps per second:   8, episode reward:  5.000, mean reward:  0.013 [ 0.000,  1.000], mean action: 1.097 [0.000, 4.000],  loss: 0.008585, mae: 0.041377, mean_q: 0.071228\n",
      " 14625/20000: episode: 19, duration: 70.122s, episode steps: 571, steps per second:   8, episode reward:  4.000, mean reward:  0.007 [ 0.000,  1.000], mean action: 1.834 [0.000, 5.000],  loss: 0.008020, mae: 0.041208, mean_q: 0.071936\n",
      " 15232/20000: episode: 20, duration: 76.869s, episode steps: 607, steps per second:   8, episode reward: 12.000, mean reward:  0.020 [ 0.000,  1.000], mean action: 1.751 [0.000, 4.000],  loss: 0.008753, mae: 0.045521, mean_q: 0.077437\n",
      " 15893/20000: episode: 21, duration: 79.916s, episode steps: 661, steps per second:   8, episode reward: 12.000, mean reward:  0.018 [ 0.000,  1.000], mean action: 1.740 [0.000, 5.000],  loss: 0.008018, mae: 0.044968, mean_q: 0.072705\n",
      " 16476/20000: episode: 22, duration: 69.513s, episode steps: 583, steps per second:   8, episode reward: 10.000, mean reward:  0.017 [ 0.000,  1.000], mean action: 2.492 [0.000, 5.000],  loss: 0.008170, mae: 0.048771, mean_q: 0.084385\n",
      " 17140/20000: episode: 23, duration: 79.047s, episode steps: 664, steps per second:   8, episode reward: 14.000, mean reward:  0.021 [ 0.000,  1.000], mean action: 2.167 [0.000, 5.000],  loss: 0.007003, mae: 0.044715, mean_q: 0.076472\n",
      " 17986/20000: episode: 24, duration: 107.194s, episode steps: 846, steps per second:   8, episode reward: 19.000, mean reward:  0.022 [ 0.000,  1.000], mean action: 1.788 [0.000, 5.000],  loss: 0.008550, mae: 0.046326, mean_q: 0.077234\n",
      " 19206/20000: episode: 25, duration: 180.180s, episode steps: 1220, steps per second:   7, episode reward: 21.000, mean reward:  0.017 [ 0.000,  1.000], mean action: 1.816 [0.000, 5.000],  loss: 0.008373, mae: 0.048491, mean_q: 0.081174\n",
      "done, took 1488.699 seconds\n"
     ]
    },
    {
     "data": {
      "text/plain": [
       "<tensorflow.python.keras.callbacks.History at 0x2564bdb63d0>"
      ]
     },
     "execution_count": 17,
     "metadata": {},
     "output_type": "execute_result"
    }
   ],
   "source": [
    "# Entrenamiento inicial\n",
    "# (0.0.0.2) Pasamos de 5000 a 20.000 pasos\n",
    "dqn.fit(env, nb_steps=20000, visualize=False, verbose=2)"
   ]
  },
  {
   "cell_type": "code",
   "execution_count": null,
   "metadata": {},
   "outputs": [
    {
     "name": "stdout",
     "output_type": "stream",
     "text": [
      "Testing for 10 episodes ...\n"
     ]
    },
    {
     "name": "stderr",
     "output_type": "stream",
     "text": [
      "C:\\Users\\Unai\\anaconda3\\envs\\miar_rl\\lib\\site-packages\\tensorflow\\python\\keras\\engine\\training.py:2424: UserWarning: `Model.state_updates` will be removed in a future version. This property should not be used in TensorFlow 2.0, as `updates` are applied automatically.\n",
      "  warnings.warn('`Model.state_updates` will be removed in a future version. '\n"
     ]
    },
    {
     "name": "stdout",
     "output_type": "stream",
     "text": [
      "Episode 1: reward: 17.000, steps: 751\n",
      "Episode 2: reward: 14.000, steps: 1162\n",
      "Episode 3: reward: 19.000, steps: 1263\n",
      "Episode 4: reward: 16.000, steps: 797\n",
      "Episode 5: reward: 10.000, steps: 616\n",
      "Episode 6: reward: 17.000, steps: 1263\n",
      "Episode 7: reward: 12.000, steps: 1127\n"
     ]
    }
   ],
   "source": [
    "#Evaluación en modo test\n",
    "scores = dqn.test(env, nb_episodes=10, visualize=False)\n",
    "print(\"Media de recompensa:\", np.mean(scores.history['episode_reward']))"
   ]
  },
  {
   "cell_type": "code",
   "execution_count": 19,
   "metadata": {},
   "outputs": [],
   "source": [
    "#Guardado de pesos\n",
    "STRESRSRSRdqn.save_weights('dqn_spaceinvaders_weights.h5f', overwrite=True)"
   ]
  },
  {
   "cell_type": "code",
   "execution_count": 20,
   "metadata": {
    "id": "OHYryKd1Gb2b"
   },
   "outputs": [],
   "source": [
    "## Testing part to calculate the mean reward\n",
    "#weights_filename = 'dqn_{}_weights.h5f'.format(env_name)\n",
    "#dqn.load_weights(weights_filename)\n",
    "#dqn.test(env, nb_episodes=10, visualize=False)"
   ]
  },
  {
   "cell_type": "markdown",
   "metadata": {
    "id": "-NAlu8b1Gb2b"
   },
   "source": [
    "3. Justificación de los parámetros seleccionados y de los resultados obtenidos"
   ]
  },
  {
   "cell_type": "markdown",
   "metadata": {
    "id": "ANFQiicXK3sO"
   },
   "source": [
    "---"
   ]
  }
 ],
 "metadata": {
  "colab": {
   "provenance": []
  },
  "kernelspec": {
   "display_name": "Python [miar_rl]",
   "language": "python",
   "name": "miar_rl"
  },
  "language_info": {
   "codemirror_mode": {
    "name": "ipython",
    "version": 3
   },
   "file_extension": ".py",
   "mimetype": "text/x-python",
   "name": "python",
   "nbconvert_exporter": "python",
   "pygments_lexer": "ipython3",
   "version": "3.8.20"
  }
 },
 "nbformat": 4,
 "nbformat_minor": 4
}
