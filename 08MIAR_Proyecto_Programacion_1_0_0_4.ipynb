{
 "cells": [
  {
   "cell_type": "markdown",
   "metadata": {
    "id": "jUehXgCyIRdq"
   },
   "source": [
    "# Actividad - Proyecto práctico\n",
    "\n",
    "\n",
    "> La actividad se desarrollará en grupos pre-definidos de 2-3 alumnos. Se debe indicar los nombres en orden alfabético (de apellidos). Recordad que esta actividad se corresponde con un 30% de la nota final de la asignatura. Se debe entregar entregar el trabajo en la presente notebook.\n",
    "*   Alumno 1: Marta Castillo Galán\n",
    "*   Alumno 2: Unai Marín Etxebarria\n",
    "*   Alumno 3: Laura Molinos Mayo\n",
    "*   Alumno 4: Raúl Murillo Gallego\n",
    "\n",
    "\n",
    "\n",
    "\n"
   ]
  },
  {
   "cell_type": "markdown",
   "metadata": {
    "id": "4hzP_5ZuGb2X"
   },
   "source": [
    "---\n",
    "## **PARTE 2**. Enunciado\n",
    "\n",
    "Consideraciones a tener en cuenta:\n",
    "\n",
    "- El entorno sobre el que trabajaremos será _SpaceInvaders-v0_ y el algoritmo que usaremos será _DQN_.\n",
    "\n",
    "- Para nuestro ejercicio, el requisito mínimo será alcanzado cuando el agente consiga una **media de recompensa por encima de 20 puntos en modo test**. Por ello, esta media de la recompensa se calculará a partir del código de test en la última celda del notebook.\n",
    "\n",
    "Este proyecto práctico consta de tres partes:\n",
    "\n",
    "1.   Implementar la red neuronal que se usará en la solución\n",
    "2.   Implementar las distintas piezas de la solución DQN\n",
    "3.   Justificar la respuesta en relación a los resultados obtenidos\n",
    "\n",
    "**Rúbrica**: Se valorará la originalidad en la solución aportada, así como la capacidad de discutir los resultados de forma detallada. El requisito mínimo servirá para aprobar la actividad, bajo premisa de que la discusión del resultado sera apropiada.\n",
    "\n",
    "IMPORTANTE:\n",
    "\n",
    "* Si no se consigue una puntuación óptima, responder sobre la mejor puntuación obtenida.\n",
    "* Para entrenamientos largos, recordad que podéis usar checkpoints de vuestros modelos para retomar los entrenamientos. En este caso, recordad cambiar los parámetros adecuadamente (sobre todo los relacionados con el proceso de exploración).\n",
    "* Se deberá entregar unicamente el notebook y los pesos del mejor modelo en un fichero .zip, de forma organizada.\n",
    "* Cada alumno deberá de subir la solución de forma individual."
   ]
  },
  {
   "cell_type": "code",
   "execution_count": null,
   "metadata": {
    "id": "UbVRjvHCJ8UF"
   },
   "outputs": [],
   "source": [
    "#if IN_COLAB:\n",
    "  #%pip install gym==0.17.3\n",
    "  #%pip install git+https://github.com/Kojoley/atari-py.git\n",
    "  #%pip install keras-rl2==1.0.5\n",
    "  #%pip install tensorflow==2.8\n",
    "#else:\n",
    "  #%pip install gym==0.17.3\n",
    "  #%pip install git+https://github.com/Kojoley/atari-py.git\n",
    "  #%pip install pyglet==1.5.0\n",
    "  #%pip install h5py==3.1.0\n",
    "  #%pip install Pillow==9.5.0\n",
    "  #%pip install keras-rl2==1.0.5\n",
    "  #%pip install Keras==2.2.4\n",
    "  #%pip install tensorflow==2.5.3\n",
    "  ##%pip install torch==2.0.1\n",
    "  #%pip install agents==1.4.0"
   ]
  },
  {
   "cell_type": "markdown",
   "metadata": {
    "id": "6_b3mzw8IzJP"
   },
   "source": [
    "---\n",
    "## **PARTE 3**. Desarrollo y preguntas"
   ]
  },
  {
   "cell_type": "markdown",
   "metadata": {
    "id": "duPmUNOVGb2a"
   },
   "source": [
    "#### Importar librerías"
   ]
  },
  {
   "cell_type": "code",
   "execution_count": 1,
   "metadata": {
    "id": "j3eRhgI-Gb2a"
   },
   "outputs": [],
   "source": [
    "from __future__ import division\n",
    "\n",
    "from PIL import Image\n",
    "import numpy as np\n",
    "import gym\n",
    "\n",
    "from tensorflow.keras.models import Sequential\n",
    "from tensorflow.keras.layers import Dense, Activation, Flatten, Convolution2D, Permute, BatchNormalization, Dropout\n",
    "from tensorflow.keras.optimizers import Adam\n",
    "import tensorflow.keras.backend as K\n",
    "\n",
    "from rl.agents.dqn import DQNAgent\n",
    "from rl.policy import LinearAnnealedPolicy, BoltzmannQPolicy, EpsGreedyQPolicy\n",
    "from rl.memory import SequentialMemory\n",
    "from rl.core import Processor\n",
    "from rl.callbacks import FileLogger, ModelIntervalCheckpoint\n",
    "\n",
    "from tensorflow.keras.optimizers import RMSprop\n",
    "import matplotlib.pyplot as plt"
   ]
  },
  {
   "cell_type": "markdown",
   "metadata": {
    "id": "f4jgQjzoGb2a"
   },
   "source": [
    "#### Configuración base"
   ]
  },
  {
   "cell_type": "code",
   "execution_count": 2,
   "metadata": {
    "id": "jwOE6I_KGb2a"
   },
   "outputs": [],
   "source": [
    "INPUT_SHAPE = (84, 84)\n",
    "WINDOW_LENGTH = 4\n",
    "\n",
    "env_name = 'SpaceInvaders-v0'\n",
    "env = gym.make(env_name)\n",
    "\n",
    "np.random.seed(123)\n",
    "env.seed(123)\n",
    "nb_actions = env.action_space.n"
   ]
  },
  {
   "cell_type": "code",
   "execution_count": 3,
   "metadata": {
    "id": "9jGEZUcpGb2a"
   },
   "outputs": [],
   "source": [
    "class AtariProcessor(Processor):\n",
    "    def process_observation(self, observation):\n",
    "        assert observation.ndim == 3  # (height, width, channel)\n",
    "        img = Image.fromarray(observation)\n",
    "        img = img.resize(INPUT_SHAPE).convert('L')\n",
    "        processed_observation = np.array(img)\n",
    "        assert processed_observation.shape == INPUT_SHAPE\n",
    "        return processed_observation.astype('uint8')\n",
    "\n",
    "    def process_state_batch(self, batch):\n",
    "        processed_batch = batch.astype('float32') / 255.\n",
    "        return processed_batch\n",
    "\n",
    "    def process_reward(self, reward):\n",
    "        return np.clip(reward, -1., 1.)"
   ]
  },
  {
   "cell_type": "markdown",
   "metadata": {
    "id": "7yitXTADGb2b"
   },
   "source": [
    "1. Implementación de la red neuronal"
   ]
  },
  {
   "cell_type": "code",
   "execution_count": 4,
   "metadata": {
    "id": "O4GKrfWSGb2b"
   },
   "outputs": [],
   "source": [
    "def build_model(window_length, input_shape, nb_actions):\n",
    "    model = Sequential()\n",
    "    model.add(Permute((2, 3, 1), input_shape=(window_length,) + input_shape))  # (window, 84, 84) → (84, 84, window)\n",
    "    model.add(Convolution2D(32, (8, 8), strides=(4, 4), activation='relu'))\n",
    "    model.add(BatchNormalization())\n",
    "    model.add(Convolution2D(64, (4, 4), strides=(2, 2), activation='relu'))\n",
    "    model.add(BatchNormalization())\n",
    "    model.add(Convolution2D(64, (3, 3), strides=(1, 1), activation='relu'))\n",
    "    model.add(BatchNormalization())\n",
    "    model.add(Flatten())\n",
    "    model.add(Dense(512, activation='relu'))\n",
    "    model.add(Dropout(0.2))\n",
    "    model.add(Dense(nb_actions, activation='linear'))\n",
    "    return model"
   ]
  },
  {
   "cell_type": "markdown",
   "metadata": {
    "id": "OB9-_5HPGb2b"
   },
   "source": [
    "2. Implementación de la solución DQN"
   ]
  },
  {
   "cell_type": "code",
   "execution_count": 5,
   "metadata": {
    "id": "foSlxWH1Gb2b"
   },
   "outputs": [
    {
     "name": "stdout",
     "output_type": "stream",
     "text": [
      "WARNING:tensorflow:From C:\\Users\\laura\\anaconda3\\envs\\miar_rl\\lib\\site-packages\\tensorflow\\python\\keras\\layers\\normalization.py:534: _colocate_with (from tensorflow.python.framework.ops) is deprecated and will be removed in a future version.\n",
      "Instructions for updating:\n",
      "Colocations handled automatically by placer.\n",
      "Model: \"sequential\"\n",
      "_________________________________________________________________\n",
      "Layer (type)                 Output Shape              Param #   \n",
      "=================================================================\n",
      "permute (Permute)            (None, 84, 84, 4)         0         \n",
      "_________________________________________________________________\n",
      "conv2d (Conv2D)              (None, 20, 20, 32)        8224      \n",
      "_________________________________________________________________\n",
      "batch_normalization (BatchNo (None, 20, 20, 32)        128       \n",
      "_________________________________________________________________\n",
      "conv2d_1 (Conv2D)            (None, 9, 9, 64)          32832     \n",
      "_________________________________________________________________\n",
      "batch_normalization_1 (Batch (None, 9, 9, 64)          256       \n",
      "_________________________________________________________________\n",
      "conv2d_2 (Conv2D)            (None, 7, 7, 64)          36928     \n",
      "_________________________________________________________________\n",
      "batch_normalization_2 (Batch (None, 7, 7, 64)          256       \n",
      "_________________________________________________________________\n",
      "flatten (Flatten)            (None, 3136)              0         \n",
      "_________________________________________________________________\n",
      "dense (Dense)                (None, 512)               1606144   \n",
      "_________________________________________________________________\n",
      "dropout (Dropout)            (None, 512)               0         \n",
      "_________________________________________________________________\n",
      "dense_1 (Dense)              (None, 6)                 3078      \n",
      "=================================================================\n",
      "Total params: 1,687,846\n",
      "Trainable params: 1,687,526\n",
      "Non-trainable params: 320\n",
      "_________________________________________________________________\n",
      "None\n"
     ]
    }
   ],
   "source": [
    "# Preparamos memoria y política\n",
    "memory = SequentialMemory(limit=100000, window_length=WINDOW_LENGTH)\n",
    "policy = BoltzmannQPolicy(tau=1.0)\n",
    "\n",
    "# Creamos el modelo\n",
    "model = build_model(WINDOW_LENGTH, INPUT_SHAPE, nb_actions)\n",
    "print(model.summary())\n",
    "\n",
    "# Creamos el procesador\n",
    "processor = AtariProcessor()\n",
    "\n",
    "#Creamos el agente\n",
    "dqn = DQNAgent(model=model,\n",
    "               nb_actions=nb_actions,\n",
    "               policy=policy,\n",
    "               memory=memory,\n",
    "               processor=processor,\n",
    "               nb_steps_warmup = 20000,\n",
    "               gamma=0.99,\n",
    "               target_model_update=5000,\n",
    "               train_interval=5,\n",
    "               delta_clip=1.0,\n",
    "               enable_dueling_network=True, dueling_type='max')\n",
    "\n",
    "dqn.compile(Adam(learning_rate=0.001), metrics=['mae'])"
   ]
  },
  {
   "cell_type": "code",
   "execution_count": 6,
   "metadata": {},
   "outputs": [
    {
     "name": "stdout",
     "output_type": "stream",
     "text": [
      "Training for 200000 steps ...\n",
      "Interval 1 (0 steps performed)\n"
     ]
    },
    {
     "name": "stderr",
     "output_type": "stream",
     "text": [
      "C:\\Users\\laura\\anaconda3\\envs\\miar_rl\\lib\\site-packages\\tensorflow\\python\\keras\\engine\\training.py:2426: UserWarning: `Model.state_updates` will be removed in a future version. This property should not be used in TensorFlow 2.0, as `updates` are applied automatically.\n",
      "  warnings.warn('`Model.state_updates` will be removed in a future version. '\n"
     ]
    },
    {
     "name": "stdout",
     "output_type": "stream",
     "text": [
      "10000/10000 [==============================] - 46s 5ms/step - reward: 0.0132\n",
      "14 episodes - episode_reward: 8.786 [5.000, 16.000] - ale.lives: 2.139\n",
      "\n",
      "Interval 2 (10000 steps performed)\n",
      "10000/10000 [==============================] - 47s 5ms/step - reward: 0.0138\n",
      "14 episodes - episode_reward: 10.000 [4.000, 15.000] - ale.lives: 2.034\n",
      "\n",
      "Interval 3 (20000 steps performed)\n",
      "10000/10000 [==============================] - 289s 29ms/step - reward: 0.0129\n",
      "12 episodes - episode_reward: 11.167 [5.000, 30.000] - loss: 0.038 - mae: 0.062 - mean_q: 0.067 - ale.lives: 2.196\n",
      "\n",
      "Interval 4 (30000 steps performed)\n",
      "10000/10000 [==============================] - 282s 28ms/step - reward: 0.0125\n",
      "15 episodes - episode_reward: 8.400 [3.000, 22.000] - loss: 0.006 - mae: 0.052 - mean_q: 0.064 - ale.lives: 2.084\n",
      "\n",
      "Interval 5 (40000 steps performed)\n",
      "10000/10000 [==============================] - 283s 28ms/step - reward: 0.0153\n",
      "15 episodes - episode_reward: 10.133 [4.000, 19.000] - loss: 0.007 - mae: 0.084 - mean_q: 0.104 - ale.lives: 2.188\n",
      "\n",
      "Interval 6 (50000 steps performed)\n",
      "10000/10000 [==============================] - 287s 29ms/step - reward: 0.0133\n",
      "14 episodes - episode_reward: 9.286 [3.000, 15.000] - loss: 0.007 - mae: 0.118 - mean_q: 0.144 - ale.lives: 2.136\n",
      "\n",
      "Interval 7 (60000 steps performed)\n",
      "10000/10000 [==============================] - 296s 30ms/step - reward: 0.0145\n",
      "12 episodes - episode_reward: 11.833 [6.000, 25.000] - loss: 0.007 - mae: 0.155 - mean_q: 0.189 - ale.lives: 2.005\n",
      "\n",
      "Interval 8 (70000 steps performed)\n",
      "10000/10000 [==============================] - 288s 29ms/step - reward: 0.0125\n",
      "16 episodes - episode_reward: 8.250 [3.000, 12.000] - loss: 0.007 - mae: 0.190 - mean_q: 0.230 - ale.lives: 2.083\n",
      "\n",
      "Interval 9 (80000 steps performed)\n",
      "10000/10000 [==============================] - 297s 30ms/step - reward: 0.0115\n",
      "16 episodes - episode_reward: 7.125 [4.000, 18.000] - loss: 0.007 - mae: 0.218 - mean_q: 0.265 - ale.lives: 2.096\n",
      "\n",
      "Interval 10 (90000 steps performed)\n",
      "10000/10000 [==============================] - 291s 29ms/step - reward: 0.0130\n",
      "16 episodes - episode_reward: 7.812 [3.000, 19.000] - loss: 0.006 - mae: 0.243 - mean_q: 0.294 - ale.lives: 2.220\n",
      "\n",
      "Interval 11 (100000 steps performed)\n",
      "10000/10000 [==============================] - 292s 29ms/step - reward: 0.0145\n",
      "17 episodes - episode_reward: 7.882 [3.000, 12.000] - loss: 0.007 - mae: 0.267 - mean_q: 0.323 - ale.lives: 2.175\n",
      "\n",
      "Interval 12 (110000 steps performed)\n",
      "10000/10000 [==============================] - 292s 29ms/step - reward: 0.0140\n",
      "15 episodes - episode_reward: 9.867 [3.000, 19.000] - loss: 0.007 - mae: 0.296 - mean_q: 0.359 - ale.lives: 2.183\n",
      "\n",
      "Interval 13 (120000 steps performed)\n",
      "10000/10000 [==============================] - 294s 29ms/step - reward: 0.0139\n",
      "16 episodes - episode_reward: 9.062 [4.000, 16.000] - loss: 0.007 - mae: 0.334 - mean_q: 0.404 - ale.lives: 2.057\n",
      "\n",
      "Interval 14 (130000 steps performed)\n",
      "10000/10000 [==============================] - 294s 29ms/step - reward: 0.0150\n",
      "15 episodes - episode_reward: 8.667 [4.000, 17.000] - loss: 0.007 - mae: 0.369 - mean_q: 0.445 - ale.lives: 2.097\n",
      "\n",
      "Interval 15 (140000 steps performed)\n",
      "10000/10000 [==============================] - 292s 29ms/step - reward: 0.0149\n",
      "14 episodes - episode_reward: 12.357 [5.000, 25.000] - loss: 0.007 - mae: 0.393 - mean_q: 0.474 - ale.lives: 2.098\n",
      "\n",
      "Interval 16 (150000 steps performed)\n",
      "10000/10000 [==============================] - 292s 29ms/step - reward: 0.0129\n",
      "15 episodes - episode_reward: 8.467 [2.000, 24.000] - loss: 0.007 - mae: 0.420 - mean_q: 0.506 - ale.lives: 2.087\n",
      "\n",
      "Interval 17 (160000 steps performed)\n",
      "10000/10000 [==============================] - 292s 29ms/step - reward: 0.0152\n",
      "14 episodes - episode_reward: 9.214 [5.000, 19.000] - loss: 0.007 - mae: 0.441 - mean_q: 0.531 - ale.lives: 2.150\n",
      "\n",
      "Interval 18 (170000 steps performed)\n",
      "10000/10000 [==============================] - 294s 29ms/step - reward: 0.0134\n",
      "16 episodes - episode_reward: 9.875 [4.000, 27.000] - loss: 0.007 - mae: 0.468 - mean_q: 0.564 - ale.lives: 2.127\n",
      "\n",
      "Interval 19 (180000 steps performed)\n",
      "10000/10000 [==============================] - 293s 29ms/step - reward: 0.0130\n",
      "13 episodes - episode_reward: 9.231 [3.000, 19.000] - loss: 0.007 - mae: 0.492 - mean_q: 0.592 - ale.lives: 2.125\n",
      "\n",
      "Interval 20 (190000 steps performed)\n",
      "10000/10000 [==============================] - 293s 29ms/step - reward: 0.0152\n",
      "done, took 5334.146 seconds\n"
     ]
    }
   ],
   "source": [
    "history=dqn.fit(env, nb_steps=200000, visualize=False, verbose=1)"
   ]
  },
  {
   "cell_type": "code",
   "execution_count": 7,
   "metadata": {},
   "outputs": [
    {
     "name": "stderr",
     "output_type": "stream",
     "text": [
      "No artists with labels found to put in legend.  Note that artists whose label start with an underscore are ignored when legend() is called with no argument.\n"
     ]
    },
    {
     "data": {
      "image/png": "[encoded data removed]",
      "text/plain": [
       "<Figure size 640x480 with 1 Axes>"
      ]
     },
     "metadata": {},
     "output_type": "display_data"
    }
   ],
   "source": [
    "# Obtener las métricas\n",
    "rewards = history.history['episode_reward']\n",
    "steps = history.history['nb_steps']\n",
    "\n",
    "# Crear el gráfico\n",
    "plt.plot(steps, rewards)\n",
    "plt.xlabel('Steps')\n",
    "plt.ylabel('Rewards')\n",
    "plt.legend()\n",
    "plt.grid(True)\n",
    "plt.show()"
   ]
  },
  {
   "cell_type": "code",
   "execution_count": 8,
   "metadata": {},
   "outputs": [
    {
     "name": "stdout",
     "output_type": "stream",
     "text": [
      "Testing for 20 episodes ...\n",
      "Episode 1: reward: 17.000, steps: 975\n",
      "Episode 2: reward: 17.000, steps: 961\n",
      "Episode 3: reward: 17.000, steps: 969\n",
      "Episode 4: reward: 17.000, steps: 963\n",
      "Episode 5: reward: 17.000, steps: 977\n",
      "Episode 6: reward: 17.000, steps: 978\n",
      "Episode 7: reward: 17.000, steps: 971\n",
      "Episode 8: reward: 17.000, steps: 955\n",
      "Episode 9: reward: 17.000, steps: 959\n",
      "Episode 10: reward: 17.000, steps: 975\n",
      "Episode 11: reward: 17.000, steps: 965\n",
      "Episode 12: reward: 17.000, steps: 979\n",
      "Episode 13: reward: 17.000, steps: 974\n",
      "Episode 14: reward: 17.000, steps: 970\n",
      "Episode 15: reward: 17.000, steps: 967\n",
      "Episode 16: reward: 17.000, steps: 967\n",
      "Episode 17: reward: 17.000, steps: 962\n",
      "Episode 18: reward: 17.000, steps: 976\n",
      "Episode 19: reward: 17.000, steps: 975\n",
      "Episode 20: reward: 17.000, steps: 979\n",
      "Media de recompensa: 17.0\n"
     ]
    }
   ],
   "source": [
    "#Evaluación en modo test\n",
    "scores = dqn.test(env, nb_episodes=20, visualize=False)\n",
    "print(\"Media de recompensa:\", np.mean(scores.history['episode_reward']))"
   ]
  },
  {
   "cell_type": "code",
   "execution_count": 9,
   "metadata": {},
   "outputs": [],
   "source": [
    "#Guardado de pesos\n",
    "dqn.save_weights('dqn_spaceinvaders_weights.h5f', overwrite=True)"
   ]
  },
  {
   "cell_type": "markdown",
   "metadata": {
    "id": "-NAlu8b1Gb2b"
   },
   "source": [
    "3. Justificación de los parámetros seleccionados y de los resultados obtenidos"
   ]
  },
  {
   "cell_type": "markdown",
   "metadata": {
    "id": "ANFQiicXK3sO"
   },
   "source": [
    "---"
   ]
  }
 ],
 "metadata": {
  "colab": {
   "provenance": []
  },
  "kernelspec": {
   "display_name": "Python [miar_rl]",
   "language": "python",
   "name": "miar_rl"
  },
  "language_info": {
   "codemirror_mode": {
    "name": "ipython",
    "version": 3
   },
   "file_extension": ".py",
   "mimetype": "text/x-python",
   "name": "python",
   "nbconvert_exporter": "python",
   "pygments_lexer": "ipython3",
   "version": "3.8.0"
  }
 },
 "nbformat": 4,
 "nbformat_minor": 4
}
