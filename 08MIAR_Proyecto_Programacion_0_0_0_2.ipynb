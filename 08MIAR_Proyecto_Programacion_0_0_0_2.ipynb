{
 "cells": [
  {
   "cell_type": "markdown",
   "metadata": {
    "id": "jUehXgCyIRdq"
   },
   "source": [
    "# Actividad - Proyecto práctico\n",
    "\n",
    "\n",
    "> La actividad se desarrollará en grupos pre-definidos de 2-3 alumnos. Se debe indicar los nombres en orden alfabético (de apellidos). Recordad que esta actividad se corresponde con un 30% de la nota final de la asignatura. Se debe entregar entregar el trabajo en la presente notebook.\n",
    "*   Alumno 1: Marta Castillo Galán\n",
    "*   Alumno 2: Unai Marín Etxebarria\n",
    "*   Alumno 3: Laura Molinos Mayo\n",
    "*   Alumno 4: Raúl Murillo Gallego\n",
    "\n",
    "\n",
    "\n",
    "\n"
   ]
  },
  {
   "cell_type": "markdown",
   "metadata": {
    "id": "4hzP_5ZuGb2X"
   },
   "source": [
    "---\n",
    "## **PARTE 2**. Enunciado\n",
    "\n",
    "Consideraciones a tener en cuenta:\n",
    "\n",
    "- El entorno sobre el que trabajaremos será _SpaceInvaders-v0_ y el algoritmo que usaremos será _DQN_.\n",
    "\n",
    "- Para nuestro ejercicio, el requisito mínimo será alcanzado cuando el agente consiga una **media de recompensa por encima de 20 puntos en modo test**. Por ello, esta media de la recompensa se calculará a partir del código de test en la última celda del notebook.\n",
    "\n",
    "Este proyecto práctico consta de tres partes:\n",
    "\n",
    "1.   Implementar la red neuronal que se usará en la solución\n",
    "2.   Implementar las distintas piezas de la solución DQN\n",
    "3.   Justificar la respuesta en relación a los resultados obtenidos\n",
    "\n",
    "**Rúbrica**: Se valorará la originalidad en la solución aportada, así como la capacidad de discutir los resultados de forma detallada. El requisito mínimo servirá para aprobar la actividad, bajo premisa de que la discusión del resultado sera apropiada.\n",
    "\n",
    "IMPORTANTE:\n",
    "\n",
    "* Si no se consigue una puntuación óptima, responder sobre la mejor puntuación obtenida.\n",
    "* Para entrenamientos largos, recordad que podéis usar checkpoints de vuestros modelos para retomar los entrenamientos. En este caso, recordad cambiar los parámetros adecuadamente (sobre todo los relacionados con el proceso de exploración).\n",
    "* Se deberá entregar unicamente el notebook y los pesos del mejor modelo en un fichero .zip, de forma organizada.\n",
    "* Cada alumno deberá de subir la solución de forma individual."
   ]
  },
  {
   "cell_type": "code",
   "execution_count": null,
   "metadata": {
    "id": "UbVRjvHCJ8UF"
   },
   "outputs": [],
   "source": [
    "#if IN_COLAB:\n",
    "  #%pip install gym==0.17.3\n",
    "  #%pip install git+https://github.com/Kojoley/atari-py.git\n",
    "  #%pip install keras-rl2==1.0.5\n",
    "  #%pip install tensorflow==2.8\n",
    "#else:\n",
    "  #%pip install gym==0.17.3\n",
    "  #%pip install git+https://github.com/Kojoley/atari-py.git\n",
    "  #%pip install pyglet==1.5.0\n",
    "  #%pip install h5py==3.1.0\n",
    "  #%pip install Pillow==9.5.0\n",
    "  #%pip install keras-rl2==1.0.5\n",
    "  #%pip install Keras==2.2.4\n",
    "  #%pip install tensorflow==2.5.3\n",
    "  ##%pip install torch==2.0.1\n",
    "  #%pip install agents==1.4.0"
   ]
  },
  {
   "cell_type": "markdown",
   "metadata": {
    "id": "6_b3mzw8IzJP"
   },
   "source": [
    "---\n",
    "## **PARTE 3**. Desarrollo y preguntas"
   ]
  },
  {
   "cell_type": "markdown",
   "metadata": {
    "id": "duPmUNOVGb2a"
   },
   "source": [
    "#### Importar librerías"
   ]
  },
  {
   "cell_type": "code",
   "execution_count": 1,
   "metadata": {
    "id": "j3eRhgI-Gb2a"
   },
   "outputs": [],
   "source": [
    "from __future__ import division\n",
    "\n",
    "from PIL import Image\n",
    "import numpy as np\n",
    "import gym\n",
    "\n",
    "from tensorflow.keras.models import Sequential\n",
    "from tensorflow.keras.layers import Dense, Activation, Flatten, Convolution2D, Permute\n",
    "from tensorflow.keras.optimizers import Adam\n",
    "import tensorflow.keras.backend as K\n",
    "\n",
    "from rl.agents.dqn import DQNAgent\n",
    "from rl.policy import LinearAnnealedPolicy, BoltzmannQPolicy, EpsGreedyQPolicy\n",
    "from rl.memory import SequentialMemory\n",
    "from rl.core import Processor\n",
    "from rl.callbacks import FileLogger, ModelIntervalCheckpoint"
   ]
  },
  {
   "cell_type": "markdown",
   "metadata": {
    "id": "f4jgQjzoGb2a"
   },
   "source": [
    "#### Configuración base"
   ]
  },
  {
   "cell_type": "code",
   "execution_count": 2,
   "metadata": {
    "id": "jwOE6I_KGb2a"
   },
   "outputs": [],
   "source": [
    "INPUT_SHAPE = (84, 84)\n",
    "WINDOW_LENGTH = 4\n",
    "\n",
    "env_name = 'SpaceInvaders-v0'\n",
    "env = gym.make(env_name)\n",
    "\n",
    "np.random.seed(123)\n",
    "env.seed(123)\n",
    "nb_actions = env.action_space.n"
   ]
  },
  {
   "cell_type": "code",
   "execution_count": 3,
   "metadata": {
    "id": "9jGEZUcpGb2a"
   },
   "outputs": [],
   "source": [
    "class AtariProcessor(Processor):\n",
    "    def process_observation(self, observation):\n",
    "        assert observation.ndim == 3  # (height, width, channel)\n",
    "        img = Image.fromarray(observation)\n",
    "        img = img.resize(INPUT_SHAPE).convert('L')\n",
    "        processed_observation = np.array(img)\n",
    "        assert processed_observation.shape == INPUT_SHAPE\n",
    "        return processed_observation.astype('uint8')\n",
    "\n",
    "    def process_state_batch(self, batch):\n",
    "        processed_batch = batch.astype('float32') / 255.\n",
    "        return processed_batch\n",
    "\n",
    "    def process_reward(self, reward):\n",
    "        return np.clip(reward, -1., 1.)"
   ]
  },
  {
   "cell_type": "markdown",
   "metadata": {
    "id": "7yitXTADGb2b"
   },
   "source": [
    "1. Implementación de la red neuronal"
   ]
  },
  {
   "cell_type": "code",
   "execution_count": 4,
   "metadata": {
    "id": "O4GKrfWSGb2b"
   },
   "outputs": [],
   "source": [
    "def build_model(window_length, input_shape, nb_actions):\n",
    "    model = Sequential()\n",
    "    model.add(Permute((2, 3, 1), input_shape=(window_length,) + input_shape))\n",
    "    model.add(Convolution2D(32, (8, 8), strides=(4, 4)))\n",
    "    model.add(Activation('relu'))\n",
    "    model.add(Convolution2D(64, (4, 4), strides=(2, 2)))\n",
    "    model.add(Activation('relu'))\n",
    "    model.add(Convolution2D(64, (3, 3), strides=(1, 1)))\n",
    "    model.add(Activation('relu'))\n",
    "    model.add(Flatten())\n",
    "    model.add(Dense(512))\n",
    "    model.add(Activation('relu'))\n",
    "    model.add(Dense(nb_actions))\n",
    "    model.add(Activation('linear'))\n",
    "    return model"
   ]
  },
  {
   "cell_type": "markdown",
   "metadata": {
    "id": "OB9-_5HPGb2b"
   },
   "source": [
    "2. Implementación de la solución DQN"
   ]
  },
  {
   "cell_type": "code",
   "execution_count": 13,
   "metadata": {
    "id": "foSlxWH1Gb2b"
   },
   "outputs": [
    {
     "name": "stdout",
     "output_type": "stream",
     "text": [
      "Model: \"sequential_1\"\n",
      "_________________________________________________________________\n",
      "Layer (type)                 Output Shape              Param #   \n",
      "=================================================================\n",
      "permute_1 (Permute)          (None, 84, 84, 4)         0         \n",
      "_________________________________________________________________\n",
      "conv2d_3 (Conv2D)            (None, 20, 20, 32)        8224      \n",
      "_________________________________________________________________\n",
      "activation_5 (Activation)    (None, 20, 20, 32)        0         \n",
      "_________________________________________________________________\n",
      "conv2d_4 (Conv2D)            (None, 9, 9, 64)          32832     \n",
      "_________________________________________________________________\n",
      "activation_6 (Activation)    (None, 9, 9, 64)          0         \n",
      "_________________________________________________________________\n",
      "conv2d_5 (Conv2D)            (None, 7, 7, 64)          36928     \n",
      "_________________________________________________________________\n",
      "activation_7 (Activation)    (None, 7, 7, 64)          0         \n",
      "_________________________________________________________________\n",
      "flatten_1 (Flatten)          (None, 3136)              0         \n",
      "_________________________________________________________________\n",
      "dense_2 (Dense)              (None, 512)               1606144   \n",
      "_________________________________________________________________\n",
      "activation_8 (Activation)    (None, 512)               0         \n",
      "_________________________________________________________________\n",
      "dense_3 (Dense)              (None, 6)                 3078      \n",
      "_________________________________________________________________\n",
      "activation_9 (Activation)    (None, 6)                 0         \n",
      "=================================================================\n",
      "Total params: 1,687,206\n",
      "Trainable params: 1,687,206\n",
      "Non-trainable params: 0\n",
      "_________________________________________________________________\n",
      "None\n"
     ]
    }
   ],
   "source": [
    "# Preparamos memoria y política\n",
    "memory = SequentialMemory(limit=100000, window_length=WINDOW_LENGTH)\n",
    "#policy = EpsGreedyQPolicy()  # Exploración simple\n",
    "policy = LinearAnnealedPolicy(EpsGreedyQPolicy(), attr='eps',\n",
    "                              value_max=1.0, value_min=0.1,\n",
    "                              value_test=0.05, nb_steps=50000)\n",
    "\n",
    "# Creamos el modelo\n",
    "model = build_model(WINDOW_LENGTH, INPUT_SHAPE, nb_actions)\n",
    "print(model.summary())\n",
    "\n",
    "# Creamos el procesador\n",
    "processor = AtariProcessor()\n",
    "\n",
    "#Creamos el agente\n",
    "dqn = DQNAgent(model=model,\n",
    "               nb_actions=nb_actions,\n",
    "               policy=policy,\n",
    "               memory=memory,\n",
    "               processor=processor,\n",
    "               nb_steps_warmup=10000,\n",
    "               gamma=0.99,\n",
    "               target_model_update=10000,\n",
    "               train_interval=4,\n",
    "               delta_clip=1.0)\n",
    "\n",
    "dqn.compile(Adam(learning_rate=1e-4), metrics=['mae'])"
   ]
  },
  {
   "cell_type": "code",
   "execution_count": 14,
   "metadata": {},
   "outputs": [
    {
     "name": "stdout",
     "output_type": "stream",
     "text": [
      "Training for 20000 steps ...\n"
     ]
    },
    {
     "name": "stderr",
     "output_type": "stream",
     "text": [
      "C:\\Users\\Rociniel\\Anaconda3\\envs\\miar_rl\\lib\\site-packages\\tensorflow\\python\\keras\\engine\\training.py:2426: UserWarning: `Model.state_updates` will be removed in a future version. This property should not be used in TensorFlow 2.0, as `updates` are applied automatically.\n",
      "  warnings.warn('`Model.state_updates` will be removed in a future version. '\n"
     ]
    },
    {
     "name": "stdout",
     "output_type": "stream",
     "text": [
      "   724/20000: episode: 1, duration: 4.838s, episode steps: 724, steps per second: 150, episode reward: 10.000, mean reward:  0.014 [ 0.000,  1.000], mean action: 2.477 [0.000, 5.000],  loss: --, mae: --, mean_q: --, mean_eps: --\n",
      "  1235/20000: episode: 2, duration: 2.505s, episode steps: 511, steps per second: 204, episode reward:  6.000, mean reward:  0.012 [ 0.000,  1.000], mean action: 2.595 [0.000, 5.000],  loss: --, mae: --, mean_q: --, mean_eps: --\n",
      "  1891/20000: episode: 3, duration: 3.178s, episode steps: 656, steps per second: 206, episode reward: 12.000, mean reward:  0.018 [ 0.000,  1.000], mean action: 2.541 [0.000, 5.000],  loss: --, mae: --, mean_q: --, mean_eps: --\n",
      "  2687/20000: episode: 4, duration: 3.546s, episode steps: 796, steps per second: 224, episode reward: 11.000, mean reward:  0.014 [ 0.000,  1.000], mean action: 2.454 [0.000, 5.000],  loss: --, mae: --, mean_q: --, mean_eps: --\n",
      "  3367/20000: episode: 5, duration: 4.527s, episode steps: 680, steps per second: 150, episode reward: 11.000, mean reward:  0.016 [ 0.000,  1.000], mean action: 2.425 [0.000, 5.000],  loss: --, mae: --, mean_q: --, mean_eps: --\n",
      "  4049/20000: episode: 6, duration: 3.823s, episode steps: 682, steps per second: 178, episode reward: 11.000, mean reward:  0.016 [ 0.000,  1.000], mean action: 2.320 [0.000, 5.000],  loss: --, mae: --, mean_q: --, mean_eps: --\n",
      "  4435/20000: episode: 7, duration: 2.274s, episode steps: 386, steps per second: 170, episode reward:  5.000, mean reward:  0.013 [ 0.000,  1.000], mean action: 2.376 [0.000, 5.000],  loss: --, mae: --, mean_q: --, mean_eps: --\n",
      "  5522/20000: episode: 8, duration: 6.391s, episode steps: 1087, steps per second: 170, episode reward: 14.000, mean reward:  0.013 [ 0.000,  1.000], mean action: 2.313 [0.000, 5.000],  loss: --, mae: --, mean_q: --, mean_eps: --\n",
      "  6362/20000: episode: 9, duration: 5.747s, episode steps: 840, steps per second: 146, episode reward: 14.000, mean reward:  0.017 [ 0.000,  1.000], mean action: 2.275 [0.000, 5.000],  loss: --, mae: --, mean_q: --, mean_eps: --\n",
      "  7092/20000: episode: 10, duration: 4.250s, episode steps: 730, steps per second: 172, episode reward: 12.000, mean reward:  0.016 [ 0.000,  1.000], mean action: 2.405 [0.000, 5.000],  loss: --, mae: --, mean_q: --, mean_eps: --\n",
      "  7684/20000: episode: 11, duration: 3.242s, episode steps: 592, steps per second: 183, episode reward:  8.000, mean reward:  0.014 [ 0.000,  1.000], mean action: 2.410 [0.000, 5.000],  loss: --, mae: --, mean_q: --, mean_eps: --\n",
      "  8238/20000: episode: 12, duration: 3.689s, episode steps: 554, steps per second: 150, episode reward:  6.000, mean reward:  0.011 [ 0.000,  1.000], mean action: 2.316 [0.000, 5.000],  loss: --, mae: --, mean_q: --, mean_eps: --\n",
      "  8750/20000: episode: 13, duration: 3.386s, episode steps: 512, steps per second: 151, episode reward:  9.000, mean reward:  0.018 [ 0.000,  1.000], mean action: 2.445 [0.000, 5.000],  loss: --, mae: --, mean_q: --, mean_eps: --\n",
      "  9460/20000: episode: 14, duration: 4.934s, episode steps: 710, steps per second: 144, episode reward: 15.000, mean reward:  0.021 [ 0.000,  1.000], mean action: 2.321 [0.000, 5.000],  loss: --, mae: --, mean_q: --, mean_eps: --\n"
     ]
    },
    {
     "name": "stderr",
     "output_type": "stream",
     "text": [
      "C:\\Users\\Rociniel\\Anaconda3\\envs\\miar_rl\\lib\\site-packages\\tensorflow\\python\\keras\\engine\\training.py:2426: UserWarning: `Model.state_updates` will be removed in a future version. This property should not be used in TensorFlow 2.0, as `updates` are applied automatically.\n",
      "  warnings.warn('`Model.state_updates` will be removed in a future version. '\n"
     ]
    },
    {
     "name": "stdout",
     "output_type": "stream",
     "text": [
      " 10242/20000: episode: 15, duration: 15.977s, episode steps: 782, steps per second:  49, episode reward:  8.000, mean reward:  0.010 [ 0.000,  1.000], mean action: 2.367 [0.000, 5.000],  loss: 0.008123, mae: 0.041147, mean_q: 0.072000, mean_eps: 0.817804\n",
      " 11356/20000: episode: 16, duration: 52.562s, episode steps: 1114, steps per second:  21, episode reward: 16.000, mean reward:  0.014 [ 0.000,  1.000], mean action: 2.586 [0.000, 5.000],  loss: 0.007070, mae: 0.038267, mean_q: 0.061086, mean_eps: 0.805636\n",
      " 12044/20000: episode: 17, duration: 32.234s, episode steps: 688, steps per second:  21, episode reward:  8.000, mean reward:  0.012 [ 0.000,  1.000], mean action: 2.408 [0.000, 5.000],  loss: 0.006999, mae: 0.038445, mean_q: 0.058716, mean_eps: 0.789436\n",
      " 12856/20000: episode: 18, duration: 39.630s, episode steps: 812, steps per second:  20, episode reward:  9.000, mean reward:  0.011 [ 0.000,  1.000], mean action: 2.607 [0.000, 5.000],  loss: 0.006844, mae: 0.038882, mean_q: 0.059791, mean_eps: 0.775936\n",
      " 13477/20000: episode: 19, duration: 28.445s, episode steps: 621, steps per second:  22, episode reward:  9.000, mean reward:  0.014 [ 0.000,  1.000], mean action: 2.440 [0.000, 5.000],  loss: 0.006525, mae: 0.038564, mean_q: 0.058351, mean_eps: 0.763012\n",
      " 14432/20000: episode: 20, duration: 44.148s, episode steps: 955, steps per second:  22, episode reward: 17.000, mean reward:  0.018 [ 0.000,  1.000], mean action: 2.626 [0.000, 5.000],  loss: 0.006936, mae: 0.038695, mean_q: 0.063504, mean_eps: 0.748828\n",
      " 15411/20000: episode: 21, duration: 39.786s, episode steps: 979, steps per second:  25, episode reward: 16.000, mean reward:  0.016 [ 0.000,  1.000], mean action: 2.403 [0.000, 5.000],  loss: 0.006847, mae: 0.039251, mean_q: 0.062276, mean_eps: 0.731440\n",
      " 16274/20000: episode: 22, duration: 35.633s, episode steps: 863, steps per second:  24, episode reward: 19.000, mean reward:  0.022 [ 0.000,  1.000], mean action: 2.733 [0.000, 5.000],  loss: 0.007125, mae: 0.039294, mean_q: 0.063688, mean_eps: 0.714844\n",
      " 16947/20000: episode: 23, duration: 25.322s, episode steps: 673, steps per second:  27, episode reward: 12.000, mean reward:  0.018 [ 0.000,  1.000], mean action: 2.602 [0.000, 5.000],  loss: 0.007036, mae: 0.039815, mean_q: 0.064648, mean_eps: 0.701020\n",
      " 18040/20000: episode: 24, duration: 41.824s, episode steps: 1093, steps per second:  26, episode reward: 18.000, mean reward:  0.016 [ 0.000,  1.000], mean action: 2.547 [0.000, 5.000],  loss: 0.008382, mae: 0.043006, mean_q: 0.070408, mean_eps: 0.685144\n",
      " 18614/20000: episode: 25, duration: 22.332s, episode steps: 574, steps per second:  26, episode reward:  5.000, mean reward:  0.009 [ 0.000,  1.000], mean action: 2.338 [0.000, 5.000],  loss: 0.008824, mae: 0.043101, mean_q: 0.068708, mean_eps: 0.670132\n",
      " 19386/20000: episode: 26, duration: 30.514s, episode steps: 772, steps per second:  25, episode reward: 20.000, mean reward:  0.026 [ 0.000,  1.000], mean action: 2.392 [0.000, 5.000],  loss: 0.008286, mae: 0.043272, mean_q: 0.076079, mean_eps: 0.658000\n",
      "done, took 487.752 seconds\n"
     ]
    },
    {
     "data": {
      "text/plain": [
       "<tensorflow.python.keras.callbacks.History at 0x243cc565430>"
      ]
     },
     "execution_count": 14,
     "metadata": {},
     "output_type": "execute_result"
    }
   ],
   "source": [
    "# Entrenamiento inicial\n",
    "# (0.0.0.2) Pasamos de 5000 a 20.000 pasos\n",
    "dqn.fit(env, nb_steps=20000, visualize=False, verbose=2)"
   ]
  },
  {
   "cell_type": "code",
   "execution_count": 16,
   "metadata": {},
   "outputs": [
    {
     "name": "stdout",
     "output_type": "stream",
     "text": [
      "Testing for 10 episodes ...\n",
      "Episode 1: reward: 15.000, steps: 696\n",
      "Episode 2: reward: 24.000, steps: 1083\n",
      "Episode 3: reward: 15.000, steps: 681\n",
      "Episode 4: reward: 15.000, steps: 744\n",
      "Episode 5: reward: 23.000, steps: 937\n",
      "Episode 6: reward: 18.000, steps: 776\n",
      "Episode 7: reward: 11.000, steps: 613\n",
      "Episode 8: reward: 20.000, steps: 823\n",
      "Episode 9: reward: 26.000, steps: 986\n",
      "Episode 10: reward: 14.000, steps: 677\n",
      "Media de recompensa: 18.1\n"
     ]
    }
   ],
   "source": [
    "#Evaluación en modo test\n",
    "scores = dqn.test(env, nb_episodes=10, visualize=False)\n",
    "print(\"Media de recompensa:\", np.mean(scores.history['episode_reward']))"
   ]
  },
  {
   "cell_type": "code",
   "execution_count": 17,
   "metadata": {},
   "outputs": [],
   "source": [
    "#Guardado de pesos\n",
    "dqn.save_weights('dqn_spaceinvaders_weights.h5f', overwrite=True)"
   ]
  },
  {
   "cell_type": "code",
   "execution_count": null,
   "metadata": {
    "id": "OHYryKd1Gb2b"
   },
   "outputs": [],
   "source": [
    "## Testing part to calculate the mean reward\n",
    "#weights_filename = 'dqn_{}_weights.h5f'.format(env_name)\n",
    "#dqn.load_weights(weights_filename)\n",
    "#dqn.test(env, nb_episodes=10, visualize=False)"
   ]
  },
  {
   "cell_type": "markdown",
   "metadata": {
    "id": "-NAlu8b1Gb2b"
   },
   "source": [
    "3. Justificación de los parámetros seleccionados y de los resultados obtenidos"
   ]
  },
  {
   "cell_type": "markdown",
   "metadata": {
    "id": "ANFQiicXK3sO"
   },
   "source": [
    "---"
   ]
  }
 ],
 "metadata": {
  "colab": {
   "provenance": []
  },
  "kernelspec": {
   "display_name": "Python [conda env:miar_rl]",
   "language": "python",
   "name": "conda-env-miar_rl-py"
  },
  "language_info": {
   "codemirror_mode": {
    "name": "ipython",
    "version": 3
   },
   "file_extension": ".py",
   "mimetype": "text/x-python",
   "name": "python",
   "nbconvert_exporter": "python",
   "pygments_lexer": "ipython3",
   "version": "3.8.20"
  }
 },
 "nbformat": 4,
 "nbformat_minor": 4
}
