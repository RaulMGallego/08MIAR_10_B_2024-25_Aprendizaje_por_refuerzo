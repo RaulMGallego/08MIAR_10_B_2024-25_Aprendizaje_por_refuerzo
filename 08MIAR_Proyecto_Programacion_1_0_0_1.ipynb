{
 "cells": [
  {
   "cell_type": "markdown",
   "metadata": {
    "id": "jUehXgCyIRdq"
   },
   "source": [
    "# Actividad - Proyecto práctico\n",
    "\n",
    "\n",
    "> La actividad se desarrollará en grupos pre-definidos de 2-3 alumnos. Se debe indicar los nombres en orden alfabético (de apellidos). Recordad que esta actividad se corresponde con un 30% de la nota final de la asignatura. Se debe entregar entregar el trabajo en la presente notebook.\n",
    "*   Alumno 1: Marta Castillo Galán\n",
    "*   Alumno 2: Unai Marín Etxebarria\n",
    "*   Alumno 3: Laura Molinos Mayo\n",
    "*   Alumno 4: Raúl Murillo Gallego\n",
    "\n",
    "\n",
    "\n",
    "\n"
   ]
  },
  {
   "cell_type": "markdown",
   "metadata": {
    "id": "4hzP_5ZuGb2X"
   },
   "source": [
    "---\n",
    "## **PARTE 2**. Enunciado\n",
    "\n",
    "Consideraciones a tener en cuenta:\n",
    "\n",
    "- El entorno sobre el que trabajaremos será _SpaceInvaders-v0_ y el algoritmo que usaremos será _DQN_.\n",
    "\n",
    "- Para nuestro ejercicio, el requisito mínimo será alcanzado cuando el agente consiga una **media de recompensa por encima de 20 puntos en modo test**. Por ello, esta media de la recompensa se calculará a partir del código de test en la última celda del notebook.\n",
    "\n",
    "Este proyecto práctico consta de tres partes:\n",
    "\n",
    "1.   Implementar la red neuronal que se usará en la solución\n",
    "2.   Implementar las distintas piezas de la solución DQN\n",
    "3.   Justificar la respuesta en relación a los resultados obtenidos\n",
    "\n",
    "**Rúbrica**: Se valorará la originalidad en la solución aportada, así como la capacidad de discutir los resultados de forma detallada. El requisito mínimo servirá para aprobar la actividad, bajo premisa de que la discusión del resultado sera apropiada.\n",
    "\n",
    "IMPORTANTE:\n",
    "\n",
    "* Si no se consigue una puntuación óptima, responder sobre la mejor puntuación obtenida.\n",
    "* Para entrenamientos largos, recordad que podéis usar checkpoints de vuestros modelos para retomar los entrenamientos. En este caso, recordad cambiar los parámetros adecuadamente (sobre todo los relacionados con el proceso de exploración).\n",
    "* Se deberá entregar unicamente el notebook y los pesos del mejor modelo en un fichero .zip, de forma organizada.\n",
    "* Cada alumno deberá de subir la solución de forma individual."
   ]
  },
  {
   "cell_type": "code",
   "execution_count": null,
   "metadata": {
    "id": "UbVRjvHCJ8UF"
   },
   "outputs": [],
   "source": [
    "#if IN_COLAB:\n",
    "  #%pip install gym==0.17.3\n",
    "  #%pip install git+https://github.com/Kojoley/atari-py.git\n",
    "  #%pip install keras-rl2==1.0.5\n",
    "  #%pip install tensorflow==2.8\n",
    "#else:\n",
    "  #%pip install gym==0.17.3\n",
    "  #%pip install git+https://github.com/Kojoley/atari-py.git\n",
    "  #%pip install pyglet==1.5.0\n",
    "  #%pip install h5py==3.1.0\n",
    "  #%pip install Pillow==9.5.0\n",
    "  #%pip install keras-rl2==1.0.5\n",
    "  #%pip install Keras==2.2.4\n",
    "  #%pip install tensorflow==2.5.3\n",
    "  ##%pip install torch==2.0.1\n",
    "  #%pip install agents==1.4.0"
   ]
  },
  {
   "cell_type": "markdown",
   "metadata": {
    "id": "6_b3mzw8IzJP"
   },
   "source": [
    "---\n",
    "## **PARTE 3**. Desarrollo y preguntas"
   ]
  },
  {
   "cell_type": "markdown",
   "metadata": {
    "id": "duPmUNOVGb2a"
   },
   "source": [
    "#### Importar librerías"
   ]
  },
  {
   "cell_type": "code",
   "execution_count": 6,
   "metadata": {
    "id": "j3eRhgI-Gb2a"
   },
   "outputs": [],
   "source": [
    "from __future__ import division\n",
    "\n",
    "from PIL import Image\n",
    "import numpy as np\n",
    "import gym\n",
    "\n",
    "from tensorflow.keras.models import Sequential\n",
    "from tensorflow.keras.layers import Dense, Activation, Flatten, Convolution2D, Permute, BatchNormalization, Dropout\n",
    "from tensorflow.keras.optimizers import Adam\n",
    "import tensorflow.keras.backend as K\n",
    "\n",
    "from rl.agents.dqn import DQNAgent\n",
    "from rl.policy import LinearAnnealedPolicy, BoltzmannQPolicy, EpsGreedyQPolicy\n",
    "from rl.memory import SequentialMemory\n",
    "from rl.core import Processor\n",
    "from rl.callbacks import FileLogger, ModelIntervalCheckpoint\n",
    "\n",
    "from tensorflow.keras.optimizers import RMSprop"
   ]
  },
  {
   "cell_type": "markdown",
   "metadata": {
    "id": "f4jgQjzoGb2a"
   },
   "source": [
    "#### Configuración base"
   ]
  },
  {
   "cell_type": "code",
   "execution_count": 9,
   "metadata": {
    "id": "jwOE6I_KGb2a"
   },
   "outputs": [],
   "source": [
    "INPUT_SHAPE = (84, 84)\n",
    "WINDOW_LENGTH = 4\n",
    "\n",
    "env_name = 'SpaceInvaders-v0'\n",
    "env = gym.make(env_name)\n",
    "\n",
    "np.random.seed(123)\n",
    "env.seed(123)\n",
    "nb_actions = env.action_space.n"
   ]
  },
  {
   "cell_type": "code",
   "execution_count": 10,
   "metadata": {
    "id": "9jGEZUcpGb2a"
   },
   "outputs": [],
   "source": [
    "class AtariProcessor(Processor):\n",
    "    def process_observation(self, observation):\n",
    "        assert observation.ndim == 3  # (height, width, channel)\n",
    "        img = Image.fromarray(observation)\n",
    "        img = img.resize(INPUT_SHAPE).convert('L')\n",
    "        processed_observation = np.array(img)\n",
    "        assert processed_observation.shape == INPUT_SHAPE\n",
    "        return processed_observation.astype('uint8')\n",
    "\n",
    "    def process_state_batch(self, batch):\n",
    "        processed_batch = batch.astype('float32') / 255.\n",
    "        return processed_batch\n",
    "\n",
    "    def process_reward(self, reward):\n",
    "        return np.clip(reward, -1., 1.)"
   ]
  },
  {
   "cell_type": "markdown",
   "metadata": {
    "id": "7yitXTADGb2b"
   },
   "source": [
    "1. Implementación de la red neuronal"
   ]
  },
  {
   "cell_type": "code",
   "execution_count": 11,
   "metadata": {
    "id": "O4GKrfWSGb2b"
   },
   "outputs": [],
   "source": [
    "def build_model(window_length, input_shape, nb_actions):\n",
    "    model = Sequential()\n",
    "    model.add(Permute((2, 3, 1), input_shape=(window_length,) + input_shape))  # (window, 84, 84) → (84, 84, window)\n",
    "    model.add(Convolution2D(32, (8, 8), strides=(4, 4), activation='relu'))\n",
    "    model.add(BatchNormalization())\n",
    "    model.add(Convolution2D(64, (4, 4), strides=(2, 2), activation='relu'))\n",
    "    model.add(BatchNormalization())\n",
    "    model.add(Convolution2D(64, (3, 3), strides=(1, 1), activation='relu'))\n",
    "    model.add(BatchNormalization())\n",
    "    model.add(Flatten())\n",
    "    model.add(Dense(512, activation='relu'))\n",
    "    model.add(Dropout(0.2))\n",
    "    model.add(Dense(nb_actions, activation='linear'))\n",
    "    return model"
   ]
  },
  {
   "cell_type": "markdown",
   "metadata": {
    "id": "OB9-_5HPGb2b"
   },
   "source": [
    "2. Implementación de la solución DQN"
   ]
  },
  {
   "cell_type": "code",
   "execution_count": 12,
   "metadata": {
    "id": "foSlxWH1Gb2b"
   },
   "outputs": [
    {
     "name": "stdout",
     "output_type": "stream",
     "text": [
      "WARNING:tensorflow:From C:\\Users\\laura\\anaconda3\\envs\\miar_rl\\lib\\site-packages\\tensorflow\\python\\keras\\layers\\normalization.py:534: _colocate_with (from tensorflow.python.framework.ops) is deprecated and will be removed in a future version.\n",
      "Instructions for updating:\n",
      "Colocations handled automatically by placer.\n",
      "Model: \"sequential\"\n",
      "_________________________________________________________________\n",
      "Layer (type)                 Output Shape              Param #   \n",
      "=================================================================\n",
      "permute (Permute)            (None, 84, 84, 4)         0         \n",
      "_________________________________________________________________\n",
      "conv2d (Conv2D)              (None, 20, 20, 32)        8224      \n",
      "_________________________________________________________________\n",
      "batch_normalization (BatchNo (None, 20, 20, 32)        128       \n",
      "_________________________________________________________________\n",
      "conv2d_1 (Conv2D)            (None, 9, 9, 64)          32832     \n",
      "_________________________________________________________________\n",
      "batch_normalization_1 (Batch (None, 9, 9, 64)          256       \n",
      "_________________________________________________________________\n",
      "conv2d_2 (Conv2D)            (None, 7, 7, 64)          36928     \n",
      "_________________________________________________________________\n",
      "batch_normalization_2 (Batch (None, 7, 7, 64)          256       \n",
      "_________________________________________________________________\n",
      "flatten (Flatten)            (None, 3136)              0         \n",
      "_________________________________________________________________\n",
      "dense (Dense)                (None, 512)               1606144   \n",
      "_________________________________________________________________\n",
      "dropout (Dropout)            (None, 512)               0         \n",
      "_________________________________________________________________\n",
      "dense_1 (Dense)              (None, 6)                 3078      \n",
      "=================================================================\n",
      "Total params: 1,687,846\n",
      "Trainable params: 1,687,526\n",
      "Non-trainable params: 320\n",
      "_________________________________________________________________\n",
      "None\n"
     ]
    }
   ],
   "source": [
    "# Preparamos memoria y política\n",
    "memory = SequentialMemory(limit=100000, window_length=WINDOW_LENGTH)\n",
    "policy = LinearAnnealedPolicy(EpsGreedyQPolicy(),\n",
    "                              attr='eps',\n",
    "                              value_max=1.0,\n",
    "                              value_min=0.1,\n",
    "                              value_test=0.05,\n",
    "                              nb_steps=500000) \n",
    "\n",
    "# Creamos el modelo\n",
    "model = build_model(WINDOW_LENGTH, INPUT_SHAPE, nb_actions)\n",
    "print(model.summary())\n",
    "\n",
    "# Creamos el procesador\n",
    "processor = AtariProcessor()\n",
    "\n",
    "#Creamos el agente\n",
    "dqn = DQNAgent(model=model,\n",
    "               nb_actions=nb_actions,\n",
    "               policy=policy,\n",
    "               memory=memory,\n",
    "               processor=processor,\n",
    "               nb_steps_warmup = 10000,\n",
    "               gamma=0.99,\n",
    "               target_model_update=5000,\n",
    "               train_interval=1,\n",
    "               delta_clip=1.0,\n",
    "               )\n",
    "\n",
    "dqn.compile(Adam(learning_rate=0.0001), metrics=['mae'])"
   ]
  },
  {
   "cell_type": "code",
   "execution_count": 6,
   "metadata": {
    "scrolled": true
   },
   "outputs": [
    {
     "name": "stdout",
     "output_type": "stream",
     "text": [
      "Training for 500000 steps ...\n"
     ]
    },
    {
     "name": "stderr",
     "output_type": "stream",
     "text": [
      "C:\\Users\\laura\\anaconda3\\envs\\miar_rl\\lib\\site-packages\\tensorflow\\python\\keras\\engine\\training.py:2426: UserWarning: `Model.state_updates` will be removed in a future version. This property should not be used in TensorFlow 2.0, as `updates` are applied automatically.\n",
      "  warnings.warn('`Model.state_updates` will be removed in a future version. '\n"
     ]
    },
    {
     "name": "stdout",
     "output_type": "stream",
     "text": [
      "    420/500000: episode: 1, duration: 8.893s, episode steps: 420, steps per second:  47, episode reward:  6.000, mean reward:  0.014 [ 0.000,  1.000], mean action: 2.479 [0.000, 5.000],  loss: --, mae: --, mean_q: --, mean_eps: --\n",
      "   1131/500000: episode: 2, duration: 6.674s, episode steps: 711, steps per second: 107, episode reward:  7.000, mean reward:  0.010 [ 0.000,  1.000], mean action: 2.415 [0.000, 5.000],  loss: --, mae: --, mean_q: --, mean_eps: --\n",
      "   1941/500000: episode: 3, duration: 7.703s, episode steps: 810, steps per second: 105, episode reward: 10.000, mean reward:  0.012 [ 0.000,  1.000], mean action: 2.410 [0.000, 5.000],  loss: --, mae: --, mean_q: --, mean_eps: --\n",
      "   2827/500000: episode: 4, duration: 8.340s, episode steps: 886, steps per second: 106, episode reward: 11.000, mean reward:  0.012 [ 0.000,  1.000], mean action: 2.394 [0.000, 5.000],  loss: --, mae: --, mean_q: --, mean_eps: --\n",
      "   3345/500000: episode: 5, duration: 4.970s, episode steps: 518, steps per second: 104, episode reward:  6.000, mean reward:  0.012 [ 0.000,  1.000], mean action: 2.552 [0.000, 5.000],  loss: --, mae: --, mean_q: --, mean_eps: --\n",
      "   3990/500000: episode: 6, duration: 6.166s, episode steps: 645, steps per second: 105, episode reward: 11.000, mean reward:  0.017 [ 0.000,  1.000], mean action: 2.440 [0.000, 5.000],  loss: --, mae: --, mean_q: --, mean_eps: --\n",
      "   4536/500000: episode: 7, duration: 5.140s, episode steps: 546, steps per second: 106, episode reward:  4.000, mean reward:  0.007 [ 0.000,  1.000], mean action: 2.474 [0.000, 5.000],  loss: --, mae: --, mean_q: --, mean_eps: --\n",
      "   5381/500000: episode: 8, duration: 7.973s, episode steps: 845, steps per second: 106, episode reward: 12.000, mean reward:  0.014 [ 0.000,  1.000], mean action: 2.498 [0.000, 5.000],  loss: --, mae: --, mean_q: --, mean_eps: --\n",
      "   6374/500000: episode: 9, duration: 9.267s, episode steps: 993, steps per second: 107, episode reward: 19.000, mean reward:  0.019 [ 0.000,  1.000], mean action: 2.403 [0.000, 5.000],  loss: --, mae: --, mean_q: --, mean_eps: --\n",
      "   6775/500000: episode: 10, duration: 3.900s, episode steps: 401, steps per second: 103, episode reward:  4.000, mean reward:  0.010 [ 0.000,  1.000], mean action: 2.509 [0.000, 5.000],  loss: --, mae: --, mean_q: --, mean_eps: --\n",
      "   7545/500000: episode: 11, duration: 7.196s, episode steps: 770, steps per second: 107, episode reward:  8.000, mean reward:  0.010 [ 0.000,  1.000], mean action: 2.434 [0.000, 5.000],  loss: --, mae: --, mean_q: --, mean_eps: --\n",
      "   8057/500000: episode: 12, duration: 4.856s, episode steps: 512, steps per second: 105, episode reward:  8.000, mean reward:  0.016 [ 0.000,  1.000], mean action: 2.459 [0.000, 5.000],  loss: --, mae: --, mean_q: --, mean_eps: --\n",
      "   8772/500000: episode: 13, duration: 6.688s, episode steps: 715, steps per second: 107, episode reward:  6.000, mean reward:  0.008 [ 0.000,  1.000], mean action: 2.575 [0.000, 5.000],  loss: --, mae: --, mean_q: --, mean_eps: --\n",
      "   9283/500000: episode: 14, duration: 4.814s, episode steps: 511, steps per second: 106, episode reward: 11.000, mean reward:  0.022 [ 0.000,  1.000], mean action: 2.495 [0.000, 5.000],  loss: --, mae: --, mean_q: --, mean_eps: --\n",
      "   9790/500000: episode: 15, duration: 4.850s, episode steps: 507, steps per second: 105, episode reward:  6.000, mean reward:  0.012 [ 0.000,  1.000], mean action: 2.394 [0.000, 5.000],  loss: --, mae: --, mean_q: --, mean_eps: --\n"
     ]
    },
    {
     "name": "stderr",
     "output_type": "stream",
     "text": [
      "C:\\Users\\laura\\anaconda3\\envs\\miar_rl\\lib\\site-packages\\tensorflow\\python\\keras\\engine\\training.py:2426: UserWarning: `Model.state_updates` will be removed in a future version. This property should not be used in TensorFlow 2.0, as `updates` are applied automatically.\n",
      "  warnings.warn('`Model.state_updates` will be removed in a future version. '\n"
     ]
    },
    {
     "name": "stdout",
     "output_type": "stream",
     "text": [
      "  10540/500000: episode: 16, duration: 130.606s, episode steps: 750, steps per second:   6, episode reward:  7.000, mean reward:  0.009 [ 0.000,  1.000], mean action: 2.463 [0.000, 5.000],  loss: 0.075889, mae: 0.218802, mean_q: 0.365749, mean_eps: 0.981514\n",
      "  11214/500000: episode: 17, duration: 146.513s, episode steps: 674, steps per second:   5, episode reward: 11.000, mean reward:  0.016 [ 0.000,  1.000], mean action: 2.402 [0.000, 5.000],  loss: 0.006664, mae: 0.035099, mean_q: 0.064298, mean_eps: 0.980422\n",
      "  11991/500000: episode: 18, duration: 167.534s, episode steps: 777, steps per second:   5, episode reward: 11.000, mean reward:  0.014 [ 0.000,  1.000], mean action: 2.449 [0.000, 5.000],  loss: 0.006109, mae: 0.029985, mean_q: 0.052302, mean_eps: 0.979116\n",
      "  12622/500000: episode: 19, duration: 133.224s, episode steps: 631, steps per second:   5, episode reward:  5.000, mean reward:  0.008 [ 0.000,  1.000], mean action: 2.553 [0.000, 5.000],  loss: 0.005906, mae: 0.030930, mean_q: 0.049908, mean_eps: 0.977849\n",
      "  13095/500000: episode: 20, duration: 99.795s, episode steps: 473, steps per second:   5, episode reward:  8.000, mean reward:  0.017 [ 0.000,  1.000], mean action: 2.448 [0.000, 5.000],  loss: 0.006407, mae: 0.033954, mean_q: 0.052666, mean_eps: 0.976856\n",
      "  13686/500000: episode: 21, duration: 129.634s, episode steps: 591, steps per second:   5, episode reward:  6.000, mean reward:  0.010 [ 0.000,  1.000], mean action: 2.584 [0.000, 5.000],  loss: 0.005830, mae: 0.033057, mean_q: 0.047613, mean_eps: 0.975898\n",
      "  14080/500000: episode: 22, duration: 84.315s, episode steps: 394, steps per second:   5, episode reward:  7.000, mean reward:  0.018 [ 0.000,  1.000], mean action: 2.525 [0.000, 5.000],  loss: 0.006115, mae: 0.034900, mean_q: 0.051803, mean_eps: 0.975012\n",
      "  15014/500000: episode: 23, duration: 197.026s, episode steps: 934, steps per second:   5, episode reward: 15.000, mean reward:  0.016 [ 0.000,  1.000], mean action: 2.479 [0.000, 5.000],  loss: 0.005854, mae: 0.034783, mean_q: 0.050294, mean_eps: 0.973816\n",
      "  15529/500000: episode: 24, duration: 106.077s, episode steps: 515, steps per second:   5, episode reward:  9.000, mean reward:  0.017 [ 0.000,  1.000], mean action: 2.571 [0.000, 5.000],  loss: 0.007999, mae: 0.047644, mean_q: 0.069860, mean_eps: 0.972512\n",
      "  16023/500000: episode: 25, duration: 101.354s, episode steps: 494, steps per second:   5, episode reward:  5.000, mean reward:  0.010 [ 0.000,  1.000], mean action: 2.439 [0.000, 5.000],  loss: 0.007470, mae: 0.054018, mean_q: 0.075405, mean_eps: 0.971604\n",
      "  16438/500000: episode: 26, duration: 88.333s, episode steps: 415, steps per second:   5, episode reward:  5.000, mean reward:  0.012 [ 0.000,  1.000], mean action: 2.402 [0.000, 5.000],  loss: 0.007088, mae: 0.054317, mean_q: 0.073781, mean_eps: 0.970786\n",
      "  17086/500000: episode: 27, duration: 137.258s, episode steps: 648, steps per second:   5, episode reward: 12.000, mean reward:  0.019 [ 0.000,  1.000], mean action: 2.573 [0.000, 5.000],  loss: 0.007244, mae: 0.056041, mean_q: 0.075332, mean_eps: 0.969829\n",
      "  17743/500000: episode: 28, duration: 137.462s, episode steps: 657, steps per second:   5, episode reward: 10.000, mean reward:  0.015 [ 0.000,  1.000], mean action: 2.566 [0.000, 5.000],  loss: 0.007221, mae: 0.056500, mean_q: 0.073133, mean_eps: 0.968655\n",
      "  18738/500000: episode: 29, duration: 207.652s, episode steps: 995, steps per second:   5, episode reward: 10.000, mean reward:  0.010 [ 0.000,  1.000], mean action: 2.435 [0.000, 5.000],  loss: 0.006936, mae: 0.057302, mean_q: 0.076473, mean_eps: 0.967168\n",
      "  19334/500000: episode: 30, duration: 125.853s, episode steps: 596, steps per second:   5, episode reward:  8.000, mean reward:  0.013 [ 0.000,  1.000], mean action: 2.418 [0.000, 5.000],  loss: 0.006122, mae: 0.056650, mean_q: 0.077083, mean_eps: 0.965736\n",
      "  19903/500000: episode: 31, duration: 121.997s, episode steps: 569, steps per second:   5, episode reward:  3.000, mean reward:  0.005 [ 0.000,  1.000], mean action: 2.283 [0.000, 5.000],  loss: 0.006592, mae: 0.056775, mean_q: 0.073877, mean_eps: 0.964688\n",
      "  20463/500000: episode: 32, duration: 120.065s, episode steps: 560, steps per second:   5, episode reward:  9.000, mean reward:  0.016 [ 0.000,  1.000], mean action: 2.511 [0.000, 5.000],  loss: 0.008095, mae: 0.069853, mean_q: 0.094323, mean_eps: 0.963671\n",
      "  21180/500000: episode: 33, duration: 154.267s, episode steps: 717, steps per second:   5, episode reward: 12.000, mean reward:  0.017 [ 0.000,  1.000], mean action: 2.463 [0.000, 5.000],  loss: 0.007498, mae: 0.075442, mean_q: 0.097635, mean_eps: 0.962522\n",
      "  21566/500000: episode: 34, duration: 82.131s, episode steps: 386, steps per second:   5, episode reward:  9.000, mean reward:  0.023 [ 0.000,  1.000], mean action: 2.440 [0.000, 5.000],  loss: 0.007456, mae: 0.076187, mean_q: 0.094641, mean_eps: 0.961530\n",
      "  22620/500000: episode: 35, duration: 226.094s, episode steps: 1054, steps per second:   5, episode reward: 22.000, mean reward:  0.021 [ 0.000,  1.000], mean action: 2.536 [0.000, 5.000],  loss: 0.007980, mae: 0.079648, mean_q: 0.102343, mean_eps: 0.960233\n",
      "  23209/500000: episode: 36, duration: 125.784s, episode steps: 589, steps per second:   5, episode reward:  7.000, mean reward:  0.012 [ 0.000,  1.000], mean action: 2.497 [0.000, 5.000],  loss: 0.009647, mae: 0.082954, mean_q: 0.107443, mean_eps: 0.958755\n",
      "  23613/500000: episode: 37, duration: 86.891s, episode steps: 404, steps per second:   5, episode reward:  5.000, mean reward:  0.012 [ 0.000,  1.000], mean action: 2.438 [0.000, 5.000],  loss: 0.007266, mae: 0.079741, mean_q: 0.100767, mean_eps: 0.957861\n",
      "  24220/500000: episode: 38, duration: 130.996s, episode steps: 607, steps per second:   5, episode reward:  7.000, mean reward:  0.012 [ 0.000,  1.000], mean action: 2.409 [0.000, 5.000],  loss: 0.007659, mae: 0.082353, mean_q: 0.102961, mean_eps: 0.956951\n",
      "  24776/500000: episode: 39, duration: 119.894s, episode steps: 556, steps per second:   5, episode reward:  7.000, mean reward:  0.013 [ 0.000,  1.000], mean action: 2.516 [0.000, 5.000],  loss: 0.007193, mae: 0.081059, mean_q: 0.102915, mean_eps: 0.955904\n",
      "  25246/500000: episode: 40, duration: 100.705s, episode steps: 470, steps per second:   5, episode reward:  5.000, mean reward:  0.011 [ 0.000,  1.000], mean action: 2.513 [0.000, 5.000],  loss: 0.007482, mae: 0.084611, mean_q: 0.109060, mean_eps: 0.954981\n",
      "  25836/500000: episode: 41, duration: 126.270s, episode steps: 590, steps per second:   5, episode reward: 11.000, mean reward:  0.019 [ 0.000,  1.000], mean action: 2.490 [0.000, 5.000],  loss: 0.007665, mae: 0.092144, mean_q: 0.118011, mean_eps: 0.954027\n",
      "  26460/500000: episode: 42, duration: 132.468s, episode steps: 624, steps per second:   5, episode reward:  9.000, mean reward:  0.014 [ 0.000,  1.000], mean action: 2.562 [0.000, 5.000],  loss: 0.007268, mae: 0.093252, mean_q: 0.118602, mean_eps: 0.952935\n",
      "  26892/500000: episode: 43, duration: 92.791s, episode steps: 432, steps per second:   5, episode reward:  3.000, mean reward:  0.007 [ 0.000,  1.000], mean action: 2.375 [0.000, 5.000],  loss: 0.007515, mae: 0.099936, mean_q: 0.127888, mean_eps: 0.951984\n",
      "  27300/500000: episode: 44, duration: 87.871s, episode steps: 408, steps per second:   5, episode reward:  5.000, mean reward:  0.012 [ 0.000,  1.000], mean action: 2.480 [0.000, 5.000],  loss: 0.007300, mae: 0.098465, mean_q: 0.124864, mean_eps: 0.951228\n",
      "  28072/500000: episode: 45, duration: 166.742s, episode steps: 772, steps per second:   5, episode reward: 11.000, mean reward:  0.014 [ 0.000,  1.000], mean action: 2.563 [0.000, 5.000],  loss: 0.007316, mae: 0.098006, mean_q: 0.123317, mean_eps: 0.950166\n",
      "  29088/500000: episode: 46, duration: 218.873s, episode steps: 1016, steps per second:   5, episode reward: 16.000, mean reward:  0.016 [ 0.000,  1.000], mean action: 2.556 [0.000, 5.000],  loss: 0.007260, mae: 0.097675, mean_q: 0.122937, mean_eps: 0.948557\n",
      "  29810/500000: episode: 47, duration: 156.076s, episode steps: 722, steps per second:   5, episode reward: 14.000, mean reward:  0.019 [ 0.000,  1.000], mean action: 2.566 [0.000, 5.000],  loss: 0.006998, mae: 0.098483, mean_q: 0.122817, mean_eps: 0.946993\n"
     ]
    },
    {
     "name": "stdout",
     "output_type": "stream",
     "text": [
      "  30504/500000: episode: 48, duration: 148.514s, episode steps: 694, steps per second:   5, episode reward:  8.000, mean reward:  0.012 [ 0.000,  1.000], mean action: 2.427 [0.000, 5.000],  loss: 0.007701, mae: 0.104396, mean_q: 0.134029, mean_eps: 0.945718\n",
      "  31372/500000: episode: 49, duration: 186.144s, episode steps: 868, steps per second:   5, episode reward: 15.000, mean reward:  0.017 [ 0.000,  1.000], mean action: 2.547 [0.000, 5.000],  loss: 0.008056, mae: 0.110437, mean_q: 0.139822, mean_eps: 0.944313\n",
      "  31975/500000: episode: 50, duration: 130.084s, episode steps: 603, steps per second:   5, episode reward: 10.000, mean reward:  0.017 [ 0.000,  1.000], mean action: 2.617 [0.000, 5.000],  loss: 0.007539, mae: 0.112266, mean_q: 0.142244, mean_eps: 0.942989\n",
      "  32515/500000: episode: 51, duration: 115.318s, episode steps: 540, steps per second:   5, episode reward:  7.000, mean reward:  0.013 [ 0.000,  1.000], mean action: 2.459 [0.000, 5.000],  loss: 0.007113, mae: 0.109843, mean_q: 0.137833, mean_eps: 0.941960\n",
      "  33290/500000: episode: 52, duration: 165.526s, episode steps: 775, steps per second:   5, episode reward: 10.000, mean reward:  0.013 [ 0.000,  1.000], mean action: 2.480 [0.000, 5.000],  loss: 0.007656, mae: 0.113018, mean_q: 0.140569, mean_eps: 0.940776\n",
      "  33770/500000: episode: 53, duration: 102.979s, episode steps: 480, steps per second:   5, episode reward:  5.000, mean reward:  0.010 [ 0.000,  1.000], mean action: 2.427 [0.000, 5.000],  loss: 0.007628, mae: 0.112216, mean_q: 0.139391, mean_eps: 0.939647\n",
      "  34387/500000: episode: 54, duration: 131.701s, episode steps: 617, steps per second:   5, episode reward: 10.000, mean reward:  0.016 [ 0.000,  1.000], mean action: 2.374 [0.000, 5.000],  loss: 0.007249, mae: 0.113093, mean_q: 0.140848, mean_eps: 0.938660\n",
      "  34882/500000: episode: 55, duration: 105.684s, episode steps: 495, steps per second:   5, episode reward:  4.000, mean reward:  0.008 [ 0.000,  1.000], mean action: 2.535 [0.000, 5.000],  loss: 0.007424, mae: 0.112726, mean_q: 0.139601, mean_eps: 0.937659\n",
      "  35916/500000: episode: 56, duration: 219.650s, episode steps: 1034, steps per second:   5, episode reward: 14.000, mean reward:  0.014 [ 0.000,  1.000], mean action: 2.517 [0.000, 5.000],  loss: 0.007737, mae: 0.117414, mean_q: 0.147644, mean_eps: 0.936283\n",
      "  36452/500000: episode: 57, duration: 114.612s, episode steps: 536, steps per second:   5, episode reward:  7.000, mean reward:  0.013 [ 0.000,  1.000], mean action: 2.519 [0.000, 5.000],  loss: 0.007081, mae: 0.120187, mean_q: 0.148672, mean_eps: 0.934870\n",
      "  36939/500000: episode: 58, duration: 104.263s, episode steps: 487, steps per second:   5, episode reward:  6.000, mean reward:  0.012 [ 0.000,  1.000], mean action: 2.470 [0.000, 5.000],  loss: 0.007392, mae: 0.123073, mean_q: 0.152536, mean_eps: 0.933949\n",
      "  37457/500000: episode: 59, duration: 109.841s, episode steps: 518, steps per second:   5, episode reward:  4.000, mean reward:  0.008 [ 0.000,  1.000], mean action: 2.452 [0.000, 5.000],  loss: 0.007314, mae: 0.122753, mean_q: 0.152095, mean_eps: 0.933044\n",
      "  38123/500000: episode: 60, duration: 143.221s, episode steps: 666, steps per second:   5, episode reward:  7.000, mean reward:  0.011 [ 0.000,  1.000], mean action: 2.638 [0.000, 5.000],  loss: 0.007289, mae: 0.121928, mean_q: 0.150228, mean_eps: 0.931979\n",
      "  38666/500000: episode: 61, duration: 115.892s, episode steps: 543, steps per second:   5, episode reward:  6.000, mean reward:  0.011 [ 0.000,  1.000], mean action: 2.838 [0.000, 5.000],  loss: 0.006307, mae: 0.120228, mean_q: 0.148581, mean_eps: 0.930891\n",
      "  39464/500000: episode: 62, duration: 171.209s, episode steps: 798, steps per second:   5, episode reward: 11.000, mean reward:  0.014 [ 0.000,  1.000], mean action: 2.602 [0.000, 5.000],  loss: 0.006944, mae: 0.121540, mean_q: 0.149172, mean_eps: 0.929684\n",
      "  40157/500000: episode: 63, duration: 148.920s, episode steps: 693, steps per second:   5, episode reward: 10.000, mean reward:  0.014 [ 0.000,  1.000], mean action: 2.392 [0.000, 5.000],  loss: 0.007225, mae: 0.127384, mean_q: 0.157534, mean_eps: 0.928342\n",
      "  40802/500000: episode: 64, duration: 138.612s, episode steps: 645, steps per second:   5, episode reward:  8.000, mean reward:  0.012 [ 0.000,  1.000], mean action: 2.468 [0.000, 5.000],  loss: 0.008847, mae: 0.143655, mean_q: 0.177157, mean_eps: 0.927138\n",
      "  41408/500000: episode: 65, duration: 129.269s, episode steps: 606, steps per second:   5, episode reward:  8.000, mean reward:  0.013 [ 0.000,  1.000], mean action: 2.625 [0.000, 5.000],  loss: 0.008832, mae: 0.150621, mean_q: 0.186963, mean_eps: 0.926012\n",
      "  42404/500000: episode: 66, duration: 212.749s, episode steps: 996, steps per second:   5, episode reward: 11.000, mean reward:  0.011 [ 0.000,  1.000], mean action: 2.452 [0.000, 5.000],  loss: 0.008218, mae: 0.150390, mean_q: 0.185379, mean_eps: 0.924570\n",
      "  43048/500000: episode: 67, duration: 139.026s, episode steps: 644, steps per second:   5, episode reward:  8.000, mean reward:  0.012 [ 0.000,  1.000], mean action: 2.472 [0.000, 5.000],  loss: 0.008263, mae: 0.151469, mean_q: 0.186655, mean_eps: 0.923094\n",
      "  43688/500000: episode: 68, duration: 132.591s, episode steps: 640, steps per second:   5, episode reward: 12.000, mean reward:  0.019 [ 0.000,  1.000], mean action: 2.422 [0.000, 5.000],  loss: 0.007457, mae: 0.150305, mean_q: 0.183840, mean_eps: 0.921938\n",
      "  44216/500000: episode: 69, duration: 108.546s, episode steps: 528, steps per second:   5, episode reward:  7.000, mean reward:  0.013 [ 0.000,  1.000], mean action: 2.646 [0.000, 5.000],  loss: 0.007004, mae: 0.150524, mean_q: 0.183359, mean_eps: 0.920887\n",
      "  45219/500000: episode: 70, duration: 206.723s, episode steps: 1003, steps per second:   5, episode reward: 18.000, mean reward:  0.018 [ 0.000,  1.000], mean action: 2.578 [0.000, 5.000],  loss: 0.007821, mae: 0.151901, mean_q: 0.185404, mean_eps: 0.919509\n",
      "  46362/500000: episode: 71, duration: 233.873s, episode steps: 1143, steps per second:   5, episode reward: 13.000, mean reward:  0.011 [ 0.000,  1.000], mean action: 2.493 [0.000, 5.000],  loss: 0.008545, mae: 0.163751, mean_q: 0.199564, mean_eps: 0.917578\n",
      "  47678/500000: episode: 72, duration: 266.436s, episode steps: 1316, steps per second:   5, episode reward: 11.000, mean reward:  0.008 [ 0.000,  1.000], mean action: 2.399 [0.000, 5.000],  loss: 0.008775, mae: 0.168736, mean_q: 0.206210, mean_eps: 0.915365\n",
      "  48327/500000: episode: 73, duration: 132.390s, episode steps: 649, steps per second:   5, episode reward: 13.000, mean reward:  0.020 [ 0.000,  1.000], mean action: 2.618 [0.000, 5.000],  loss: 0.007387, mae: 0.168790, mean_q: 0.206617, mean_eps: 0.913596\n",
      "  49070/500000: episode: 74, duration: 151.976s, episode steps: 743, steps per second:   5, episode reward: 10.000, mean reward:  0.013 [ 0.000,  1.000], mean action: 2.618 [0.000, 5.000],  loss: 0.007701, mae: 0.168955, mean_q: 0.205606, mean_eps: 0.912344\n",
      "  49938/500000: episode: 75, duration: 179.158s, episode steps: 868, steps per second:   5, episode reward: 14.000, mean reward:  0.016 [ 0.000,  1.000], mean action: 2.634 [0.000, 5.000],  loss: 0.007706, mae: 0.170409, mean_q: 0.208110, mean_eps: 0.910894\n",
      "  50444/500000: episode: 76, duration: 104.261s, episode steps: 506, steps per second:   5, episode reward:  5.000, mean reward:  0.010 [ 0.000,  1.000], mean action: 2.545 [0.000, 5.000],  loss: 0.008292, mae: 0.169750, mean_q: 0.207239, mean_eps: 0.909657\n",
      "  51088/500000: episode: 77, duration: 131.535s, episode steps: 644, steps per second:   5, episode reward: 11.000, mean reward:  0.017 [ 0.000,  1.000], mean action: 2.584 [0.000, 5.000],  loss: 0.008419, mae: 0.176197, mean_q: 0.215366, mean_eps: 0.908622\n",
      "  51628/500000: episode: 78, duration: 110.996s, episode steps: 540, steps per second:   5, episode reward:  9.000, mean reward:  0.017 [ 0.000,  1.000], mean action: 2.363 [0.000, 5.000],  loss: 0.008255, mae: 0.177583, mean_q: 0.216050, mean_eps: 0.907556\n",
      "  52186/500000: episode: 79, duration: 116.063s, episode steps: 558, steps per second:   5, episode reward: 10.000, mean reward:  0.018 [ 0.000,  1.000], mean action: 2.532 [0.000, 5.000],  loss: 0.007960, mae: 0.179171, mean_q: 0.219065, mean_eps: 0.906568\n"
     ]
    },
    {
     "name": "stdout",
     "output_type": "stream",
     "text": [
      "  52693/500000: episode: 80, duration: 104.467s, episode steps: 507, steps per second:   5, episode reward: 12.000, mean reward:  0.024 [ 0.000,  1.000], mean action: 2.606 [0.000, 5.000],  loss: 0.007651, mae: 0.175690, mean_q: 0.213711, mean_eps: 0.905610\n",
      "  53342/500000: episode: 81, duration: 132.355s, episode steps: 649, steps per second:   5, episode reward: 12.000, mean reward:  0.018 [ 0.000,  1.000], mean action: 2.658 [0.000, 5.000],  loss: 0.007936, mae: 0.178409, mean_q: 0.216482, mean_eps: 0.904569\n",
      "  53759/500000: episode: 82, duration: 86.229s, episode steps: 417, steps per second:   5, episode reward:  9.000, mean reward:  0.022 [ 0.000,  1.000], mean action: 2.400 [0.000, 5.000],  loss: 0.007288, mae: 0.177651, mean_q: 0.216112, mean_eps: 0.903610\n",
      "  54975/500000: episode: 83, duration: 250.469s, episode steps: 1216, steps per second:   5, episode reward: 17.000, mean reward:  0.014 [ 0.000,  1.000], mean action: 2.569 [0.000, 5.000],  loss: 0.007359, mae: 0.177036, mean_q: 0.214748, mean_eps: 0.902140\n",
      "  55422/500000: episode: 84, duration: 91.769s, episode steps: 447, steps per second:   5, episode reward:  9.000, mean reward:  0.020 [ 0.000,  1.000], mean action: 2.651 [0.000, 5.000],  loss: 0.007797, mae: 0.180631, mean_q: 0.221158, mean_eps: 0.900644\n",
      "  56062/500000: episode: 85, duration: 130.584s, episode steps: 640, steps per second:   5, episode reward:  7.000, mean reward:  0.011 [ 0.000,  1.000], mean action: 2.556 [0.000, 5.000],  loss: 0.008407, mae: 0.189478, mean_q: 0.231014, mean_eps: 0.899665\n",
      "  56523/500000: episode: 86, duration: 94.680s, episode steps: 461, steps per second:   5, episode reward:  8.000, mean reward:  0.017 [ 0.000,  1.000], mean action: 2.449 [0.000, 5.000],  loss: 0.007824, mae: 0.189457, mean_q: 0.230241, mean_eps: 0.898674\n",
      "  57062/500000: episode: 87, duration: 110.634s, episode steps: 539, steps per second:   5, episode reward:  7.000, mean reward:  0.013 [ 0.000,  1.000], mean action: 2.607 [0.000, 5.000],  loss: 0.007681, mae: 0.193610, mean_q: 0.235123, mean_eps: 0.897774\n",
      "  57552/500000: episode: 88, duration: 102.006s, episode steps: 490, steps per second:   5, episode reward:  9.000, mean reward:  0.018 [ 0.000,  1.000], mean action: 2.502 [0.000, 5.000],  loss: 0.008097, mae: 0.192494, mean_q: 0.233205, mean_eps: 0.896848\n",
      "  58096/500000: episode: 89, duration: 111.702s, episode steps: 544, steps per second:   5, episode reward:  7.000, mean reward:  0.013 [ 0.000,  1.000], mean action: 2.704 [0.000, 5.000],  loss: 0.007531, mae: 0.192796, mean_q: 0.232786, mean_eps: 0.895918\n",
      "  59277/500000: episode: 90, duration: 243.428s, episode steps: 1181, steps per second:   5, episode reward: 23.000, mean reward:  0.019 [ 0.000,  1.000], mean action: 2.450 [0.000, 5.000],  loss: 0.007201, mae: 0.192215, mean_q: 0.233002, mean_eps: 0.894365\n",
      "  59828/500000: episode: 91, duration: 113.443s, episode steps: 551, steps per second:   5, episode reward: 11.000, mean reward:  0.020 [ 0.000,  1.000], mean action: 2.595 [0.000, 5.000],  loss: 0.007502, mae: 0.192089, mean_q: 0.234026, mean_eps: 0.892806\n",
      "  60253/500000: episode: 92, duration: 86.272s, episode steps: 425, steps per second:   5, episode reward:  6.000, mean reward:  0.014 [ 0.000,  1.000], mean action: 2.607 [0.000, 5.000],  loss: 0.007838, mae: 0.195243, mean_q: 0.239065, mean_eps: 0.891928\n",
      "  61090/500000: episode: 93, duration: 173.099s, episode steps: 837, steps per second:   5, episode reward: 11.000, mean reward:  0.013 [ 0.000,  1.000], mean action: 2.655 [0.000, 5.000],  loss: 0.007832, mae: 0.197485, mean_q: 0.242870, mean_eps: 0.890792\n",
      "  61589/500000: episode: 94, duration: 102.705s, episode steps: 499, steps per second:   5, episode reward:  8.000, mean reward:  0.016 [ 0.000,  1.000], mean action: 2.559 [0.000, 5.000],  loss: 0.008206, mae: 0.201181, mean_q: 0.246101, mean_eps: 0.889590\n",
      "  62585/500000: episode: 95, duration: 203.438s, episode steps: 996, steps per second:   5, episode reward: 18.000, mean reward:  0.018 [ 0.000,  1.000], mean action: 2.585 [0.000, 5.000],  loss: 0.007814, mae: 0.200746, mean_q: 0.243398, mean_eps: 0.888244\n",
      "  63461/500000: episode: 96, duration: 179.737s, episode steps: 876, steps per second:   5, episode reward: 16.000, mean reward:  0.018 [ 0.000,  1.000], mean action: 2.604 [0.000, 5.000],  loss: 0.008208, mae: 0.202520, mean_q: 0.245292, mean_eps: 0.886560\n",
      "  64078/500000: episode: 97, duration: 127.121s, episode steps: 617, steps per second:   5, episode reward: 10.000, mean reward:  0.016 [ 0.000,  1.000], mean action: 2.468 [0.000, 5.000],  loss: 0.007260, mae: 0.202375, mean_q: 0.245947, mean_eps: 0.885216\n",
      "  64508/500000: episode: 98, duration: 89.208s, episode steps: 430, steps per second:   5, episode reward:  4.000, mean reward:  0.009 [ 0.000,  1.000], mean action: 2.640 [0.000, 5.000],  loss: 0.008717, mae: 0.205430, mean_q: 0.248740, mean_eps: 0.884274\n",
      "  65592/500000: episode: 99, duration: 223.134s, episode steps: 1084, steps per second:   5, episode reward: 25.000, mean reward:  0.023 [ 0.000,  1.000], mean action: 2.511 [0.000, 5.000],  loss: 0.008267, mae: 0.210408, mean_q: 0.255783, mean_eps: 0.882911\n",
      "  66235/500000: episode: 100, duration: 132.792s, episode steps: 643, steps per second:   5, episode reward: 11.000, mean reward:  0.017 [ 0.000,  1.000], mean action: 2.572 [0.000, 5.000],  loss: 0.008985, mae: 0.220237, mean_q: 0.267914, mean_eps: 0.881357\n",
      "  66911/500000: episode: 101, duration: 140.841s, episode steps: 676, steps per second:   5, episode reward:  9.000, mean reward:  0.013 [ 0.000,  1.000], mean action: 2.570 [0.000, 5.000],  loss: 0.008240, mae: 0.222816, mean_q: 0.270246, mean_eps: 0.880170\n",
      "  67681/500000: episode: 102, duration: 158.060s, episode steps: 770, steps per second:   5, episode reward: 19.000, mean reward:  0.025 [ 0.000,  1.000], mean action: 2.690 [0.000, 5.000],  loss: 0.008580, mae: 0.224011, mean_q: 0.270734, mean_eps: 0.878868\n",
      "  68174/500000: episode: 103, duration: 103.526s, episode steps: 493, steps per second:   5, episode reward:  7.000, mean reward:  0.014 [ 0.000,  1.000], mean action: 2.609 [0.000, 5.000],  loss: 0.008879, mae: 0.224711, mean_q: 0.271941, mean_eps: 0.877731\n",
      "  68789/500000: episode: 104, duration: 123.773s, episode steps: 615, steps per second:   5, episode reward:  9.000, mean reward:  0.015 [ 0.000,  1.000], mean action: 2.694 [0.000, 5.000],  loss: 0.008649, mae: 0.225268, mean_q: 0.272555, mean_eps: 0.876734\n",
      "  69407/500000: episode: 105, duration: 126.732s, episode steps: 618, steps per second:   5, episode reward:  9.000, mean reward:  0.015 [ 0.000,  1.000], mean action: 2.537 [0.000, 5.000],  loss: 0.008381, mae: 0.224059, mean_q: 0.270373, mean_eps: 0.875625\n",
      "  70356/500000: episode: 106, duration: 196.171s, episode steps: 949, steps per second:   5, episode reward: 17.000, mean reward:  0.018 [ 0.000,  1.000], mean action: 2.654 [0.000, 5.000],  loss: 0.008086, mae: 0.226018, mean_q: 0.274118, mean_eps: 0.874214\n",
      "  71014/500000: episode: 107, duration: 134.367s, episode steps: 658, steps per second:   5, episode reward: 15.000, mean reward:  0.023 [ 0.000,  1.000], mean action: 2.635 [0.000, 5.000],  loss: 0.008543, mae: 0.233805, mean_q: 0.284619, mean_eps: 0.872768\n",
      "  71697/500000: episode: 108, duration: 141.885s, episode steps: 683, steps per second:   5, episode reward: 10.000, mean reward:  0.015 [ 0.000,  1.000], mean action: 2.635 [0.000, 5.000],  loss: 0.007914, mae: 0.235575, mean_q: 0.286100, mean_eps: 0.871561\n",
      "  72261/500000: episode: 109, duration: 115.429s, episode steps: 564, steps per second:   5, episode reward:  8.000, mean reward:  0.014 [ 0.000,  1.000], mean action: 2.590 [0.000, 5.000],  loss: 0.008895, mae: 0.234857, mean_q: 0.284302, mean_eps: 0.870439\n",
      "  72752/500000: episode: 110, duration: 100.791s, episode steps: 491, steps per second:   5, episode reward:  6.000, mean reward:  0.012 [ 0.000,  1.000], mean action: 2.597 [0.000, 5.000],  loss: 0.008074, mae: 0.237261, mean_q: 0.286496, mean_eps: 0.869489\n",
      "  73465/500000: episode: 111, duration: 145.981s, episode steps: 713, steps per second:   5, episode reward:  8.000, mean reward:  0.011 [ 0.000,  1.000], mean action: 2.588 [0.000, 5.000],  loss: 0.008110, mae: 0.237962, mean_q: 0.286060, mean_eps: 0.868406\n"
     ]
    },
    {
     "name": "stdout",
     "output_type": "stream",
     "text": [
      "  73898/500000: episode: 112, duration: 89.419s, episode steps: 433, steps per second:   5, episode reward:  3.000, mean reward:  0.007 [ 0.000,  1.000], mean action: 2.656 [0.000, 5.000],  loss: 0.007984, mae: 0.234139, mean_q: 0.283352, mean_eps: 0.867374\n",
      "  74691/500000: episode: 113, duration: 163.761s, episode steps: 793, steps per second:   5, episode reward: 14.000, mean reward:  0.018 [ 0.000,  1.000], mean action: 2.559 [0.000, 5.000],  loss: 0.007859, mae: 0.235135, mean_q: 0.282986, mean_eps: 0.866271\n",
      "  75828/500000: episode: 114, duration: 233.547s, episode steps: 1137, steps per second:   5, episode reward: 20.000, mean reward:  0.018 [ 0.000,  1.000], mean action: 2.551 [0.000, 5.000],  loss: 0.008896, mae: 0.250344, mean_q: 0.302438, mean_eps: 0.864534\n",
      "  76179/500000: episode: 115, duration: 73.048s, episode steps: 351, steps per second:   5, episode reward:  4.000, mean reward:  0.011 [ 0.000,  1.000], mean action: 2.664 [0.000, 5.000],  loss: 0.009191, mae: 0.256336, mean_q: 0.309044, mean_eps: 0.863195\n",
      "  76508/500000: episode: 116, duration: 67.170s, episode steps: 329, steps per second:   5, episode reward:  2.000, mean reward:  0.006 [ 0.000,  1.000], mean action: 2.556 [0.000, 5.000],  loss: 0.009220, mae: 0.259445, mean_q: 0.311819, mean_eps: 0.862583\n",
      "  77445/500000: episode: 117, duration: 195.034s, episode steps: 937, steps per second:   5, episode reward: 16.000, mean reward:  0.017 [ 0.000,  1.000], mean action: 2.300 [0.000, 5.000],  loss: 0.008708, mae: 0.258852, mean_q: 0.311941, mean_eps: 0.861443\n",
      "  78100/500000: episode: 118, duration: 134.616s, episode steps: 655, steps per second:   5, episode reward:  9.000, mean reward:  0.014 [ 0.000,  1.000], mean action: 2.421 [0.000, 5.000],  loss: 0.008173, mae: 0.259736, mean_q: 0.312580, mean_eps: 0.860010\n",
      "  78673/500000: episode: 119, duration: 118.649s, episode steps: 573, steps per second:   5, episode reward:  6.000, mean reward:  0.010 [ 0.000,  1.000], mean action: 2.452 [0.000, 5.000],  loss: 0.008935, mae: 0.260634, mean_q: 0.313223, mean_eps: 0.858905\n",
      "  79056/500000: episode: 120, duration: 78.379s, episode steps: 383, steps per second:   5, episode reward:  9.000, mean reward:  0.023 [ 0.000,  1.000], mean action: 2.585 [0.000, 5.000],  loss: 0.008901, mae: 0.258736, mean_q: 0.310906, mean_eps: 0.858045\n",
      "  79908/500000: episode: 121, duration: 179.775s, episode steps: 852, steps per second:   5, episode reward: 12.000, mean reward:  0.014 [ 0.000,  1.000], mean action: 2.484 [0.000, 5.000],  loss: 0.008291, mae: 0.259408, mean_q: 0.311746, mean_eps: 0.856933\n",
      "  80789/500000: episode: 122, duration: 182.796s, episode steps: 881, steps per second:   5, episode reward: 12.000, mean reward:  0.014 [ 0.000,  1.000], mean action: 2.536 [0.000, 5.000],  loss: 0.009047, mae: 0.269669, mean_q: 0.323640, mean_eps: 0.855374\n",
      "  81434/500000: episode: 123, duration: 132.645s, episode steps: 645, steps per second:   5, episode reward:  6.000, mean reward:  0.009 [ 0.000,  1.000], mean action: 2.611 [0.000, 5.000],  loss: 0.009833, mae: 0.276021, mean_q: 0.332417, mean_eps: 0.854000\n",
      "  81942/500000: episode: 124, duration: 106.476s, episode steps: 508, steps per second:   5, episode reward:  9.000, mean reward:  0.018 [ 0.000,  1.000], mean action: 2.459 [0.000, 5.000],  loss: 0.008436, mae: 0.275326, mean_q: 0.331011, mean_eps: 0.852963\n",
      "  82566/500000: episode: 125, duration: 128.885s, episode steps: 624, steps per second:   5, episode reward: 10.000, mean reward:  0.016 [ 0.000,  1.000], mean action: 2.712 [0.000, 5.000],  loss: 0.008593, mae: 0.276332, mean_q: 0.332410, mean_eps: 0.851944\n",
      "  83157/500000: episode: 126, duration: 121.886s, episode steps: 591, steps per second:   5, episode reward:  7.000, mean reward:  0.012 [ 0.000,  1.000], mean action: 2.687 [0.000, 5.000],  loss: 0.008208, mae: 0.272567, mean_q: 0.327773, mean_eps: 0.850850\n",
      "  83737/500000: episode: 127, duration: 118.308s, episode steps: 580, steps per second:   5, episode reward:  8.000, mean reward:  0.014 [ 0.000,  1.000], mean action: 2.662 [0.000, 5.000],  loss: 0.008301, mae: 0.274678, mean_q: 0.330574, mean_eps: 0.849796\n",
      "  84442/500000: episode: 128, duration: 145.911s, episode steps: 705, steps per second:   5, episode reward: 16.000, mean reward:  0.023 [ 0.000,  1.000], mean action: 2.573 [0.000, 5.000],  loss: 0.009310, mae: 0.276012, mean_q: 0.331575, mean_eps: 0.848640\n",
      "  84769/500000: episode: 129, duration: 66.848s, episode steps: 327, steps per second:   5, episode reward:  3.000, mean reward:  0.009 [ 0.000,  1.000], mean action: 2.618 [0.000, 5.000],  loss: 0.008568, mae: 0.278956, mean_q: 0.334743, mean_eps: 0.847711\n",
      "  85559/500000: episode: 130, duration: 163.262s, episode steps: 790, steps per second:   5, episode reward: 12.000, mean reward:  0.015 [ 0.000,  1.000], mean action: 2.673 [0.000, 5.000],  loss: 0.008870, mae: 0.279449, mean_q: 0.336464, mean_eps: 0.846706\n",
      "  86501/500000: episode: 131, duration: 196.608s, episode steps: 942, steps per second:   5, episode reward: 11.000, mean reward:  0.012 [ 0.000,  1.000], mean action: 2.608 [0.000, 5.000],  loss: 0.008689, mae: 0.284175, mean_q: 0.341705, mean_eps: 0.845147\n",
      "  87088/500000: episode: 132, duration: 121.375s, episode steps: 587, steps per second:   5, episode reward:  7.000, mean reward:  0.012 [ 0.000,  1.000], mean action: 2.651 [0.000, 5.000],  loss: 0.008405, mae: 0.284233, mean_q: 0.340801, mean_eps: 0.843771\n",
      "  87777/500000: episode: 133, duration: 143.093s, episode steps: 689, steps per second:   5, episode reward: 14.000, mean reward:  0.020 [ 0.000,  1.000], mean action: 2.376 [0.000, 5.000],  loss: 0.009136, mae: 0.289944, mean_q: 0.347428, mean_eps: 0.842622\n",
      "  88547/500000: episode: 134, duration: 158.344s, episode steps: 770, steps per second:   5, episode reward:  9.000, mean reward:  0.012 [ 0.000,  1.000], mean action: 2.548 [0.000, 5.000],  loss: 0.008297, mae: 0.288354, mean_q: 0.345796, mean_eps: 0.841309\n",
      "  89064/500000: episode: 135, duration: 107.517s, episode steps: 517, steps per second:   5, episode reward:  5.000, mean reward:  0.010 [ 0.000,  1.000], mean action: 2.648 [0.000, 5.000],  loss: 0.009190, mae: 0.292565, mean_q: 0.350885, mean_eps: 0.840151\n",
      "  89688/500000: episode: 136, duration: 128.578s, episode steps: 624, steps per second:   5, episode reward:  9.000, mean reward:  0.014 [ 0.000,  1.000], mean action: 2.502 [0.000, 5.000],  loss: 0.008539, mae: 0.289483, mean_q: 0.349104, mean_eps: 0.839124\n",
      "  90084/500000: episode: 137, duration: 82.792s, episode steps: 396, steps per second:   5, episode reward: 10.000, mean reward:  0.025 [ 0.000,  1.000], mean action: 2.568 [0.000, 5.000],  loss: 0.008168, mae: 0.285299, mean_q: 0.344809, mean_eps: 0.838206\n",
      "  90596/500000: episode: 138, duration: 105.414s, episode steps: 512, steps per second:   5, episode reward:  5.000, mean reward:  0.010 [ 0.000,  1.000], mean action: 2.609 [0.000, 5.000],  loss: 0.009430, mae: 0.302302, mean_q: 0.366523, mean_eps: 0.837389\n",
      "  91622/500000: episode: 139, duration: 211.633s, episode steps: 1026, steps per second:   5, episode reward: 18.000, mean reward:  0.018 [ 0.000,  1.000], mean action: 2.563 [0.000, 5.000],  loss: 0.009124, mae: 0.304289, mean_q: 0.367454, mean_eps: 0.836005\n",
      "  92314/500000: episode: 140, duration: 142.813s, episode steps: 692, steps per second:   5, episode reward:  9.000, mean reward:  0.013 [ 0.000,  1.000], mean action: 2.775 [0.000, 5.000],  loss: 0.008849, mae: 0.305168, mean_q: 0.367361, mean_eps: 0.834459\n",
      "  93653/500000: episode: 141, duration: 271.487s, episode steps: 1339, steps per second:   5, episode reward: 13.000, mean reward:  0.010 [ 0.000,  1.000], mean action: 2.691 [0.000, 5.000],  loss: 0.009230, mae: 0.307792, mean_q: 0.370323, mean_eps: 0.832631\n",
      "  94140/500000: episode: 142, duration: 98.497s, episode steps: 487, steps per second:   5, episode reward:  7.000, mean reward:  0.014 [ 0.000,  1.000], mean action: 2.454 [0.000, 5.000],  loss: 0.009353, mae: 0.308516, mean_q: 0.368986, mean_eps: 0.830987\n",
      "  94916/500000: episode: 143, duration: 162.043s, episode steps: 776, steps per second:   5, episode reward: 10.000, mean reward:  0.013 [ 0.000,  1.000], mean action: 2.593 [0.000, 5.000],  loss: 0.009133, mae: 0.311569, mean_q: 0.373620, mean_eps: 0.829850\n"
     ]
    },
    {
     "name": "stdout",
     "output_type": "stream",
     "text": [
      "  95644/500000: episode: 144, duration: 150.073s, episode steps: 728, steps per second:   5, episode reward:  8.000, mean reward:  0.011 [ 0.000,  1.000], mean action: 2.802 [0.000, 5.000],  loss: 0.008398, mae: 0.304945, mean_q: 0.366715, mean_eps: 0.828497\n",
      "  96554/500000: episode: 145, duration: 187.872s, episode steps: 910, steps per second:   5, episode reward: 15.000, mean reward:  0.016 [ 0.000,  1.000], mean action: 2.802 [0.000, 5.000],  loss: 0.008707, mae: 0.309079, mean_q: 0.371222, mean_eps: 0.827023\n",
      "  97694/500000: episode: 146, duration: 238.101s, episode steps: 1140, steps per second:   5, episode reward: 16.000, mean reward:  0.014 [ 0.000,  1.000], mean action: 2.513 [0.000, 5.000],  loss: 0.008353, mae: 0.309955, mean_q: 0.372243, mean_eps: 0.825178\n",
      "  98457/500000: episode: 147, duration: 158.798s, episode steps: 763, steps per second:   5, episode reward: 11.000, mean reward:  0.014 [ 0.000,  1.000], mean action: 2.545 [0.000, 5.000],  loss: 0.008735, mae: 0.315587, mean_q: 0.378852, mean_eps: 0.823465\n",
      "  99118/500000: episode: 148, duration: 136.183s, episode steps: 661, steps per second:   5, episode reward:  9.000, mean reward:  0.014 [ 0.000,  1.000], mean action: 2.405 [0.000, 5.000],  loss: 0.008384, mae: 0.312276, mean_q: 0.374860, mean_eps: 0.822183\n",
      "  99994/500000: episode: 149, duration: 182.495s, episode steps: 876, steps per second:   5, episode reward: 11.000, mean reward:  0.013 [ 0.000,  1.000], mean action: 2.584 [0.000, 5.000],  loss: 0.008002, mae: 0.309510, mean_q: 0.371506, mean_eps: 0.820800\n",
      " 101307/500000: episode: 150, duration: 272.527s, episode steps: 1313, steps per second:   5, episode reward: 32.000, mean reward:  0.024 [ 0.000,  1.000], mean action: 2.541 [0.000, 5.000],  loss: 0.009172, mae: 0.327271, mean_q: 0.394770, mean_eps: 0.818830\n",
      " 101828/500000: episode: 151, duration: 106.549s, episode steps: 521, steps per second:   5, episode reward:  5.000, mean reward:  0.010 [ 0.000,  1.000], mean action: 2.388 [0.000, 5.000],  loss: 0.009281, mae: 0.328952, mean_q: 0.394979, mean_eps: 0.817179\n",
      " 102664/500000: episode: 152, duration: 172.958s, episode steps: 836, steps per second:   5, episode reward: 11.000, mean reward:  0.013 [ 0.000,  1.000], mean action: 2.695 [0.000, 5.000],  loss: 0.009394, mae: 0.330694, mean_q: 0.396925, mean_eps: 0.815958\n",
      " 103490/500000: episode: 153, duration: 169.820s, episode steps: 826, steps per second:   5, episode reward: 11.000, mean reward:  0.013 [ 0.000,  1.000], mean action: 2.673 [0.000, 5.000],  loss: 0.009315, mae: 0.332107, mean_q: 0.398911, mean_eps: 0.814462\n",
      " 104287/500000: episode: 154, duration: 165.593s, episode steps: 797, steps per second:   5, episode reward: 17.000, mean reward:  0.021 [ 0.000,  1.000], mean action: 2.452 [0.000, 5.000],  loss: 0.008367, mae: 0.329205, mean_q: 0.395699, mean_eps: 0.813002\n",
      " 104983/500000: episode: 155, duration: 143.581s, episode steps: 696, steps per second:   5, episode reward:  8.000, mean reward:  0.011 [ 0.000,  1.000], mean action: 2.348 [0.000, 5.000],  loss: 0.008996, mae: 0.332152, mean_q: 0.399172, mean_eps: 0.811658\n",
      " 105746/500000: episode: 156, duration: 157.854s, episode steps: 763, steps per second:   5, episode reward: 10.000, mean reward:  0.013 [ 0.000,  1.000], mean action: 2.760 [0.000, 5.000],  loss: 0.009378, mae: 0.339198, mean_q: 0.408300, mean_eps: 0.810345\n",
      " 106153/500000: episode: 157, duration: 84.732s, episode steps: 407, steps per second:   5, episode reward:  5.000, mean reward:  0.012 [ 0.000,  1.000], mean action: 2.705 [0.000, 5.000],  loss: 0.008804, mae: 0.341023, mean_q: 0.410644, mean_eps: 0.809292\n",
      " 106943/500000: episode: 158, duration: 164.160s, episode steps: 790, steps per second:   5, episode reward:  7.000, mean reward:  0.009 [ 0.000,  1.000], mean action: 2.808 [0.000, 5.000],  loss: 0.009008, mae: 0.344418, mean_q: 0.413795, mean_eps: 0.808215\n",
      " 107735/500000: episode: 159, duration: 163.981s, episode steps: 792, steps per second:   5, episode reward:  9.000, mean reward:  0.011 [ 0.000,  1.000], mean action: 2.761 [0.000, 5.000],  loss: 0.008788, mae: 0.345374, mean_q: 0.414714, mean_eps: 0.806791\n",
      " 108385/500000: episode: 160, duration: 134.500s, episode steps: 650, steps per second:   5, episode reward: 15.000, mean reward:  0.023 [ 0.000,  1.000], mean action: 2.555 [0.000, 5.000],  loss: 0.008899, mae: 0.347239, mean_q: 0.416687, mean_eps: 0.805493\n",
      " 108968/500000: episode: 161, duration: 120.360s, episode steps: 583, steps per second:   5, episode reward:  8.000, mean reward:  0.014 [ 0.000,  1.000], mean action: 2.700 [0.000, 5.000],  loss: 0.009133, mae: 0.344906, mean_q: 0.413503, mean_eps: 0.804383\n",
      " 109565/500000: episode: 162, duration: 122.373s, episode steps: 597, steps per second:   5, episode reward:  9.000, mean reward:  0.015 [ 0.000,  1.000], mean action: 2.601 [0.000, 5.000],  loss: 0.008457, mae: 0.343016, mean_q: 0.411463, mean_eps: 0.803321\n",
      "done, took 20937.528 seconds\n"
     ]
    }
   ],
   "source": [
    "history=dqn.fit(env, nb_steps=500000, visualize=False, verbose=2)\n",
    "rewards = history.history['episode_reward']"
   ]
  },
  {
   "cell_type": "code",
   "execution_count": 2,
   "metadata": {},
   "outputs": [
    {
     "name": "stderr",
     "output_type": "stream",
     "text": [
      "No artists with labels found to put in legend.  Note that artists whose label start with an underscore are ignored when legend() is called with no argument.\n"
     ]
    },
    {
     "data": {
      "image/png": "[encoded data removed]",
      "text/plain": [
       "<Figure size 640x480 with 1 Axes>"
      ]
     },
     "metadata": {},
     "output_type": "display_data"
    }
   ],
   "source": [
    "# Obtener las métricas\n",
    "rewards = history.history['episode_reward']\n",
    "steps = history.history['nb_steps']\n",
    "\n",
    "# Crear el gráfico\n",
    "plt.plot(steps, rewards)\n",
    "plt.xlabel('Episodes')\n",
    "plt.ylabel('Rewards')\n",
    "plt.legend()\n",
    "plt.grid(True)\n",
    "plt.show()"
   ]
  },
  {
   "cell_type": "code",
   "execution_count": 13,
   "metadata": {},
   "outputs": [
    {
     "name": "stdout",
     "output_type": "stream",
     "text": [
      "Testing for 20 episodes ...\n"
     ]
    },
    {
     "name": "stderr",
     "output_type": "stream",
     "text": [
      "C:\\Users\\laura\\anaconda3\\envs\\miar_rl\\lib\\site-packages\\tensorflow\\python\\keras\\engine\\training.py:2426: UserWarning: `Model.state_updates` will be removed in a future version. This property should not be used in TensorFlow 2.0, as `updates` are applied automatically.\n",
      "  warnings.warn('`Model.state_updates` will be removed in a future version. '\n"
     ]
    },
    {
     "name": "stdout",
     "output_type": "stream",
     "text": [
      "Episode 1: reward: 3.000, steps: 935\n",
      "Episode 2: reward: 1.000, steps: 683\n",
      "Episode 3: reward: 1.000, steps: 679\n",
      "Episode 4: reward: 1.000, steps: 679\n",
      "Episode 5: reward: 1.000, steps: 672\n",
      "Episode 6: reward: 2.000, steps: 925\n",
      "Episode 7: reward: 4.000, steps: 934\n",
      "Episode 8: reward: 1.000, steps: 690\n",
      "Episode 9: reward: 2.000, steps: 960\n",
      "Episode 10: reward: 1.000, steps: 688\n",
      "Episode 11: reward: 3.000, steps: 924\n",
      "Episode 12: reward: 3.000, steps: 922\n",
      "Episode 13: reward: 1.000, steps: 691\n",
      "Episode 14: reward: 4.000, steps: 727\n",
      "Episode 15: reward: 4.000, steps: 919\n",
      "Episode 16: reward: 1.000, steps: 686\n",
      "Episode 17: reward: 1.000, steps: 684\n",
      "Episode 18: reward: 3.000, steps: 932\n",
      "Episode 19: reward: 3.000, steps: 929\n",
      "Episode 20: reward: 4.000, steps: 925\n",
      "Media de recompensa: 2.2\n"
     ]
    }
   ],
   "source": [
    "#Evaluación en modo test\n",
    "scores = dqn.test(env, nb_episodes=20, visualize=False)\n",
    "print(\"Media de recompensa:\", np.mean(scores.history['episode_reward']))"
   ]
  },
  {
   "cell_type": "code",
   "execution_count": 16,
   "metadata": {},
   "outputs": [],
   "source": [
    "#Guardado de pesos\n",
    "dqn.save_weights('dqn_spaceinvaders_weights.h5f', overwrite=True)"
   ]
  },
  {
   "cell_type": "markdown",
   "metadata": {
    "id": "-NAlu8b1Gb2b"
   },
   "source": [
    "3. Justificación de los parámetros seleccionados y de los resultados obtenidos"
   ]
  },
  {
   "cell_type": "markdown",
   "metadata": {
    "id": "ANFQiicXK3sO"
   },
   "source": [
    "---"
   ]
  }
 ],
 "metadata": {
  "colab": {
   "provenance": []
  },
  "kernelspec": {
   "display_name": "Python [miar_rl]",
   "language": "python",
   "name": "miar_rl"
  },
  "language_info": {
   "codemirror_mode": {
    "name": "ipython",
    "version": 3
   },
   "file_extension": ".py",
   "mimetype": "text/x-python",
   "name": "python",
   "nbconvert_exporter": "python",
   "pygments_lexer": "ipython3",
   "version": "3.8.20"
  }
 },
 "nbformat": 4,
 "nbformat_minor": 4
}
