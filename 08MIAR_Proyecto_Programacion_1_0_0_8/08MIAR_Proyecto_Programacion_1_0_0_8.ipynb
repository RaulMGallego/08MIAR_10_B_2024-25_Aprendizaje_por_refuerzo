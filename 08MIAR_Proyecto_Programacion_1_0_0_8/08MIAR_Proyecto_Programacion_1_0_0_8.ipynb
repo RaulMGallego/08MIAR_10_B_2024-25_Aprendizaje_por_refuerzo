{
 "cells": [
  {
   "cell_type": "markdown",
   "metadata": {
    "id": "jUehXgCyIRdq"
   },
   "source": [
    "# Actividad - Proyecto práctico\n",
    "\n",
    "\n",
    "> La actividad se desarrollará en grupos pre-definidos de 2-3 alumnos. Se debe indicar los nombres en orden alfabético (de apellidos). Recordad que esta actividad se corresponde con un 30% de la nota final de la asignatura. Se debe entregar entregar el trabajo en la presente notebook.\n",
    "*   Alumno 1: Marta Castillo Galán\n",
    "*   Alumno 2: Unai Marín Etxebarria\n",
    "*   Alumno 3: Laura Molinos Mayo\n",
    "*   Alumno 4: Raúl Murillo Gallego\n",
    "\n",
    "\n",
    "\n",
    "\n"
   ]
  },
  {
   "cell_type": "markdown",
   "metadata": {
    "id": "4hzP_5ZuGb2X"
   },
   "source": [
    "---\n",
    "## **PARTE 2**. Enunciado\n",
    "\n",
    "Consideraciones a tener en cuenta:\n",
    "\n",
    "- El entorno sobre el que trabajaremos será _SpaceInvaders-v0_ y el algoritmo que usaremos será _DQN_.\n",
    "\n",
    "- Para nuestro ejercicio, el requisito mínimo será alcanzado cuando el agente consiga una **media de recompensa por encima de 20 puntos en modo test**. Por ello, esta media de la recompensa se calculará a partir del código de test en la última celda del notebook.\n",
    "\n",
    "Este proyecto práctico consta de tres partes:\n",
    "\n",
    "1.   Implementar la red neuronal que se usará en la solución\n",
    "2.   Implementar las distintas piezas de la solución DQN\n",
    "3.   Justificar la respuesta en relación a los resultados obtenidos\n",
    "\n",
    "**Rúbrica**: Se valorará la originalidad en la solución aportada, así como la capacidad de discutir los resultados de forma detallada. El requisito mínimo servirá para aprobar la actividad, bajo premisa de que la discusión del resultado sera apropiada.\n",
    "\n",
    "IMPORTANTE:\n",
    "\n",
    "* Si no se consigue una puntuación óptima, responder sobre la mejor puntuación obtenida.\n",
    "* Para entrenamientos largos, recordad que podéis usar checkpoints de vuestros modelos para retomar los entrenamientos. En este caso, recordad cambiar los parámetros adecuadamente (sobre todo los relacionados con el proceso de exploración).\n",
    "* Se deberá entregar unicamente el notebook y los pesos del mejor modelo en un fichero .zip, de forma organizada.\n",
    "* Cada alumno deberá de subir la solución de forma individual."
   ]
  },
  {
   "cell_type": "markdown",
   "metadata": {
    "id": "6_b3mzw8IzJP"
   },
   "source": [
    "---\n",
    "## **PARTE 3**. Desarrollo y preguntas"
   ]
  },
  {
   "cell_type": "markdown",
   "metadata": {
    "id": "duPmUNOVGb2a"
   },
   "source": [
    "#### Importar librerías"
   ]
  },
  {
   "cell_type": "code",
   "execution_count": 1,
   "metadata": {
    "id": "j3eRhgI-Gb2a"
   },
   "outputs": [],
   "source": [
    "from __future__ import division\n",
    "\n",
    "from PIL import Image\n",
    "import numpy as np\n",
    "import gym\n",
    "\n",
    "from tensorflow.keras.models import Sequential\n",
    "from tensorflow.keras.layers import Dense, Activation, Flatten, Convolution2D, Permute, BatchNormalization, Dropout, MaxPooling2D\n",
    "from tensorflow.keras.optimizers import Adam\n",
    "import tensorflow.keras.backend as K\n",
    "\n",
    "from rl.agents.dqn import DQNAgent\n",
    "from rl.policy import LinearAnnealedPolicy, BoltzmannQPolicy, EpsGreedyQPolicy\n",
    "from rl.memory import SequentialMemory\n",
    "from rl.core import Processor\n",
    "from rl.callbacks import FileLogger, ModelIntervalCheckpoint\n",
    "\n",
    "from tensorflow.keras.optimizers import RMSprop\n",
    "import matplotlib.pyplot as plt"
   ]
  },
  {
   "cell_type": "markdown",
   "metadata": {
    "id": "f4jgQjzoGb2a"
   },
   "source": [
    "#### Configuración base"
   ]
  },
  {
   "cell_type": "code",
   "execution_count": 2,
   "metadata": {
    "id": "jwOE6I_KGb2a"
   },
   "outputs": [],
   "source": [
    "INPUT_SHAPE = (84, 84)\n",
    "WINDOW_LENGTH = 4\n",
    "\n",
    "env_name = 'SpaceInvaders-v0'\n",
    "env = gym.make(env_name)\n",
    "\n",
    "np.random.seed(123)\n",
    "env.seed(123)\n",
    "nb_actions = env.action_space.n"
   ]
  },
  {
   "cell_type": "code",
   "execution_count": 3,
   "metadata": {
    "id": "9jGEZUcpGb2a"
   },
   "outputs": [],
   "source": [
    "class AtariProcessor(Processor):\n",
    "    def process_observation(self, observation):\n",
    "        assert observation.ndim == 3  # (height, width, channel)\n",
    "        img = Image.fromarray(observation)\n",
    "        img = img.resize(INPUT_SHAPE).convert('L')\n",
    "        processed_observation = np.array(img)\n",
    "        assert processed_observation.shape == INPUT_SHAPE\n",
    "        return processed_observation.astype('uint8')\n",
    "\n",
    "    def process_state_batch(self, batch):\n",
    "        processed_batch = batch.astype('float32') / 255.\n",
    "        return processed_batch\n",
    "\n",
    "    def process_reward(self, reward):\n",
    "        return np.clip(reward, -1., 1.)"
   ]
  },
  {
   "cell_type": "markdown",
   "metadata": {
    "id": "7yitXTADGb2b"
   },
   "source": [
    "1. Implementación de la red neuronal"
   ]
  },
  {
   "cell_type": "code",
   "execution_count": 4,
   "metadata": {
    "id": "O4GKrfWSGb2b"
   },
   "outputs": [],
   "source": [
    "def build_model(window_length, input_shape, nb_actions):\n",
    "    model = Sequential()\n",
    "    model.add(Permute((2, 3, 1), input_shape=(window_length,) + input_shape))  # (window, 84, 84) → (84, 84, window)\n",
    "    model.add(Convolution2D(filters=32, kernel_size= (8,8), strides=(1,1), padding='same'))\n",
    "    model.add(Activation('relu'))\n",
    "    model.add(MaxPooling2D((2,2)))\n",
    "    model.add(Convolution2D(filters= 64, kernel_size=(4,4), strides=(1,1), padding='same'))\n",
    "    model.add(Activation('relu'))\n",
    "    model.add(Convolution2D(filters= 128, kernel_size=(3,3), strides=(1,1), padding='same'))\n",
    "    model.add(Activation('relu'))\n",
    "    model.add(Flatten())\n",
    "    model.add(Dense(128))\n",
    "    model.add(Activation('relu'))\n",
    "    model.add(Dense(nb_actions))\n",
    "    model.add(Activation('linear'))\n",
    "    return model"
   ]
  },
  {
   "cell_type": "markdown",
   "metadata": {
    "id": "OB9-_5HPGb2b"
   },
   "source": [
    "2. Implementación de la solución DQN"
   ]
  },
  {
   "cell_type": "code",
   "execution_count": 5,
   "metadata": {
    "id": "foSlxWH1Gb2b"
   },
   "outputs": [
    {
     "name": "stdout",
     "output_type": "stream",
     "text": [
      "Model: \"sequential\"\n",
      "_________________________________________________________________\n",
      "Layer (type)                 Output Shape              Param #   \n",
      "=================================================================\n",
      "permute (Permute)            (None, 84, 84, 4)         0         \n",
      "_________________________________________________________________\n",
      "conv2d (Conv2D)              (None, 84, 84, 32)        8224      \n",
      "_________________________________________________________________\n",
      "activation (Activation)      (None, 84, 84, 32)        0         \n",
      "_________________________________________________________________\n",
      "max_pooling2d (MaxPooling2D) (None, 42, 42, 32)        0         \n",
      "_________________________________________________________________\n",
      "conv2d_1 (Conv2D)            (None, 42, 42, 64)        32832     \n",
      "_________________________________________________________________\n",
      "activation_1 (Activation)    (None, 42, 42, 64)        0         \n",
      "_________________________________________________________________\n",
      "conv2d_2 (Conv2D)            (None, 42, 42, 128)       73856     \n",
      "_________________________________________________________________\n",
      "activation_2 (Activation)    (None, 42, 42, 128)       0         \n",
      "_________________________________________________________________\n",
      "flatten (Flatten)            (None, 225792)            0         \n",
      "_________________________________________________________________\n",
      "dense (Dense)                (None, 128)               28901504  \n",
      "_________________________________________________________________\n",
      "activation_3 (Activation)    (None, 128)               0         \n",
      "_________________________________________________________________\n",
      "dense_1 (Dense)              (None, 6)                 774       \n",
      "_________________________________________________________________\n",
      "activation_4 (Activation)    (None, 6)                 0         \n",
      "=================================================================\n",
      "Total params: 29,017,190\n",
      "Trainable params: 29,017,190\n",
      "Non-trainable params: 0\n",
      "_________________________________________________________________\n",
      "None\n"
     ]
    }
   ],
   "source": [
    "# Preparamos memoria y política\n",
    "memory = SequentialMemory(limit=1_000_000, window_length=WINDOW_LENGTH)\n",
    "policy = LinearAnnealedPolicy(EpsGreedyQPolicy(),  \n",
    "                              attr='eps',         \n",
    "                              value_max=1.,        \n",
    "                              value_min=0.05,       \n",
    "                              value_test=0.05,      \n",
    "                              nb_steps=2_000_000) \n",
    "\n",
    "# Creamos el modelo\n",
    "model = build_model(WINDOW_LENGTH, INPUT_SHAPE, nb_actions)\n",
    "print(model.summary())\n",
    "\n",
    "# Creamos el procesador\n",
    "processor = AtariProcessor()\n",
    "\n",
    "#Creamos el agente\n",
    "dqn = DQNAgent(model=model,\n",
    "               nb_actions=nb_actions,\n",
    "               policy=policy,\n",
    "               memory=memory,\n",
    "               processor=processor,\n",
    "               nb_steps_warmup = 20_000,\n",
    "               gamma=0.99,\n",
    "               target_model_update=10_000,\n",
    "               train_interval=4)\n",
    "\n",
    "dqn.compile(Adam(learning_rate=0.0001), metrics=['mae'])"
   ]
  },
  {
   "cell_type": "code",
   "execution_count": 6,
   "metadata": {},
   "outputs": [
    {
     "name": "stdout",
     "output_type": "stream",
     "text": [
      "Training for 200000 steps ...\n",
      "Interval 1 (0 steps performed)\n"
     ]
    },
    {
     "name": "stderr",
     "output_type": "stream",
     "text": [
      "C:\\Users\\laura\\anaconda3\\envs\\miar_rl\\lib\\site-packages\\tensorflow\\python\\keras\\engine\\training.py:2426: UserWarning: `Model.state_updates` will be removed in a future version. This property should not be used in TensorFlow 2.0, as `updates` are applied automatically.\n",
      "  warnings.warn('`Model.state_updates` will be removed in a future version. '\n"
     ]
    },
    {
     "name": "stdout",
     "output_type": "stream",
     "text": [
      "10000/10000 [==============================] - 119s 12ms/step - reward: 0.0120\n",
      "14 episodes - episode_reward: 8.214 [5.000, 14.000] - ale.lives: 2.081\n",
      "\n",
      "Interval 2 (10000 steps performed)\n",
      "10000/10000 [==============================] - 122s 12ms/step - reward: 0.0125\n",
      "17 episodes - episode_reward: 7.294 [4.000, 14.000] - ale.lives: 2.090\n",
      "\n",
      "Interval 3 (20000 steps performed)\n",
      "10000/10000 [==============================] - 667s 67ms/step - reward: 0.0146\n",
      "15 episodes - episode_reward: 10.133 [5.000, 21.000] - loss: 0.006 - mae: 0.050 - mean_q: 0.072 - mean_eps: 0.988 - ale.lives: 2.065\n",
      "\n",
      "Interval 4 (30000 steps performed)\n",
      "10000/10000 [==============================] - 674s 67ms/step - reward: 0.0129\n",
      "13 episodes - episode_reward: 9.615 [4.000, 18.000] - loss: 0.006 - mae: 0.101 - mean_q: 0.139 - mean_eps: 0.983 - ale.lives: 2.211\n",
      "\n",
      "Interval 5 (40000 steps performed)\n",
      "10000/10000 [==============================] - 673s 67ms/step - reward: 0.0152\n",
      "14 episodes - episode_reward: 10.571 [3.000, 21.000] - loss: 0.006 - mae: 0.144 - mean_q: 0.197 - mean_eps: 0.979 - ale.lives: 2.170\n",
      "\n",
      "Interval 6 (50000 steps performed)\n",
      "10000/10000 [==============================] - 672s 67ms/step - reward: 0.0125\n",
      "14 episodes - episode_reward: 9.000 [3.000, 17.000] - loss: 0.006 - mae: 0.202 - mean_q: 0.271 - mean_eps: 0.974 - ale.lives: 2.114\n",
      "\n",
      "Interval 7 (60000 steps performed)\n",
      "10000/10000 [==============================] - 675s 67ms/step - reward: 0.0133\n",
      "15 episodes - episode_reward: 8.133 [4.000, 17.000] - loss: 0.006 - mae: 0.254 - mean_q: 0.336 - mean_eps: 0.969 - ale.lives: 2.207\n",
      "\n",
      "Interval 8 (70000 steps performed)\n",
      "10000/10000 [==============================] - 668s 67ms/step - reward: 0.0146\n",
      "15 episodes - episode_reward: 10.067 [6.000, 18.000] - loss: 0.006 - mae: 0.283 - mean_q: 0.365 - mean_eps: 0.964 - ale.lives: 2.136\n",
      "\n",
      "Interval 9 (80000 steps performed)\n",
      "10000/10000 [==============================] - 673s 67ms/step - reward: 0.0142\n",
      "14 episodes - episode_reward: 10.429 [6.000, 22.000] - loss: 0.006 - mae: 0.328 - mean_q: 0.419 - mean_eps: 0.960 - ale.lives: 2.039\n",
      "\n",
      "Interval 10 (90000 steps performed)\n",
      "10000/10000 [==============================] - 674s 67ms/step - reward: 0.0135\n",
      "14 episodes - episode_reward: 9.357 [5.000, 17.000] - loss: 0.007 - mae: 0.361 - mean_q: 0.457 - mean_eps: 0.955 - ale.lives: 2.153\n",
      "\n",
      "Interval 11 (100000 steps performed)\n",
      "10000/10000 [==============================] - 677s 68ms/step - reward: 0.0135\n",
      "12 episodes - episode_reward: 11.250 [6.000, 18.000] - loss: 0.007 - mae: 0.402 - mean_q: 0.507 - mean_eps: 0.950 - ale.lives: 2.231\n",
      "\n",
      "Interval 12 (110000 steps performed)\n",
      "10000/10000 [==============================] - 672s 67ms/step - reward: 0.0148\n",
      "14 episodes - episode_reward: 11.000 [4.000, 21.000] - loss: 0.007 - mae: 0.426 - mean_q: 0.535 - mean_eps: 0.945 - ale.lives: 2.185\n",
      "\n",
      "Interval 13 (120000 steps performed)\n",
      "10000/10000 [==============================] - 675s 67ms/step - reward: 0.0141\n",
      "17 episodes - episode_reward: 8.588 [2.000, 17.000] - loss: 0.007 - mae: 0.477 - mean_q: 0.598 - mean_eps: 0.941 - ale.lives: 2.146\n",
      "\n",
      "Interval 14 (130000 steps performed)\n",
      "10000/10000 [==============================] - 679s 68ms/step - reward: 0.0134\n",
      "14 episodes - episode_reward: 9.214 [5.000, 19.000] - loss: 0.008 - mae: 0.518 - mean_q: 0.646 - mean_eps: 0.936 - ale.lives: 2.191\n",
      "\n",
      "Interval 15 (140000 steps performed)\n",
      "10000/10000 [==============================] - 676s 68ms/step - reward: 0.0141\n",
      "14 episodes - episode_reward: 10.071 [6.000, 17.000] - loss: 0.008 - mae: 0.549 - mean_q: 0.682 - mean_eps: 0.931 - ale.lives: 2.110\n",
      "\n",
      "Interval 16 (150000 steps performed)\n",
      "10000/10000 [==============================] - 679s 68ms/step - reward: 0.0139\n",
      "16 episodes - episode_reward: 8.875 [2.000, 27.000] - loss: 0.008 - mae: 0.582 - mean_q: 0.721 - mean_eps: 0.926 - ale.lives: 2.086\n",
      "\n",
      "Interval 17 (160000 steps performed)\n",
      "10000/10000 [==============================] - 675s 67ms/step - reward: 0.0144\n",
      "16 episodes - episode_reward: 8.812 [2.000, 15.000] - loss: 0.008 - mae: 0.621 - mean_q: 0.768 - mean_eps: 0.922 - ale.lives: 2.090\n",
      "\n",
      "Interval 18 (170000 steps performed)\n",
      "10000/10000 [==============================] - 695s 69ms/step - reward: 0.0149\n",
      "16 episodes - episode_reward: 9.750 [3.000, 18.000] - loss: 0.007 - mae: 0.669 - mean_q: 0.826 - mean_eps: 0.917 - ale.lives: 2.145\n",
      "\n",
      "Interval 19 (180000 steps performed)\n",
      "10000/10000 [==============================] - 683s 68ms/step - reward: 0.0142\n",
      "14 episodes - episode_reward: 9.571 [4.000, 21.000] - loss: 0.007 - mae: 0.698 - mean_q: 0.861 - mean_eps: 0.912 - ale.lives: 1.965\n",
      "\n",
      "Interval 20 (190000 steps performed)\n",
      "10000/10000 [==============================] - 686s 69ms/step - reward: 0.0141\n",
      "done, took 12414.788 seconds\n"
     ]
    }
   ],
   "source": [
    "history=dqn.fit(env, nb_steps=200_000, visualize=False, verbose=1)"
   ]
  },
  {
   "cell_type": "code",
   "execution_count": 7,
   "metadata": {},
   "outputs": [
    {
     "name": "stderr",
     "output_type": "stream",
     "text": [
      "No artists with labels found to put in legend.  Note that artists whose label start with an underscore are ignored when legend() is called with no argument.\n"
     ]
    },
    {
     "data": {
      "image/png": "[encoded data removed]",
      "text/plain": [
       "<Figure size 640x480 with 1 Axes>"
      ]
     },
     "metadata": {},
     "output_type": "display_data"
    }
   ],
   "source": [
    "# Obtener las métricas\n",
    "rewards = history.history['episode_reward']\n",
    "steps = history.history['nb_steps']\n",
    "\n",
    "# Crear el gráfico\n",
    "plt.plot(steps, rewards)\n",
    "plt.xlabel('Steps')\n",
    "plt.ylabel('Rewards')\n",
    "plt.legend()\n",
    "plt.grid(True)\n",
    "plt.show()"
   ]
  },
  {
   "cell_type": "code",
   "execution_count": 8,
   "metadata": {},
   "outputs": [
    {
     "name": "stdout",
     "output_type": "stream",
     "text": [
      "Testing for 20 episodes ...\n",
      "Episode 1: reward: 18.000, steps: 1102\n",
      "Episode 2: reward: 9.000, steps: 656\n",
      "Episode 3: reward: 8.000, steps: 388\n",
      "Episode 4: reward: 12.000, steps: 544\n",
      "Episode 5: reward: 13.000, steps: 568\n",
      "Episode 6: reward: 7.000, steps: 366\n",
      "Episode 7: reward: 20.000, steps: 1013\n",
      "Episode 8: reward: 19.000, steps: 838\n",
      "Episode 9: reward: 23.000, steps: 1006\n",
      "Episode 10: reward: 6.000, steps: 352\n",
      "Episode 11: reward: 9.000, steps: 608\n",
      "Episode 12: reward: 12.000, steps: 684\n",
      "Episode 13: reward: 7.000, steps: 376\n",
      "Episode 14: reward: 5.000, steps: 404\n",
      "Episode 15: reward: 8.000, steps: 497\n",
      "Episode 16: reward: 10.000, steps: 805\n",
      "Episode 17: reward: 4.000, steps: 347\n",
      "Episode 18: reward: 6.000, steps: 359\n",
      "Episode 19: reward: 13.000, steps: 668\n",
      "Episode 20: reward: 7.000, steps: 359\n",
      "Media de recompensa: 10.8\n"
     ]
    }
   ],
   "source": [
    "#Evaluación en modo test\n",
    "scores = dqn.test(env, nb_episodes=20, visualize=False)\n",
    "print(\"Media de recompensa:\", np.mean(scores.history['episode_reward']))"
   ]
  },
  {
   "cell_type": "code",
   "execution_count": 9,
   "metadata": {},
   "outputs": [],
   "source": [
    "#Guardado de pesos\n",
    "dqn.save_weights('dqn_spaceinvaders_weights.h5f', overwrite=True)"
   ]
  },
  {
   "cell_type": "markdown",
   "metadata": {
    "id": "-NAlu8b1Gb2b"
   },
   "source": [
    "3. Justificación de los parámetros seleccionados y de los resultados obtenidos"
   ]
  },
  {
   "cell_type": "markdown",
   "metadata": {
    "id": "ANFQiicXK3sO"
   },
   "source": [
    "---"
   ]
  }
 ],
 "metadata": {
  "colab": {
   "provenance": []
  },
  "kernelspec": {
   "display_name": "Python [miar_rl]",
   "language": "python",
   "name": "miar_rl"
  },
  "language_info": {
   "codemirror_mode": {
    "name": "ipython",
    "version": 3
   },
   "file_extension": ".py",
   "mimetype": "text/x-python",
   "name": "python",
   "nbconvert_exporter": "python",
   "pygments_lexer": "ipython3",
   "version": "3.8.20"
  }
 },
 "nbformat": 4,
 "nbformat_minor": 4
}
