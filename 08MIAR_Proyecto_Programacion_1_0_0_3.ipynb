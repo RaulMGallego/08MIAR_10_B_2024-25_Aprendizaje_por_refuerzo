{
 "cells": [
  {
   "cell_type": "markdown",
   "metadata": {
    "id": "jUehXgCyIRdq"
   },
   "source": [
    "# Actividad - Proyecto práctico\n",
    "\n",
    "\n",
    "> La actividad se desarrollará en grupos pre-definidos de 2-3 alumnos. Se debe indicar los nombres en orden alfabético (de apellidos). Recordad que esta actividad se corresponde con un 30% de la nota final de la asignatura. Se debe entregar entregar el trabajo en la presente notebook.\n",
    "*   Alumno 1: Marta Castillo Galán\n",
    "*   Alumno 2: Unai Marín Etxebarria\n",
    "*   Alumno 3: Laura Molinos Mayo\n",
    "*   Alumno 4: Raúl Murillo Gallego\n",
    "\n",
    "\n",
    "\n",
    "\n"
   ]
  },
  {
   "cell_type": "markdown",
   "metadata": {
    "id": "4hzP_5ZuGb2X"
   },
   "source": [
    "---\n",
    "## **PARTE 2**. Enunciado\n",
    "\n",
    "Consideraciones a tener en cuenta:\n",
    "\n",
    "- El entorno sobre el que trabajaremos será _SpaceInvaders-v0_ y el algoritmo que usaremos será _DQN_.\n",
    "\n",
    "- Para nuestro ejercicio, el requisito mínimo será alcanzado cuando el agente consiga una **media de recompensa por encima de 20 puntos en modo test**. Por ello, esta media de la recompensa se calculará a partir del código de test en la última celda del notebook.\n",
    "\n",
    "Este proyecto práctico consta de tres partes:\n",
    "\n",
    "1.   Implementar la red neuronal que se usará en la solución\n",
    "2.   Implementar las distintas piezas de la solución DQN\n",
    "3.   Justificar la respuesta en relación a los resultados obtenidos\n",
    "\n",
    "**Rúbrica**: Se valorará la originalidad en la solución aportada, así como la capacidad de discutir los resultados de forma detallada. El requisito mínimo servirá para aprobar la actividad, bajo premisa de que la discusión del resultado sera apropiada.\n",
    "\n",
    "IMPORTANTE:\n",
    "\n",
    "* Si no se consigue una puntuación óptima, responder sobre la mejor puntuación obtenida.\n",
    "* Para entrenamientos largos, recordad que podéis usar checkpoints de vuestros modelos para retomar los entrenamientos. En este caso, recordad cambiar los parámetros adecuadamente (sobre todo los relacionados con el proceso de exploración).\n",
    "* Se deberá entregar unicamente el notebook y los pesos del mejor modelo en un fichero .zip, de forma organizada.\n",
    "* Cada alumno deberá de subir la solución de forma individual."
   ]
  },
  {
   "cell_type": "markdown",
   "metadata": {
    "id": "6_b3mzw8IzJP"
   },
   "source": [
    "---\n",
    "## **PARTE 3**. Desarrollo y preguntas"
   ]
  },
  {
   "cell_type": "markdown",
   "metadata": {
    "id": "duPmUNOVGb2a"
   },
   "source": [
    "#### Importar librerías"
   ]
  },
  {
   "cell_type": "code",
   "execution_count": 2,
   "metadata": {
    "id": "j3eRhgI-Gb2a"
   },
   "outputs": [],
   "source": [
    "from __future__ import division\n",
    "\n",
    "from PIL import Image\n",
    "import numpy as np\n",
    "import gym\n",
    "\n",
    "from tensorflow.keras.models import Sequential\n",
    "from tensorflow.keras.layers import Dense, Activation, Flatten, Convolution2D, Permute, BatchNormalization, Dropout\n",
    "from tensorflow.keras.optimizers import Adam\n",
    "import tensorflow.keras.backend as K\n",
    "\n",
    "from rl.agents.dqn import DQNAgent\n",
    "from rl.policy import LinearAnnealedPolicy, BoltzmannQPolicy, EpsGreedyQPolicy\n",
    "from rl.memory import SequentialMemory\n",
    "from rl.core import Processor\n",
    "from rl.callbacks import FileLogger, ModelIntervalCheckpoint\n",
    "\n",
    "from tensorflow.keras.optimizers import RMSprop\n",
    "import matplotlib.pyplot as plt"
   ]
  },
  {
   "cell_type": "markdown",
   "metadata": {
    "id": "f4jgQjzoGb2a"
   },
   "source": [
    "#### Configuración base"
   ]
  },
  {
   "cell_type": "code",
   "execution_count": 3,
   "metadata": {
    "id": "jwOE6I_KGb2a"
   },
   "outputs": [],
   "source": [
    "INPUT_SHAPE = (84, 84)\n",
    "WINDOW_LENGTH = 4\n",
    "\n",
    "env_name = 'SpaceInvaders-v0'\n",
    "env = gym.make(env_name)\n",
    "\n",
    "np.random.seed(123)\n",
    "env.seed(123)\n",
    "nb_actions = env.action_space.n"
   ]
  },
  {
   "cell_type": "code",
   "execution_count": 4,
   "metadata": {
    "id": "9jGEZUcpGb2a"
   },
   "outputs": [],
   "source": [
    "class AtariProcessor(Processor):\n",
    "    def process_observation(self, observation):\n",
    "        assert observation.ndim == 3  # (height, width, channel)\n",
    "        img = Image.fromarray(observation)\n",
    "        img = img.resize(INPUT_SHAPE).convert('L')\n",
    "        processed_observation = np.array(img)\n",
    "        assert processed_observation.shape == INPUT_SHAPE\n",
    "        return processed_observation.astype('uint8')\n",
    "\n",
    "    def process_state_batch(self, batch):\n",
    "        processed_batch = batch.astype('float32') / 255.\n",
    "        return processed_batch\n",
    "\n",
    "    def process_reward(self, reward):\n",
    "        return np.clip(reward, -1., 1.)"
   ]
  },
  {
   "cell_type": "markdown",
   "metadata": {
    "id": "7yitXTADGb2b"
   },
   "source": [
    "1. Implementación de la red neuronal"
   ]
  },
  {
   "cell_type": "code",
   "execution_count": 5,
   "metadata": {
    "id": "O4GKrfWSGb2b"
   },
   "outputs": [],
   "source": [
    "def build_model(window_length, input_shape, nb_actions):\n",
    "    model = Sequential()\n",
    "    model.add(Permute((2, 3, 1), input_shape=(window_length,) + input_shape))  # (window, 84, 84) → (84, 84, window)\n",
    "    model.add(Convolution2D(32, (8, 8), strides=(4, 4), activation='relu'))\n",
    "    model.add(BatchNormalization())\n",
    "    model.add(Convolution2D(64, (4, 4), strides=(2, 2), activation='relu'))\n",
    "    model.add(BatchNormalization())\n",
    "    model.add(Convolution2D(64, (3, 3), strides=(1, 1), activation='relu'))\n",
    "    model.add(BatchNormalization())\n",
    "    model.add(Flatten())\n",
    "    model.add(Dense(512, activation='relu'))\n",
    "    model.add(Dropout(0.2))\n",
    "    model.add(Dense(nb_actions, activation='linear'))\n",
    "    return model"
   ]
  },
  {
   "cell_type": "markdown",
   "metadata": {
    "id": "OB9-_5HPGb2b"
   },
   "source": [
    "2. Implementación de la solución DQN"
   ]
  },
  {
   "cell_type": "code",
   "execution_count": 6,
   "metadata": {
    "id": "foSlxWH1Gb2b"
   },
   "outputs": [
    {
     "name": "stdout",
     "output_type": "stream",
     "text": [
      "WARNING:tensorflow:From C:\\Users\\laura\\anaconda3\\envs\\miar_rl\\lib\\site-packages\\tensorflow\\python\\keras\\layers\\normalization.py:534: _colocate_with (from tensorflow.python.framework.ops) is deprecated and will be removed in a future version.\n",
      "Instructions for updating:\n",
      "Colocations handled automatically by placer.\n",
      "Model: \"sequential\"\n",
      "_________________________________________________________________\n",
      "Layer (type)                 Output Shape              Param #   \n",
      "=================================================================\n",
      "permute (Permute)            (None, 84, 84, 4)         0         \n",
      "_________________________________________________________________\n",
      "conv2d (Conv2D)              (None, 20, 20, 32)        8224      \n",
      "_________________________________________________________________\n",
      "batch_normalization (BatchNo (None, 20, 20, 32)        128       \n",
      "_________________________________________________________________\n",
      "conv2d_1 (Conv2D)            (None, 9, 9, 64)          32832     \n",
      "_________________________________________________________________\n",
      "batch_normalization_1 (Batch (None, 9, 9, 64)          256       \n",
      "_________________________________________________________________\n",
      "conv2d_2 (Conv2D)            (None, 7, 7, 64)          36928     \n",
      "_________________________________________________________________\n",
      "batch_normalization_2 (Batch (None, 7, 7, 64)          256       \n",
      "_________________________________________________________________\n",
      "flatten (Flatten)            (None, 3136)              0         \n",
      "_________________________________________________________________\n",
      "dense (Dense)                (None, 512)               1606144   \n",
      "_________________________________________________________________\n",
      "dropout (Dropout)            (None, 512)               0         \n",
      "_________________________________________________________________\n",
      "dense_1 (Dense)              (None, 6)                 3078      \n",
      "=================================================================\n",
      "Total params: 1,687,846\n",
      "Trainable params: 1,687,526\n",
      "Non-trainable params: 320\n",
      "_________________________________________________________________\n",
      "None\n"
     ]
    }
   ],
   "source": [
    "# Preparamos memoria y política\n",
    "memory = SequentialMemory(limit=100000, window_length=WINDOW_LENGTH)\n",
    "policy = BoltzmannQPolicy(tau=1.0)\n",
    "\n",
    "# Creamos el modelo\n",
    "model = build_model(WINDOW_LENGTH, INPUT_SHAPE, nb_actions)\n",
    "print(model.summary())\n",
    "\n",
    "# Creamos el procesador\n",
    "processor = AtariProcessor()\n",
    "\n",
    "#Creamos el agente\n",
    "dqn = DQNAgent(model=model,\n",
    "               nb_actions=nb_actions,\n",
    "               policy=policy,\n",
    "               memory=memory,\n",
    "               processor=processor,\n",
    "               nb_steps_warmup = 20000,\n",
    "               gamma=0.99,\n",
    "               target_model_update=5000,\n",
    "               train_interval=5,\n",
    "               delta_clip=1.0,\n",
    "               enable_dueling_network=True, dueling_type='max')\n",
    "\n",
    "dqn.compile(Adam(learning_rate=0.0001), metrics=['mae'])"
   ]
  },
  {
   "cell_type": "code",
   "execution_count": 7,
   "metadata": {
    "scrolled": false
   },
   "outputs": [
    {
     "name": "stdout",
     "output_type": "stream",
     "text": [
      "Training for 200000 steps ...\n",
      "Interval 1 (0 steps performed)\n"
     ]
    },
    {
     "name": "stderr",
     "output_type": "stream",
     "text": [
      "C:\\Users\\laura\\anaconda3\\envs\\miar_rl\\lib\\site-packages\\tensorflow\\python\\keras\\engine\\training.py:2426: UserWarning: `Model.state_updates` will be removed in a future version. This property should not be used in TensorFlow 2.0, as `updates` are applied automatically.\n",
      "  warnings.warn('`Model.state_updates` will be removed in a future version. '\n"
     ]
    },
    {
     "name": "stdout",
     "output_type": "stream",
     "text": [
      "10000/10000 [==============================] - 102s 10ms/step - reward: 0.0128\n",
      "13 episodes - episode_reward: 9.846 [4.000, 21.000] - ale.lives: 2.031\n",
      "\n",
      "Interval 2 (10000 steps performed)\n",
      "10000/10000 [==============================] - 101s 10ms/step - reward: 0.0146\n",
      "13 episodes - episode_reward: 10.692 [4.000, 29.000] - ale.lives: 2.113\n",
      "\n",
      "Interval 3 (20000 steps performed)\n",
      "10000/10000 [==============================] - 510s 51ms/step - reward: 0.0159\n",
      "11 episodes - episode_reward: 13.818 [9.000, 24.000] - loss: 0.060 - mae: 0.148 - mean_q: 0.180 - ale.lives: 2.136\n",
      "\n",
      "Interval 4 (30000 steps performed)\n",
      "10000/10000 [==============================] - 506s 51ms/step - reward: 0.0136\n",
      "16 episodes - episode_reward: 9.375 [4.000, 17.000] - loss: 0.008 - mae: 0.079 - mean_q: 0.109 - ale.lives: 2.079\n",
      "\n",
      "Interval 5 (40000 steps performed)\n",
      "10000/10000 [==============================] - 509s 51ms/step - reward: 0.0129\n",
      "14 episodes - episode_reward: 8.714 [6.000, 16.000] - loss: 0.009 - mae: 0.123 - mean_q: 0.158 - ale.lives: 2.106\n",
      "\n",
      "Interval 6 (50000 steps performed)\n",
      "10000/10000 [==============================] - 508s 51ms/step - reward: 0.0134\n",
      "16 episodes - episode_reward: 8.688 [3.000, 17.000] - loss: 0.009 - mae: 0.176 - mean_q: 0.219 - ale.lives: 2.212\n",
      "\n",
      "Interval 7 (60000 steps performed)\n",
      "10000/10000 [==============================] - 509s 51ms/step - reward: 0.0153\n",
      "15 episodes - episode_reward: 9.800 [3.000, 17.000] - loss: 0.010 - mae: 0.209 - mean_q: 0.254 - ale.lives: 2.108\n",
      "\n",
      "Interval 8 (70000 steps performed)\n",
      "10000/10000 [==============================] - 511s 51ms/step - reward: 0.0139\n",
      "15 episodes - episode_reward: 9.267 [4.000, 18.000] - loss: 0.010 - mae: 0.227 - mean_q: 0.273 - ale.lives: 2.098\n",
      "\n",
      "Interval 9 (80000 steps performed)\n",
      "10000/10000 [==============================] - 512s 51ms/step - reward: 0.0150\n",
      "15 episodes - episode_reward: 10.267 [6.000, 19.000] - loss: 0.010 - mae: 0.250 - mean_q: 0.300 - ale.lives: 2.083\n",
      "\n",
      "Interval 10 (90000 steps performed)\n",
      "10000/10000 [==============================] - 511s 51ms/step - reward: 0.0143\n",
      "15 episodes - episode_reward: 9.800 [5.000, 23.000] - loss: 0.011 - mae: 0.278 - mean_q: 0.333 - ale.lives: 2.028\n",
      "\n",
      "Interval 11 (100000 steps performed)\n",
      "10000/10000 [==============================] - 510s 51ms/step - reward: 0.0125\n",
      "15 episodes - episode_reward: 8.333 [3.000, 14.000] - loss: 0.011 - mae: 0.299 - mean_q: 0.358 - ale.lives: 2.147\n",
      "\n",
      "Interval 12 (110000 steps performed)\n",
      "10000/10000 [==============================] - 510s 51ms/step - reward: 0.0137\n",
      "13 episodes - episode_reward: 9.000 [3.000, 14.000] - loss: 0.011 - mae: 0.316 - mean_q: 0.377 - ale.lives: 2.110\n",
      "\n",
      "Interval 13 (120000 steps performed)\n",
      "10000/10000 [==============================] - 513s 51ms/step - reward: 0.0124\n",
      "15 episodes - episode_reward: 9.333 [4.000, 21.000] - loss: 0.010 - mae: 0.335 - mean_q: 0.399 - ale.lives: 2.088\n",
      "\n",
      "Interval 14 (130000 steps performed)\n",
      "10000/10000 [==============================] - 512s 51ms/step - reward: 0.0149\n",
      "14 episodes - episode_reward: 10.857 [1.000, 19.000] - loss: 0.009 - mae: 0.343 - mean_q: 0.409 - ale.lives: 2.092\n",
      "\n",
      "Interval 15 (140000 steps performed)\n",
      "10000/10000 [==============================] - 504s 50ms/step - reward: 0.0153\n",
      "13 episodes - episode_reward: 11.077 [4.000, 19.000] - loss: 0.008 - mae: 0.361 - mean_q: 0.431 - ale.lives: 2.109\n",
      "\n",
      "Interval 16 (150000 steps performed)\n",
      "10000/10000 [==============================] - 489s 49ms/step - reward: 0.0138\n",
      "16 episodes - episode_reward: 9.250 [3.000, 16.000] - loss: 0.008 - mae: 0.389 - mean_q: 0.466 - ale.lives: 2.133\n",
      "\n",
      "Interval 17 (160000 steps performed)\n",
      "10000/10000 [==============================] - 491s 49ms/step - reward: 0.0143\n",
      "13 episodes - episode_reward: 10.923 [3.000, 21.000] - loss: 0.008 - mae: 0.408 - mean_q: 0.489 - ale.lives: 2.056\n",
      "\n",
      "Interval 18 (170000 steps performed)\n",
      "10000/10000 [==============================] - 491s 49ms/step - reward: 0.0139\n",
      "16 episodes - episode_reward: 8.750 [3.000, 15.000] - loss: 0.009 - mae: 0.430 - mean_q: 0.514 - ale.lives: 2.140\n",
      "\n",
      "Interval 19 (180000 steps performed)\n",
      "10000/10000 [==============================] - 491s 49ms/step - reward: 0.0124\n",
      "14 episodes - episode_reward: 7.929 [4.000, 14.000] - loss: 0.008 - mae: 0.454 - mean_q: 0.544 - ale.lives: 2.083\n",
      "\n",
      "Interval 20 (190000 steps performed)\n",
      "10000/10000 [==============================] - 492s 49ms/step - reward: 0.0130\n",
      "done, took 9282.904 seconds\n"
     ]
    }
   ],
   "source": [
    "history=dqn.fit(env, nb_steps=200000, visualize=False, verbose=1)"
   ]
  },
  {
   "cell_type": "code",
   "execution_count": 8,
   "metadata": {},
   "outputs": [
    {
     "name": "stderr",
     "output_type": "stream",
     "text": [
      "No artists with labels found to put in legend.  Note that artists whose label start with an underscore are ignored when legend() is called with no argument.\n"
     ]
    },
    {
     "data": {
      "image/png": "[encoded data removed]",
      "text/plain": [
       "<Figure size 640x480 with 1 Axes>"
      ]
     },
     "metadata": {},
     "output_type": "display_data"
    }
   ],
   "source": [
    "# Obtener las métricas\n",
    "rewards = history.history['episode_reward']\n",
    "steps = history.history['nb_steps']\n",
    "\n",
    "# Crear el gráfico\n",
    "plt.plot(steps, rewards)\n",
    "plt.xlabel('Steps')\n",
    "plt.ylabel('Rewards')\n",
    "plt.legend()\n",
    "plt.grid(True)\n",
    "plt.show()"
   ]
  },
  {
   "cell_type": "code",
   "execution_count": 9,
   "metadata": {},
   "outputs": [
    {
     "name": "stdout",
     "output_type": "stream",
     "text": [
      "Testing for 20 episodes ...\n",
      "Episode 1: reward: 12.000, steps: 864\n",
      "Episode 2: reward: 12.000, steps: 847\n",
      "Episode 3: reward: 12.000, steps: 853\n",
      "Episode 4: reward: 12.000, steps: 849\n",
      "Episode 5: reward: 16.000, steps: 1023\n",
      "Episode 6: reward: 17.000, steps: 1027\n",
      "Episode 7: reward: 16.000, steps: 989\n",
      "Episode 8: reward: 12.000, steps: 847\n",
      "Episode 9: reward: 18.000, steps: 1224\n",
      "Episode 10: reward: 16.000, steps: 1004\n",
      "Episode 11: reward: 12.000, steps: 850\n",
      "Episode 12: reward: 26.000, steps: 1671\n",
      "Episode 13: reward: 16.000, steps: 1097\n",
      "Episode 14: reward: 16.000, steps: 1285\n",
      "Episode 15: reward: 12.000, steps: 850\n",
      "Episode 16: reward: 12.000, steps: 849\n",
      "Episode 17: reward: 17.000, steps: 1023\n",
      "Episode 18: reward: 12.000, steps: 860\n",
      "Episode 19: reward: 12.000, steps: 858\n",
      "Episode 20: reward: 11.000, steps: 898\n",
      "Media de recompensa: 14.45\n"
     ]
    }
   ],
   "source": [
    "#Evaluación en modo test\n",
    "scores = dqn.test(env, nb_episodes=20, visualize=False)\n",
    "print(\"Media de recompensa:\", np.mean(scores.history['episode_reward']))"
   ]
  },
  {
   "cell_type": "code",
   "execution_count": 10,
   "metadata": {},
   "outputs": [],
   "source": [
    "#Guardado de pesos\n",
    "dqn.save_weights('dqn_spaceinvaders_weights.h5f', overwrite=True)"
   ]
  },
  {
   "cell_type": "markdown",
   "metadata": {
    "id": "-NAlu8b1Gb2b"
   },
   "source": [
    "3. Justificación de los parámetros seleccionados y de los resultados obtenidos"
   ]
  },
  {
   "cell_type": "markdown",
   "metadata": {
    "id": "ANFQiicXK3sO"
   },
   "source": [
    "---"
   ]
  }
 ],
 "metadata": {
  "colab": {
   "provenance": []
  },
  "kernelspec": {
   "display_name": "Python [miar_rl]",
   "language": "python",
   "name": "miar_rl"
  },
  "language_info": {
   "codemirror_mode": {
    "name": "ipython",
    "version": 3
   },
   "file_extension": ".py",
   "mimetype": "text/x-python",
   "name": "python",
   "nbconvert_exporter": "python",
   "pygments_lexer": "ipython3",
   "version": "3.8.20"
  }
 },
 "nbformat": 4,
 "nbformat_minor": 4
}
