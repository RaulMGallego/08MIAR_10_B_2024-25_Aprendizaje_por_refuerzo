{
 "cells": [
  {
   "cell_type": "markdown",
   "metadata": {
    "id": "jUehXgCyIRdq"
   },
   "source": [
    "# Actividad - Proyecto práctico\n",
    "\n",
    "\n",
    "> La actividad se desarrollará en grupos pre-definidos de 2-3 alumnos. Se debe indicar los nombres en orden alfabético (de apellidos). Recordad que esta actividad se corresponde con un 30% de la nota final de la asignatura. Se debe entregar entregar el trabajo en la presente notebook.\n",
    "*   Alumno 1: Marta Castillo Galán\n",
    "*   Alumno 2: Unai Marín Etxebarria\n",
    "*   Alumno 3: Laura Molinos Mayo\n",
    "*   Alumno 4: Raúl Murillo Gallego\n",
    "\n",
    "\n",
    "\n",
    "\n"
   ]
  },
  {
   "cell_type": "markdown",
   "metadata": {
    "id": "4hzP_5ZuGb2X"
   },
   "source": [
    "---\n",
    "## **PARTE 2**. Enunciado\n",
    "\n",
    "Consideraciones a tener en cuenta:\n",
    "\n",
    "- El entorno sobre el que trabajaremos será _SpaceInvaders-v0_ y el algoritmo que usaremos será _DQN_.\n",
    "\n",
    "- Para nuestro ejercicio, el requisito mínimo será alcanzado cuando el agente consiga una **media de recompensa por encima de 20 puntos en modo test**. Por ello, esta media de la recompensa se calculará a partir del código de test en la última celda del notebook.\n",
    "\n",
    "Este proyecto práctico consta de tres partes:\n",
    "\n",
    "1.   Implementar la red neuronal que se usará en la solución\n",
    "2.   Implementar las distintas piezas de la solución DQN\n",
    "3.   Justificar la respuesta en relación a los resultados obtenidos\n",
    "\n",
    "**Rúbrica**: Se valorará la originalidad en la solución aportada, así como la capacidad de discutir los resultados de forma detallada. El requisito mínimo servirá para aprobar la actividad, bajo premisa de que la discusión del resultado sera apropiada.\n",
    "\n",
    "IMPORTANTE:\n",
    "\n",
    "* Si no se consigue una puntuación óptima, responder sobre la mejor puntuación obtenida.\n",
    "* Para entrenamientos largos, recordad que podéis usar checkpoints de vuestros modelos para retomar los entrenamientos. En este caso, recordad cambiar los parámetros adecuadamente (sobre todo los relacionados con el proceso de exploración).\n",
    "* Se deberá entregar unicamente el notebook y los pesos del mejor modelo en un fichero .zip, de forma organizada.\n",
    "* Cada alumno deberá de subir la solución de forma individual."
   ]
  },
  {
   "cell_type": "code",
   "execution_count": null,
   "metadata": {
    "id": "UbVRjvHCJ8UF"
   },
   "outputs": [],
   "source": [
    "#if IN_COLAB:\n",
    "  #%pip install gym==0.17.3\n",
    "  #%pip install git+https://github.com/Kojoley/atari-py.git\n",
    "  #%pip install keras-rl2==1.0.5\n",
    "  #%pip install tensorflow==2.8\n",
    "#else:\n",
    "  #%pip install gym==0.17.3\n",
    "  #%pip install git+https://github.com/Kojoley/atari-py.git\n",
    "  #%pip install pyglet==1.5.0\n",
    "  #%pip install h5py==3.1.0\n",
    "  #%pip install Pillow==9.5.0\n",
    "  #%pip install keras-rl2==1.0.5\n",
    "  #%pip install Keras==2.2.4\n",
    "  #%pip install tensorflow==2.5.3\n",
    "  ##%pip install torch==2.0.1\n",
    "  #%pip install agents==1.4.0"
   ]
  },
  {
   "cell_type": "markdown",
   "metadata": {
    "id": "6_b3mzw8IzJP"
   },
   "source": [
    "---\n",
    "## **PARTE 3**. Desarrollo y preguntas"
   ]
  },
  {
   "cell_type": "markdown",
   "metadata": {
    "id": "duPmUNOVGb2a"
   },
   "source": [
    "#### Importar librerías"
   ]
  },
  {
   "cell_type": "code",
   "execution_count": 1,
   "metadata": {
    "id": "j3eRhgI-Gb2a"
   },
   "outputs": [],
   "source": [
    "from __future__ import division\n",
    "\n",
    "from PIL import Image\n",
    "import numpy as np\n",
    "import gym\n",
    "\n",
    "from tensorflow.keras.models import Sequential\n",
    "from tensorflow.keras.layers import Dense, Activation, Flatten, Convolution2D, Permute\n",
    "from tensorflow.keras.optimizers import Adam\n",
    "import tensorflow.keras.backend as K\n",
    "\n",
    "from rl.agents.dqn import DQNAgent\n",
    "from rl.policy import LinearAnnealedPolicy, BoltzmannQPolicy, EpsGreedyQPolicy\n",
    "from rl.memory import SequentialMemory\n",
    "from rl.core import Processor\n",
    "from rl.callbacks import FileLogger, ModelIntervalCheckpoint\n",
    "\n",
    "from tensorflow.keras.optimizers import RMSprop"
   ]
  },
  {
   "cell_type": "markdown",
   "metadata": {
    "id": "f4jgQjzoGb2a"
   },
   "source": [
    "#### Configuración base"
   ]
  },
  {
   "cell_type": "code",
   "execution_count": 2,
   "metadata": {
    "id": "jwOE6I_KGb2a"
   },
   "outputs": [],
   "source": [
    "INPUT_SHAPE = (84, 84)\n",
    "WINDOW_LENGTH = 4\n",
    "\n",
    "env_name = 'SpaceInvaders-v0'\n",
    "env = gym.make(env_name)\n",
    "\n",
    "np.random.seed(123)\n",
    "env.seed(123)\n",
    "nb_actions = env.action_space.n"
   ]
  },
  {
   "cell_type": "code",
   "execution_count": 3,
   "metadata": {
    "id": "9jGEZUcpGb2a"
   },
   "outputs": [],
   "source": [
    "class AtariProcessor(Processor):\n",
    "    def process_observation(self, observation):\n",
    "        assert observation.ndim == 3  # (height, width, channel)\n",
    "        img = Image.fromarray(observation)\n",
    "        img = img.resize(INPUT_SHAPE).convert('L')\n",
    "        processed_observation = np.array(img)\n",
    "        assert processed_observation.shape == INPUT_SHAPE\n",
    "        return processed_observation.astype('uint8')\n",
    "\n",
    "    def process_state_batch(self, batch):\n",
    "        processed_batch = batch.astype('float32') / 255.\n",
    "        return processed_batch\n",
    "\n",
    "    def process_reward(self, reward):\n",
    "        return np.clip(reward, -1., 1.)"
   ]
  },
  {
   "cell_type": "markdown",
   "metadata": {
    "id": "7yitXTADGb2b"
   },
   "source": [
    "1. Implementación de la red neuronal"
   ]
  },
  {
   "cell_type": "code",
   "execution_count": 4,
   "metadata": {
    "id": "O4GKrfWSGb2b"
   },
   "outputs": [],
   "source": [
    "def build_model(window_length, input_shape, nb_actions):\n",
    "    model = Sequential()\n",
    "    model.add(Permute((2, 3, 1), input_shape=(window_length,) + input_shape))  # (window, 84, 84) → (84, 84, window)\n",
    "    model.add(Convolution2D(32, (8, 8), strides=(4, 4), activation='relu'))\n",
    "    model.add(Convolution2D(64, (4, 4), strides=(2, 2), activation='relu'))\n",
    "    model.add(Convolution2D(64, (3, 3), strides=(1, 1), activation='relu'))\n",
    "    model.add(Flatten())\n",
    "    model.add(Dense(512, activation='relu'))\n",
    "    model.add(Dense(nb_actions, activation='linear'))\n",
    "    return model"
   ]
  },
  {
   "cell_type": "markdown",
   "metadata": {
    "id": "OB9-_5HPGb2b"
   },
   "source": [
    "2. Implementación de la solución DQN"
   ]
  },
  {
   "cell_type": "code",
   "execution_count": 5,
   "metadata": {
    "id": "foSlxWH1Gb2b"
   },
   "outputs": [
    {
     "name": "stdout",
     "output_type": "stream",
     "text": [
      "Model: \"sequential\"\n",
      "_________________________________________________________________\n",
      "Layer (type)                 Output Shape              Param #   \n",
      "=================================================================\n",
      "permute (Permute)            (None, 84, 84, 4)         0         \n",
      "_________________________________________________________________\n",
      "conv2d (Conv2D)              (None, 20, 20, 32)        8224      \n",
      "_________________________________________________________________\n",
      "conv2d_1 (Conv2D)            (None, 9, 9, 64)          32832     \n",
      "_________________________________________________________________\n",
      "conv2d_2 (Conv2D)            (None, 7, 7, 64)          36928     \n",
      "_________________________________________________________________\n",
      "flatten (Flatten)            (None, 3136)              0         \n",
      "_________________________________________________________________\n",
      "dense (Dense)                (None, 512)               1606144   \n",
      "_________________________________________________________________\n",
      "dense_1 (Dense)              (None, 6)                 3078      \n",
      "=================================================================\n",
      "Total params: 1,687,206\n",
      "Trainable params: 1,687,206\n",
      "Non-trainable params: 0\n",
      "_________________________________________________________________\n",
      "None\n"
     ]
    }
   ],
   "source": [
    "# Preparamos memoria y política\n",
    "memory = SequentialMemory(limit=100000, window_length=WINDOW_LENGTH)\n",
    "#policy = EpsGreedyQPolicy()  # Exploración simple\n",
    "policy = LinearAnnealedPolicy(EpsGreedyQPolicy(),\n",
    "                              attr='eps',\n",
    "                              value_max=1.0,\n",
    "                              value_min=0.1,\n",
    "                              value_test=0.05,\n",
    "                              nb_steps=50000)  # más suave\n",
    "\n",
    "# Creamos el modelo\n",
    "model = build_model(WINDOW_LENGTH, INPUT_SHAPE, nb_actions)\n",
    "print(model.summary())\n",
    "\n",
    "# Creamos el procesador\n",
    "processor = AtariProcessor()\n",
    "\n",
    "#Creamos el agente\n",
    "dqn = DQNAgent(model=model,\n",
    "               nb_actions=nb_actions,\n",
    "               policy=policy,\n",
    "               memory=memory,\n",
    "               processor=processor,\n",
    "               nb_steps_warmup = 10000,\n",
    "               gamma=0.99,\n",
    "               target_model_update=5000,\n",
    "               train_interval=1,\n",
    "               delta_clip=1.0)\n",
    "\n",
    "dqn.compile(Adam(learning_rate=0.0001), metrics=['mae'])"
   ]
  },
  {
   "cell_type": "code",
   "execution_count": 6,
   "metadata": {},
   "outputs": [
    {
     "name": "stdout",
     "output_type": "stream",
     "text": [
      "Training for 50000 steps ...\n"
     ]
    },
    {
     "name": "stderr",
     "output_type": "stream",
     "text": [
      "C:\\Users\\Rociniel\\Anaconda3\\envs\\miar_rl\\lib\\site-packages\\tensorflow\\python\\keras\\engine\\training.py:2426: UserWarning: `Model.state_updates` will be removed in a future version. This property should not be used in TensorFlow 2.0, as `updates` are applied automatically.\n",
      "  warnings.warn('`Model.state_updates` will be removed in a future version. '\n"
     ]
    },
    {
     "name": "stdout",
     "output_type": "stream",
     "text": [
      "   420/50000: episode: 1, duration: 2.231s, episode steps: 420, steps per second: 188, episode reward:  6.000, mean reward:  0.014 [ 0.000,  1.000], mean action: 2.495 [0.000, 5.000],  loss: --, mae: --, mean_q: --, mean_eps: --\n",
      "   960/50000: episode: 2, duration: 2.731s, episode steps: 540, steps per second: 198, episode reward:  6.000, mean reward:  0.011 [ 0.000,  1.000], mean action: 2.406 [0.000, 5.000],  loss: --, mae: --, mean_q: --, mean_eps: --\n",
      "  1384/50000: episode: 3, duration: 2.129s, episode steps: 424, steps per second: 199, episode reward:  1.000, mean reward:  0.002 [ 0.000,  1.000], mean action: 2.528 [0.000, 5.000],  loss: --, mae: --, mean_q: --, mean_eps: --\n",
      "  1858/50000: episode: 4, duration: 2.910s, episode steps: 474, steps per second: 163, episode reward:  2.000, mean reward:  0.004 [ 0.000,  1.000], mean action: 2.432 [0.000, 5.000],  loss: --, mae: --, mean_q: --, mean_eps: --\n",
      "  3130/50000: episode: 5, duration: 9.150s, episode steps: 1272, steps per second: 139, episode reward: 21.000, mean reward:  0.017 [ 0.000,  1.000], mean action: 2.541 [0.000, 5.000],  loss: --, mae: --, mean_q: --, mean_eps: --\n",
      "  3871/50000: episode: 6, duration: 5.025s, episode steps: 741, steps per second: 147, episode reward: 10.000, mean reward:  0.013 [ 0.000,  1.000], mean action: 2.532 [0.000, 5.000],  loss: --, mae: --, mean_q: --, mean_eps: --\n",
      "  4657/50000: episode: 7, duration: 4.929s, episode steps: 786, steps per second: 159, episode reward: 12.000, mean reward:  0.015 [ 0.000,  1.000], mean action: 2.537 [0.000, 5.000],  loss: --, mae: --, mean_q: --, mean_eps: --\n",
      "  5054/50000: episode: 8, duration: 2.233s, episode steps: 397, steps per second: 178, episode reward:  3.000, mean reward:  0.008 [ 0.000,  1.000], mean action: 2.574 [0.000, 5.000],  loss: --, mae: --, mean_q: --, mean_eps: --\n",
      "  5707/50000: episode: 9, duration: 4.260s, episode steps: 653, steps per second: 153, episode reward:  9.000, mean reward:  0.014 [ 0.000,  1.000], mean action: 2.567 [0.000, 5.000],  loss: --, mae: --, mean_q: --, mean_eps: --\n",
      "  6882/50000: episode: 10, duration: 7.222s, episode steps: 1175, steps per second: 163, episode reward: 18.000, mean reward:  0.015 [ 0.000,  1.000], mean action: 2.601 [0.000, 5.000],  loss: --, mae: --, mean_q: --, mean_eps: --\n",
      "  7945/50000: episode: 11, duration: 5.644s, episode steps: 1063, steps per second: 188, episode reward: 27.000, mean reward:  0.025 [ 0.000,  1.000], mean action: 2.561 [0.000, 5.000],  loss: --, mae: --, mean_q: --, mean_eps: --\n",
      "  8444/50000: episode: 12, duration: 2.356s, episode steps: 499, steps per second: 212, episode reward:  6.000, mean reward:  0.012 [ 0.000,  1.000], mean action: 2.595 [0.000, 5.000],  loss: --, mae: --, mean_q: --, mean_eps: --\n",
      "  9026/50000: episode: 13, duration: 2.810s, episode steps: 582, steps per second: 207, episode reward:  9.000, mean reward:  0.015 [ 0.000,  1.000], mean action: 2.716 [0.000, 5.000],  loss: --, mae: --, mean_q: --, mean_eps: --\n",
      "  9578/50000: episode: 14, duration: 3.087s, episode steps: 552, steps per second: 179, episode reward: 10.000, mean reward:  0.018 [ 0.000,  1.000], mean action: 2.764 [0.000, 5.000],  loss: --, mae: --, mean_q: --, mean_eps: --\n",
      "  9942/50000: episode: 15, duration: 2.332s, episode steps: 364, steps per second: 156, episode reward:  6.000, mean reward:  0.016 [ 0.000,  1.000], mean action: 2.681 [0.000, 5.000],  loss: --, mae: --, mean_q: --, mean_eps: --\n"
     ]
    },
    {
     "name": "stderr",
     "output_type": "stream",
     "text": [
      "C:\\Users\\Rociniel\\Anaconda3\\envs\\miar_rl\\lib\\site-packages\\tensorflow\\python\\keras\\engine\\training.py:2426: UserWarning: `Model.state_updates` will be removed in a future version. This property should not be used in TensorFlow 2.0, as `updates` are applied automatically.\n",
      "  warnings.warn('`Model.state_updates` will be removed in a future version. '\n"
     ]
    },
    {
     "name": "stdout",
     "output_type": "stream",
     "text": [
      " 10769/50000: episode: 16, duration: 133.633s, episode steps: 827, steps per second:   6, episode reward: 13.000, mean reward:  0.016 [ 0.000,  1.000], mean action: 2.530 [0.000, 5.000],  loss: 0.006998, mae: 0.040853, mean_q: 0.065717, mean_eps: 0.813079\n",
      " 11245/50000: episode: 17, duration: 82.619s, episode steps: 476, steps per second:   6, episode reward:  8.000, mean reward:  0.017 [ 0.000,  1.000], mean action: 2.437 [0.000, 5.000],  loss: 0.007065, mae: 0.041876, mean_q: 0.072255, mean_eps: 0.801883\n",
      " 11668/50000: episode: 18, duration: 66.126s, episode steps: 423, steps per second:   6, episode reward:  5.000, mean reward:  0.012 [ 0.000,  1.000], mean action: 2.182 [0.000, 5.000],  loss: 0.007236, mae: 0.042812, mean_q: 0.076292, mean_eps: 0.793792\n",
      " 12775/50000: episode: 19, duration: 179.129s, episode steps: 1107, steps per second:   6, episode reward: 17.000, mean reward:  0.015 [ 0.000,  1.000], mean action: 2.547 [0.000, 5.000],  loss: 0.006635, mae: 0.043497, mean_q: 0.086098, mean_eps: 0.780022\n",
      " 13604/50000: episode: 20, duration: 117.611s, episode steps: 829, steps per second:   7, episode reward: 13.000, mean reward:  0.016 [ 0.000,  1.000], mean action: 2.625 [0.000, 5.000],  loss: 0.005776, mae: 0.042691, mean_q: 0.087748, mean_eps: 0.762598\n",
      " 14294/50000: episode: 21, duration: 94.547s, episode steps: 690, steps per second:   7, episode reward:  6.000, mean reward:  0.009 [ 0.000,  1.000], mean action: 2.562 [0.000, 5.000],  loss: 0.005911, mae: 0.043246, mean_q: 0.091542, mean_eps: 0.748927\n",
      " 15107/50000: episode: 22, duration: 116.233s, episode steps: 813, steps per second:   7, episode reward: 15.000, mean reward:  0.018 [ 0.000,  1.000], mean action: 2.504 [0.000, 5.000],  loss: 0.005810, mae: 0.049345, mean_q: 0.102061, mean_eps: 0.735400\n",
      " 15882/50000: episode: 23, duration: 106.700s, episode steps: 775, steps per second:   7, episode reward: 12.000, mean reward:  0.015 [ 0.000,  1.000], mean action: 2.356 [0.000, 5.000],  loss: 0.006302, mae: 0.094142, mean_q: 0.166479, mean_eps: 0.721108\n",
      " 16281/50000: episode: 24, duration: 57.306s, episode steps: 399, steps per second:   7, episode reward:  3.000, mean reward:  0.008 [ 0.000,  1.000], mean action: 2.434 [0.000, 5.000],  loss: 0.005919, mae: 0.093949, mean_q: 0.166461, mean_eps: 0.710542\n",
      " 16699/50000: episode: 25, duration: 62.446s, episode steps: 418, steps per second:   7, episode reward:  4.000, mean reward:  0.010 [ 0.000,  1.000], mean action: 2.462 [0.000, 5.000],  loss: 0.004982, mae: 0.090893, mean_q: 0.162572, mean_eps: 0.703189\n",
      " 17078/50000: episode: 26, duration: 60.467s, episode steps: 379, steps per second:   6, episode reward:  7.000, mean reward:  0.018 [ 0.000,  1.000], mean action: 2.462 [0.000, 5.000],  loss: 0.005123, mae: 0.091354, mean_q: 0.159500, mean_eps: 0.696016\n",
      " 18174/50000: episode: 27, duration: 160.518s, episode steps: 1096, steps per second:   7, episode reward: 16.000, mean reward:  0.015 [ 0.000,  1.000], mean action: 2.519 [0.000, 5.000],  loss: 0.005492, mae: 0.092733, mean_q: 0.163257, mean_eps: 0.682741\n",
      " 18984/50000: episode: 28, duration: 114.334s, episode steps: 810, steps per second:   7, episode reward:  9.000, mean reward:  0.011 [ 0.000,  1.000], mean action: 2.377 [0.000, 5.000],  loss: 0.004959, mae: 0.090800, mean_q: 0.159841, mean_eps: 0.665587\n",
      " 19392/50000: episode: 29, duration: 59.393s, episode steps: 408, steps per second:   7, episode reward:  4.000, mean reward:  0.010 [ 0.000,  1.000], mean action: 2.449 [0.000, 5.000],  loss: 0.005265, mae: 0.092029, mean_q: 0.162827, mean_eps: 0.654625\n",
      " 19955/50000: episode: 30, duration: 86.644s, episode steps: 563, steps per second:   6, episode reward:  5.000, mean reward:  0.009 [ 0.000,  1.000], mean action: 2.275 [0.000, 5.000],  loss: 0.004776, mae: 0.091771, mean_q: 0.165407, mean_eps: 0.645886\n",
      " 20353/50000: episode: 31, duration: 59.176s, episode steps: 398, steps per second:   7, episode reward:  5.000, mean reward:  0.013 [ 0.000,  1.000], mean action: 2.193 [0.000, 5.000],  loss: 0.006416, mae: 0.141535, mean_q: 0.230830, mean_eps: 0.637237\n",
      " 21068/50000: episode: 32, duration: 101.849s, episode steps: 715, steps per second:   7, episode reward: 10.000, mean reward:  0.014 [ 0.000,  1.000], mean action: 2.392 [0.000, 5.000],  loss: 0.005767, mae: 0.147010, mean_q: 0.235283, mean_eps: 0.627220\n",
      " 22130/50000: episode: 33, duration: 150.402s, episode steps: 1062, steps per second:   7, episode reward: 21.000, mean reward:  0.020 [ 0.000,  1.000], mean action: 2.531 [0.000, 5.000],  loss: 0.005208, mae: 0.146602, mean_q: 0.233960, mean_eps: 0.611227\n",
      " 23214/50000: episode: 34, duration: 161.722s, episode steps: 1084, steps per second:   7, episode reward: 22.000, mean reward:  0.020 [ 0.000,  1.000], mean action: 2.488 [0.000, 5.000],  loss: 0.004805, mae: 0.145742, mean_q: 0.231120, mean_eps: 0.591913\n",
      " 23707/50000: episode: 35, duration: 71.584s, episode steps: 493, steps per second:   7, episode reward:  3.000, mean reward:  0.006 [ 0.000,  1.000], mean action: 2.535 [0.000, 5.000],  loss: 0.004723, mae: 0.147307, mean_q: 0.230837, mean_eps: 0.577720\n",
      " 24136/50000: episode: 36, duration: 58.442s, episode steps: 429, steps per second:   7, episode reward:  7.000, mean reward:  0.016 [ 0.000,  1.000], mean action: 2.580 [0.000, 5.000],  loss: 0.004815, mae: 0.144050, mean_q: 0.224866, mean_eps: 0.569422\n",
      " 25661/50000: episode: 37, duration: 200.532s, episode steps: 1525, steps per second:   8, episode reward: 15.000, mean reward:  0.010 [ 0.000,  1.000], mean action: 2.672 [0.000, 5.000],  loss: 0.005191, mae: 0.175283, mean_q: 0.267985, mean_eps: 0.551836\n",
      " 26260/50000: episode: 38, duration: 77.772s, episode steps: 599, steps per second:   8, episode reward:  2.000, mean reward:  0.003 [ 0.000,  1.000], mean action: 2.442 [0.000, 5.000],  loss: 0.005149, mae: 0.211725, mean_q: 0.312835, mean_eps: 0.532720\n",
      " 27174/50000: episode: 39, duration: 118.084s, episode steps: 914, steps per second:   8, episode reward: 12.000, mean reward:  0.013 [ 0.000,  1.000], mean action: 2.774 [0.000, 5.000],  loss: 0.004997, mae: 0.213789, mean_q: 0.315439, mean_eps: 0.519103\n",
      " 27588/50000: episode: 40, duration: 52.955s, episode steps: 414, steps per second:   8, episode reward:  4.000, mean reward:  0.010 [ 0.000,  1.000], mean action: 2.684 [0.000, 5.000],  loss: 0.004512, mae: 0.208049, mean_q: 0.304824, mean_eps: 0.507151\n",
      " 28220/50000: episode: 41, duration: 81.043s, episode steps: 632, steps per second:   8, episode reward:  9.000, mean reward:  0.014 [ 0.000,  1.000], mean action: 2.633 [0.000, 5.000],  loss: 0.004367, mae: 0.207021, mean_q: 0.302317, mean_eps: 0.497737\n",
      " 29204/50000: episode: 42, duration: 130.094s, episode steps: 984, steps per second:   8, episode reward: 14.000, mean reward:  0.014 [ 0.000,  1.000], mean action: 2.736 [0.000, 5.000],  loss: 0.004394, mae: 0.207252, mean_q: 0.303522, mean_eps: 0.483193\n",
      " 30520/50000: episode: 43, duration: 198.708s, episode steps: 1316, steps per second:   7, episode reward: 20.000, mean reward:  0.015 [ 0.000,  1.000], mean action: 2.489 [0.000, 5.000],  loss: 0.004887, mae: 0.225423, mean_q: 0.324540, mean_eps: 0.462493\n",
      " 31200/50000: episode: 44, duration: 117.132s, episode steps: 680, steps per second:   6, episode reward:  9.000, mean reward:  0.013 [ 0.000,  1.000], mean action: 2.272 [0.000, 5.000],  loss: 0.005510, mae: 0.255757, mean_q: 0.362591, mean_eps: 0.444529\n",
      " 32275/50000: episode: 45, duration: 169.132s, episode steps: 1075, steps per second:   6, episode reward: 22.000, mean reward:  0.020 [ 0.000,  1.000], mean action: 2.577 [0.000, 5.000],  loss: 0.005237, mae: 0.256551, mean_q: 0.363057, mean_eps: 0.428734\n",
      " 33520/50000: episode: 46, duration: 191.073s, episode steps: 1245, steps per second:   7, episode reward: 19.000, mean reward:  0.015 [ 0.000,  1.000], mean action: 2.627 [0.000, 5.000],  loss: 0.004813, mae: 0.257314, mean_q: 0.363056, mean_eps: 0.407854\n",
      " 34522/50000: episode: 47, duration: 151.324s, episode steps: 1002, steps per second:   7, episode reward: 16.000, mean reward:  0.016 [ 0.000,  1.000], mean action: 2.653 [0.000, 5.000],  loss: 0.004535, mae: 0.257398, mean_q: 0.364062, mean_eps: 0.387631\n",
      " 34915/50000: episode: 48, duration: 59.067s, episode steps: 393, steps per second:   7, episode reward:  8.000, mean reward:  0.020 [ 0.000,  1.000], mean action: 2.524 [0.000, 5.000],  loss: 0.004389, mae: 0.254573, mean_q: 0.359731, mean_eps: 0.375076\n",
      " 35601/50000: episode: 49, duration: 101.048s, episode steps: 686, steps per second:   7, episode reward: 14.000, mean reward:  0.020 [ 0.000,  1.000], mean action: 1.978 [0.000, 5.000],  loss: 0.007187, mae: 0.303835, mean_q: 0.421222, mean_eps: 0.365365\n",
      " 36223/50000: episode: 50, duration: 95.118s, episode steps: 622, steps per second:   7, episode reward:  7.000, mean reward:  0.011 [ 0.000,  1.000], mean action: 2.492 [0.000, 5.000],  loss: 0.006536, mae: 0.317537, mean_q: 0.439231, mean_eps: 0.353593\n",
      " 36860/50000: episode: 51, duration: 96.416s, episode steps: 637, steps per second:   7, episode reward: 11.000, mean reward:  0.017 [ 0.000,  1.000], mean action: 2.212 [0.000, 5.000],  loss: 0.005711, mae: 0.315451, mean_q: 0.434821, mean_eps: 0.342262\n",
      " 37390/50000: episode: 52, duration: 79.237s, episode steps: 530, steps per second:   7, episode reward:  7.000, mean reward:  0.013 [ 0.000,  1.000], mean action: 2.589 [0.000, 5.000],  loss: 0.005319, mae: 0.311015, mean_q: 0.428723, mean_eps: 0.331759\n",
      " 38426/50000: episode: 53, duration: 156.454s, episode steps: 1036, steps per second:   7, episode reward: 18.000, mean reward:  0.017 [ 0.000,  1.000], mean action: 2.597 [0.000, 5.000],  loss: 0.005304, mae: 0.310193, mean_q: 0.426401, mean_eps: 0.317665\n",
      " 38884/50000: episode: 54, duration: 63.273s, episode steps: 458, steps per second:   7, episode reward:  6.000, mean reward:  0.013 [ 0.000,  1.000], mean action: 2.229 [0.000, 5.000],  loss: 0.005496, mae: 0.316025, mean_q: 0.435377, mean_eps: 0.304219\n",
      " 39409/50000: episode: 55, duration: 76.319s, episode steps: 525, steps per second:   7, episode reward:  5.000, mean reward:  0.010 [ 0.000,  1.000], mean action: 2.371 [0.000, 5.000],  loss: 0.004816, mae: 0.310687, mean_q: 0.427649, mean_eps: 0.295372\n",
      " 40165/50000: episode: 56, duration: 109.561s, episode steps: 756, steps per second:   7, episode reward: 10.000, mean reward:  0.013 [ 0.000,  1.000], mean action: 2.902 [0.000, 5.000],  loss: 0.004905, mae: 0.315421, mean_q: 0.433049, mean_eps: 0.283843\n",
      " 41021/50000: episode: 57, duration: 120.203s, episode steps: 856, steps per second:   7, episode reward: 12.000, mean reward:  0.014 [ 0.000,  1.000], mean action: 2.410 [0.000, 5.000],  loss: 0.007007, mae: 0.355577, mean_q: 0.482616, mean_eps: 0.269335\n",
      " 41786/50000: episode: 58, duration: 116.975s, episode steps: 765, steps per second:   7, episode reward:  9.000, mean reward:  0.012 [ 0.000,  1.000], mean action: 2.829 [0.000, 5.000],  loss: 0.006137, mae: 0.351663, mean_q: 0.475960, mean_eps: 0.254746\n",
      " 42380/50000: episode: 59, duration: 102.386s, episode steps: 594, steps per second:   6, episode reward:  4.000, mean reward:  0.007 [ 0.000,  1.000], mean action: 2.291 [0.000, 5.000],  loss: 0.005551, mae: 0.351866, mean_q: 0.473644, mean_eps: 0.242515\n",
      " 43102/50000: episode: 60, duration: 110.293s, episode steps: 722, steps per second:   7, episode reward:  8.000, mean reward:  0.011 [ 0.000,  1.000], mean action: 2.007 [0.000, 5.000],  loss: 0.005509, mae: 0.355052, mean_q: 0.478971, mean_eps: 0.230671\n",
      " 43774/50000: episode: 61, duration: 102.011s, episode steps: 672, steps per second:   7, episode reward: 16.000, mean reward:  0.024 [ 0.000,  1.000], mean action: 2.732 [0.000, 5.000],  loss: 0.005456, mae: 0.354353, mean_q: 0.478317, mean_eps: 0.218125\n",
      " 44288/50000: episode: 62, duration: 74.563s, episode steps: 514, steps per second:   7, episode reward:  5.000, mean reward:  0.010 [ 0.000,  1.000], mean action: 2.833 [0.000, 5.000],  loss: 0.005183, mae: 0.357399, mean_q: 0.482027, mean_eps: 0.207451\n",
      " 45347/50000: episode: 63, duration: 151.692s, episode steps: 1059, steps per second:   7, episode reward: 26.000, mean reward:  0.025 [ 0.000,  1.000], mean action: 2.396 [0.000, 5.000],  loss: 0.006157, mae: 0.373375, mean_q: 0.502178, mean_eps: 0.193294\n",
      " 45735/50000: episode: 64, duration: 57.346s, episode steps: 388, steps per second:   7, episode reward:  5.000, mean reward:  0.013 [ 0.000,  1.000], mean action: 3.008 [0.000, 5.000],  loss: 0.007322, mae: 0.409019, mean_q: 0.545788, mean_eps: 0.180271\n",
      " 46205/50000: episode: 65, duration: 67.764s, episode steps: 470, steps per second:   7, episode reward:  2.000, mean reward:  0.004 [ 0.000,  1.000], mean action: 2.436 [0.000, 5.000],  loss: 0.007447, mae: 0.415798, mean_q: 0.555446, mean_eps: 0.172549\n",
      " 46899/50000: episode: 66, duration: 99.247s, episode steps: 694, steps per second:   7, episode reward: 10.000, mean reward:  0.014 [ 0.000,  1.000], mean action: 2.578 [0.000, 5.000],  loss: 0.006868, mae: 0.418919, mean_q: 0.559877, mean_eps: 0.162073\n",
      " 47736/50000: episode: 67, duration: 122.525s, episode steps: 837, steps per second:   7, episode reward: 12.000, mean reward:  0.014 [ 0.000,  1.000], mean action: 2.392 [0.000, 5.000],  loss: 0.006002, mae: 0.411801, mean_q: 0.549423, mean_eps: 0.148294\n",
      " 48353/50000: episode: 68, duration: 87.369s, episode steps: 617, steps per second:   7, episode reward:  7.000, mean reward:  0.011 [ 0.000,  1.000], mean action: 2.558 [0.000, 5.000],  loss: 0.006485, mae: 0.414284, mean_q: 0.551583, mean_eps: 0.135208\n",
      " 48914/50000: episode: 69, duration: 77.394s, episode steps: 561, steps per second:   7, episode reward:  4.000, mean reward:  0.007 [ 0.000,  1.000], mean action: 2.481 [0.000, 5.000],  loss: 0.006330, mae: 0.414515, mean_q: 0.551856, mean_eps: 0.124606\n",
      " 49895/50000: episode: 70, duration: 155.917s, episode steps: 981, steps per second:   6, episode reward: 14.000, mean reward:  0.014 [ 0.000,  1.000], mean action: 1.773 [0.000, 5.000],  loss: 0.005846, mae: 0.411130, mean_q: 0.546858, mean_eps: 0.110728\n",
      "done, took 5946.260 seconds\n"
     ]
    },
    {
     "data": {
      "text/plain": [
       "<tensorflow.python.keras.callbacks.History at 0x2055512c190>"
      ]
     },
     "execution_count": 6,
     "metadata": {},
     "output_type": "execute_result"
    }
   ],
   "source": [
    "# Entrenamiento inicial\n",
    "# (0.0.0.3) Pasamos de 20.000\n",
    "#checkpoint = ModelIntervalCheckpoint('dqn_spaceinvaders_weights_step{step}.h5f',interval=5000)\n",
    "#dqn.fit(env, nb_steps=20000, visualize=False, verbose=2, callbacks=[checkpoint])\n",
    "dqn.fit(env, nb_steps=50000, visualize=False, verbose=2)"
   ]
  },
  {
   "cell_type": "code",
   "execution_count": 8,
   "metadata": {},
   "outputs": [
    {
     "name": "stdout",
     "output_type": "stream",
     "text": [
      "Testing for 10 episodes ...\n",
      "Episode 1: reward: 9.000, steps: 811\n",
      "Episode 2: reward: 21.000, steps: 1290\n",
      "Episode 3: reward: 9.000, steps: 771\n",
      "Episode 4: reward: 13.000, steps: 950\n",
      "Episode 5: reward: 17.000, steps: 863\n",
      "Episode 6: reward: 12.000, steps: 1139\n",
      "Episode 7: reward: 4.000, steps: 540\n",
      "Episode 8: reward: 6.000, steps: 666\n",
      "Episode 9: reward: 9.000, steps: 831\n",
      "Episode 10: reward: 8.000, steps: 731\n",
      "Media de recompensa: 10.8\n"
     ]
    }
   ],
   "source": [
    "#Evaluación en modo test\n",
    "scores = dqn.test(env, nb_episodes=10, visualize=False)\n",
    "print(\"Media de recompensa:\", np.mean(scores.history['episode_reward']))"
   ]
  },
  {
   "cell_type": "code",
   "execution_count": 9,
   "metadata": {},
   "outputs": [],
   "source": [
    "#Guardado de pesos\n",
    "dqn.save_weights('dqn_spaceinvaders_weights.h5f', overwrite=True)"
   ]
  },
  {
   "cell_type": "code",
   "execution_count": null,
   "metadata": {
    "id": "OHYryKd1Gb2b"
   },
   "outputs": [],
   "source": [
    "## Testing part to calculate the mean reward\n",
    "#weights_filename = 'dqn_{}_weights.h5f'.format(env_name)\n",
    "#dqn.load_weights(weights_filename)\n",
    "#dqn.test(env, nb_episodes=10, visualize=False)"
   ]
  },
  {
   "cell_type": "markdown",
   "metadata": {
    "id": "-NAlu8b1Gb2b"
   },
   "source": [
    "3. Justificación de los parámetros seleccionados y de los resultados obtenidos"
   ]
  },
  {
   "cell_type": "markdown",
   "metadata": {
    "id": "ANFQiicXK3sO"
   },
   "source": [
    "---"
   ]
  }
 ],
 "metadata": {
  "colab": {
   "provenance": []
  },
  "kernelspec": {
   "display_name": "Python [conda env:miar_rl]",
   "language": "python",
   "name": "conda-env-miar_rl-py"
  },
  "language_info": {
   "codemirror_mode": {
    "name": "ipython",
    "version": 3
   },
   "file_extension": ".py",
   "mimetype": "text/x-python",
   "name": "python",
   "nbconvert_exporter": "python",
   "pygments_lexer": "ipython3",
   "version": "3.8.20"
  }
 },
 "nbformat": 4,
 "nbformat_minor": 4
}
