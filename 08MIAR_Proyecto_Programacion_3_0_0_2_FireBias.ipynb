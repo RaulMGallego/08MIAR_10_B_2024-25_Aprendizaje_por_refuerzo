{
 "cells": [
  {
   "cell_type": "markdown",
   "metadata": {
    "id": "jUehXgCyIRdq"
   },
   "source": [
    "# Actividad - Proyecto práctico\n",
    "\n",
    "\n",
    "> La actividad se desarrollará en grupos pre-definidos de 2-3 alumnos. Se debe indicar los nombres en orden alfabético (de apellidos). Recordad que esta actividad se corresponde con un 30% de la nota final de la asignatura. Se debe entregar entregar el trabajo en la presente notebook.\n",
    "*   Alumno 1: Marta Castillo Galán\n",
    "*   Alumno 2: Unai Marín Etxebarria\n",
    "*   Alumno 3: Laura Molinos Mayo\n",
    "*   Alumno 4: Raúl Murillo Gallego\n",
    "\n",
    "\n",
    "\n",
    "\n"
   ]
  },
  {
   "cell_type": "markdown",
   "metadata": {
    "id": "4hzP_5ZuGb2X"
   },
   "source": [
    "---\n",
    "## **PARTE 2**. Enunciado\n",
    "\n",
    "Consideraciones a tener en cuenta:\n",
    "\n",
    "- El entorno sobre el que trabajaremos será _SpaceInvaders-v0_ y el algoritmo que usaremos será _DQN_.\n",
    "\n",
    "- Para nuestro ejercicio, el requisito mínimo será alcanzado cuando el agente consiga una **media de recompensa por encima de 20 puntos en modo test**. Por ello, esta media de la recompensa se calculará a partir del código de test en la última celda del notebook.\n",
    "\n",
    "Este proyecto práctico consta de tres partes:\n",
    "\n",
    "1.   Implementar la red neuronal que se usará en la solución\n",
    "2.   Implementar las distintas piezas de la solución DQN\n",
    "3.   Justificar la respuesta en relación a los resultados obtenidos\n",
    "\n",
    "**Rúbrica**: Se valorará la originalidad en la solución aportada, así como la capacidad de discutir los resultados de forma detallada. El requisito mínimo servirá para aprobar la actividad, bajo premisa de que la discusión del resultado sera apropiada.\n",
    "\n",
    "IMPORTANTE:\n",
    "\n",
    "* Si no se consigue una puntuación óptima, responder sobre la mejor puntuación obtenida.\n",
    "* Para entrenamientos largos, recordad que podéis usar checkpoints de vuestros modelos para retomar los entrenamientos. En este caso, recordad cambiar los parámetros adecuadamente (sobre todo los relacionados con el proceso de exploración).\n",
    "* Se deberá entregar unicamente el notebook y los pesos del mejor modelo en un fichero .zip, de forma organizada.\n",
    "* Cada alumno deberá de subir la solución de forma individual."
   ]
  },
  {
   "cell_type": "code",
   "execution_count": 79,
   "metadata": {
    "id": "UbVRjvHCJ8UF"
   },
   "outputs": [],
   "source": [
    "#if IN_COLAB:\n",
    "  #%pip install gym==0.17.3\n",
    "  #%pip install git+https://github.com/Kojoley/atari-py.git\n",
    "  #%pip install keras-rl2==1.0.5\n",
    "  #%pip install tensorflow==2.8\n",
    "#else:\n",
    "  #%pip install gym==0.17.3\n",
    "  #%pip install git+https://github.com/Kojoley/atari-py.git\n",
    "  #%pip install pyglet==1.5.0\n",
    "  #%pip install h5py==3.1.0\n",
    "  #%pip install Pillow==9.5.0\n",
    "  #%pip install keras-rl2==1.0.5\n",
    "  #%pip install Keras==2.2.4\n",
    "  #%pip install tensorflow==2.5.3\n",
    "  ##%pip install torch==2.0.1\n",
    "  #%pip install agents==1.4.0"
   ]
  },
  {
   "cell_type": "markdown",
   "metadata": {
    "id": "6_b3mzw8IzJP"
   },
   "source": [
    "---\n",
    "## **PARTE 3**. Desarrollo y preguntas"
   ]
  },
  {
   "cell_type": "markdown",
   "metadata": {
    "id": "duPmUNOVGb2a"
   },
   "source": [
    "#### Importar librerías"
   ]
  },
  {
   "cell_type": "code",
   "execution_count": 80,
   "metadata": {
    "id": "j3eRhgI-Gb2a"
   },
   "outputs": [],
   "source": [
    "from __future__ import division\n",
    "\n",
    "from PIL import Image\n",
    "import numpy as np\n",
    "import gym\n",
    "\n",
    "from tensorflow.keras.models import Sequential\n",
    "from tensorflow.keras.layers import Dense, Activation, Flatten, Convolution2D, Permute\n",
    "from tensorflow.keras.optimizers import Adam\n",
    "import tensorflow.keras.backend as K\n",
    "\n",
    "from rl.agents.dqn import DQNAgent\n",
    "from rl.policy import LinearAnnealedPolicy, BoltzmannQPolicy, EpsGreedyQPolicy\n",
    "from rl.memory import SequentialMemory\n",
    "from rl.core import Processor\n",
    "from rl.callbacks import FileLogger, ModelIntervalCheckpoint"
   ]
  },
  {
   "cell_type": "markdown",
   "metadata": {
    "id": "f4jgQjzoGb2a"
   },
   "source": [
    "#### Configuración base"
   ]
  },
  {
   "cell_type": "code",
   "execution_count": 81,
   "metadata": {
    "id": "jwOE6I_KGb2a"
   },
   "outputs": [],
   "source": [
    "INPUT_SHAPE = (84, 84)\n",
    "WINDOW_LENGTH = 4\n",
    "\n",
    "env_name = 'SpaceInvaders-v0'\n",
    "env = gym.make(env_name)\n",
    "\n",
    "np.random.seed(123)\n",
    "env.seed(123)\n",
    "nb_actions = env.action_space.n"
   ]
  },
  {
   "cell_type": "code",
   "execution_count": 82,
   "metadata": {
    "id": "9jGEZUcpGb2a"
   },
   "outputs": [],
   "source": [
    "class AtariProcessor(Processor):\n",
    "    def process_observation(self, observation):\n",
    "        assert observation.ndim == 3  # (height, width, channel)\n",
    "        img = Image.fromarray(observation)\n",
    "        img = img.resize(INPUT_SHAPE).convert('L')\n",
    "        processed_observation = np.array(img)\n",
    "        assert processed_observation.shape == INPUT_SHAPE\n",
    "        return processed_observation.astype('uint8')\n",
    "\n",
    "    def process_state_batch(self, batch):\n",
    "        processed_batch = batch.astype('float32') / 255.\n",
    "        return processed_batch\n",
    "\n",
    "    def process_reward(self, reward):\n",
    "        return np.clip(reward, -1., 1.)"
   ]
  },
  {
   "cell_type": "markdown",
   "metadata": {
    "id": "7yitXTADGb2b"
   },
   "source": [
    "1. Implementación de la red neuronal"
   ]
  },
  {
   "cell_type": "code",
   "execution_count": 83,
   "metadata": {
    "id": "O4GKrfWSGb2b"
   },
   "outputs": [],
   "source": [
    "\n",
    "from tensorflow.keras.layers import  Dropout\n",
    "\n",
    "def build_model(window_length, input_shape, nb_actions):\n",
    "    model = Sequential()\n",
    "    model.add(Permute((2, 3, 1), input_shape=(window_length,) + input_shape))  # (C, H, W) → (H, W, C)\n",
    "\n",
    "    # Convolucional 1\n",
    "    model.add(Conv2D(32, (8, 8), strides=(4, 4), padding='same'))\n",
    "    model.add(Activation('relu'))\n",
    "    \n",
    "    # Convolucional 2\n",
    "    model.add(Conv2D(64, (4, 4), strides=(2, 2), padding='same'))\n",
    "    model.add(Activation('relu'))\n",
    "    \n",
    "    # Convolucional 3 (ligero cambio en tamaño del kernel)\n",
    "    model.add(Conv2D(512, (3, 3), strides=(1, 1), padding='same'))\n",
    "    model.add(Activation('relu'))\n",
    "\n",
    "    model.add(Flatten())\n",
    "\n",
    "    # Capa densa + regularización\n",
    "    model.add(Dense(512))\n",
    "    model.add(Activation('relu'))\n",
    "    model.add(Dropout(0.25))  # 25% dropout\n",
    "\n",
    "    # Salida\n",
    "    model.add(Dense(nb_actions))\n",
    "    model.add(Activation('linear'))\n",
    "    \n",
    "    return model\n"
   ]
  },
  {
   "cell_type": "markdown",
   "metadata": {},
   "source": [
    "Con el objetivo de crear una predisposición del agente para disparar, diseñamos la siguiente policy. Lo que hacemos es que durante un tiempo, o sea, la cantidad de steps nb_steps_bias, ejecutamos la acción de disparar el 30% de las veces. El resto, utilizamos un criterio voraz. Veamos."
   ]
  },
  {
   "cell_type": "code",
   "execution_count": 84,
   "metadata": {},
   "outputs": [],
   "source": [
    "from rl.policy import Policy\n",
    "import numpy as np\n",
    "import random\n",
    "\n",
    "class FireBiasPolicy(Policy):\n",
    "    def __init__(self, fire_action_idx, nb_steps_bias=10000):\n",
    "        self.fire_action = fire_action_idx\n",
    "        self.step = 0\n",
    "        self.nb_steps_bias = nb_steps_bias\n",
    "\n",
    "    def select_action(self, q_values):\n",
    "        self.step += 1\n",
    "\n",
    "        if self.step < self.nb_steps_bias:\n",
    "            # Alta probabilidad de disparar (por ejemplo 30%)\n",
    "            if random.random() < 0.3:\n",
    "                return self.fire_action\n",
    "\n",
    "        # Si no, acción greedy\n",
    "        return np.argmax(q_values)\n"
   ]
  },
  {
   "cell_type": "markdown",
   "metadata": {
    "id": "OB9-_5HPGb2b"
   },
   "source": [
    "2. Implementación de la solución DQN"
   ]
  },
  {
   "cell_type": "code",
   "execution_count": 85,
   "metadata": {
    "id": "foSlxWH1Gb2b"
   },
   "outputs": [
    {
     "name": "stdout",
     "output_type": "stream",
     "text": [
      "Model: \"sequential_7\"\n",
      "_________________________________________________________________\n",
      "Layer (type)                 Output Shape              Param #   \n",
      "=================================================================\n",
      "permute_13 (Permute)         (None, 84, 84, 4)         0         \n",
      "_________________________________________________________________\n",
      "conv2d_36 (Conv2D)           (None, 21, 21, 32)        8224      \n",
      "_________________________________________________________________\n",
      "activation_35 (Activation)   (None, 21, 21, 32)        0         \n",
      "_________________________________________________________________\n",
      "conv2d_37 (Conv2D)           (None, 11, 11, 64)        32832     \n",
      "_________________________________________________________________\n",
      "activation_36 (Activation)   (None, 11, 11, 64)        0         \n",
      "_________________________________________________________________\n",
      "conv2d_38 (Conv2D)           (None, 11, 11, 512)       295424    \n",
      "_________________________________________________________________\n",
      "activation_37 (Activation)   (None, 11, 11, 512)       0         \n",
      "_________________________________________________________________\n",
      "flatten_12 (Flatten)         (None, 61952)             0         \n",
      "_________________________________________________________________\n",
      "dense_32 (Dense)             (None, 512)               31719936  \n",
      "_________________________________________________________________\n",
      "activation_38 (Activation)   (None, 512)               0         \n",
      "_________________________________________________________________\n",
      "dropout_4 (Dropout)          (None, 512)               0         \n",
      "_________________________________________________________________\n",
      "dense_33 (Dense)             (None, 6)                 3078      \n",
      "_________________________________________________________________\n",
      "activation_39 (Activation)   (None, 6)                 0         \n",
      "=================================================================\n",
      "Total params: 32,059,494\n",
      "Trainable params: 32,059,494\n",
      "Non-trainable params: 0\n",
      "_________________________________________________________________\n",
      "None\n",
      "['NOOP', 'FIRE', 'RIGHT', 'LEFT', 'RIGHTFIRE', 'LEFTFIRE']\n"
     ]
    }
   ],
   "source": [
    "# Preparamos memoria y política\n",
    "memory = SequentialMemory(limit=100000, window_length=WINDOW_LENGTH)\n",
    "#policy = EpsGreedyQPolicy()  # Exploración simple\n",
    "policy = FireBiasPolicy(fire_action_idx=1, nb_steps_bias=20000)\n",
    "# Creamos el modelo\n",
    "model = build_model(WINDOW_LENGTH, INPUT_SHAPE, nb_actions)\n",
    "print(model.summary())\n",
    "\n",
    "# Creamos el procesador\n",
    "processor = AtariProcessor()\n",
    "print(env.unwrapped.get_action_meanings())\n",
    "\n",
    "#Creamos el agente\n",
    "dqn = DQNAgent(model=model,\n",
    "               nb_actions=nb_actions,\n",
    "               policy=policy,\n",
    "               memory=memory,\n",
    "               processor=processor,\n",
    "               nb_steps_warmup=10000,\n",
    "               gamma=0.99,\n",
    "               target_model_update=10000,\n",
    "               train_interval=4,\n",
    "               delta_clip=1.0)\n",
    "\n",
    "dqn.compile(Adam(learning_rate=1e-4), metrics=['mae'])"
   ]
  },
  {
   "cell_type": "code",
   "execution_count": 86,
   "metadata": {},
   "outputs": [
    {
     "name": "stdout",
     "output_type": "stream",
     "text": [
      "Training for 20000 steps ...\n"
     ]
    },
    {
     "name": "stderr",
     "output_type": "stream",
     "text": [
      "C:\\Users\\Unai\\anaconda3\\envs\\miar_rl\\lib\\site-packages\\tensorflow\\python\\keras\\engine\\training.py:2424: UserWarning: `Model.state_updates` will be removed in a future version. This property should not be used in TensorFlow 2.0, as `updates` are applied automatically.\n",
      "  warnings.warn('`Model.state_updates` will be removed in a future version. '\n"
     ]
    },
    {
     "name": "stdout",
     "output_type": "stream",
     "text": [
      "   496/20000: episode: 1, duration: 12.781s, episode steps: 496, steps per second:  39, episode reward:  7.000, mean reward:  0.014 [ 0.000,  1.000], mean action: 1.629 [0.000, 5.000],  loss: --, mae: --, mean_q: --\n",
      "  1581/20000: episode: 2, duration: 21.363s, episode steps: 1085, steps per second:  51, episode reward: 12.000, mean reward:  0.011 [ 0.000,  1.000], mean action: 1.624 [0.000, 5.000],  loss: --, mae: --, mean_q: --\n",
      "  2231/20000: episode: 3, duration: 12.778s, episode steps: 650, steps per second:  51, episode reward: 13.000, mean reward:  0.020 [ 0.000,  1.000], mean action: 1.680 [0.000, 5.000],  loss: --, mae: --, mean_q: --\n",
      "  2874/20000: episode: 4, duration: 12.527s, episode steps: 643, steps per second:  51, episode reward: 14.000, mean reward:  0.022 [ 0.000,  1.000], mean action: 1.585 [1.000, 5.000],  loss: --, mae: --, mean_q: --\n",
      "  3946/20000: episode: 5, duration: 24.730s, episode steps: 1072, steps per second:  43, episode reward: 14.000, mean reward:  0.013 [ 0.000,  1.000], mean action: 1.644 [0.000, 5.000],  loss: --, mae: --, mean_q: --\n",
      "  4858/20000: episode: 6, duration: 18.490s, episode steps: 912, steps per second:  49, episode reward: 20.000, mean reward:  0.022 [ 0.000,  1.000], mean action: 1.674 [0.000, 5.000],  loss: --, mae: --, mean_q: --\n",
      "  5367/20000: episode: 7, duration: 10.039s, episode steps: 509, steps per second:  51, episode reward:  6.000, mean reward:  0.012 [ 0.000,  1.000], mean action: 1.493 [0.000, 2.000],  loss: --, mae: --, mean_q: --\n",
      "  5872/20000: episode: 8, duration: 10.393s, episode steps: 505, steps per second:  49, episode reward:  7.000, mean reward:  0.014 [ 0.000,  1.000], mean action: 1.558 [0.000, 5.000],  loss: --, mae: --, mean_q: --\n",
      "  6514/20000: episode: 9, duration: 12.879s, episode steps: 642, steps per second:  50, episode reward: 14.000, mean reward:  0.022 [ 0.000,  1.000], mean action: 1.631 [0.000, 5.000],  loss: --, mae: --, mean_q: --\n",
      "  7074/20000: episode: 10, duration: 11.729s, episode steps: 560, steps per second:  48, episode reward: 12.000, mean reward:  0.021 [ 0.000,  1.000], mean action: 1.775 [0.000, 5.000],  loss: --, mae: --, mean_q: --\n",
      "  7834/20000: episode: 11, duration: 15.031s, episode steps: 760, steps per second:  51, episode reward: 16.000, mean reward:  0.021 [ 0.000,  1.000], mean action: 1.614 [1.000, 5.000],  loss: --, mae: --, mean_q: --\n",
      "  8988/20000: episode: 12, duration: 25.145s, episode steps: 1154, steps per second:  46, episode reward: 16.000, mean reward:  0.014 [ 0.000,  1.000], mean action: 1.659 [0.000, 5.000],  loss: --, mae: --, mean_q: --\n"
     ]
    },
    {
     "name": "stderr",
     "output_type": "stream",
     "text": [
      "C:\\Users\\Unai\\anaconda3\\envs\\miar_rl\\lib\\site-packages\\tensorflow\\python\\keras\\engine\\training.py:2424: UserWarning: `Model.state_updates` will be removed in a future version. This property should not be used in TensorFlow 2.0, as `updates` are applied automatically.\n",
      "  warnings.warn('`Model.state_updates` will be removed in a future version. '\n"
     ]
    },
    {
     "name": "stdout",
     "output_type": "stream",
     "text": [
      " 10464/20000: episode: 13, duration: 85.001s, episode steps: 1476, steps per second:  17, episode reward: 27.000, mean reward:  0.018 [ 0.000,  1.000], mean action: 1.631 [0.000, 5.000],  loss: 0.009782, mae: 0.019967, mean_q: 0.044438\n",
      " 11270/20000: episode: 14, duration: 95.172s, episode steps: 806, steps per second:   8, episode reward: 14.000, mean reward:  0.017 [ 0.000,  1.000], mean action: 1.700 [0.000, 5.000],  loss: 0.008654, mae: 0.018028, mean_q: 0.035967\n",
      " 11959/20000: episode: 15, duration: 82.005s, episode steps: 689, steps per second:   8, episode reward: 13.000, mean reward:  0.019 [ 0.000,  1.000], mean action: 2.440 [0.000, 5.000],  loss: 0.006701, mae: 0.014688, mean_q: 0.030741\n",
      " 12377/20000: episode: 16, duration: 48.964s, episode steps: 418, steps per second:   9, episode reward:  6.000, mean reward:  0.014 [ 0.000,  1.000], mean action: 2.234 [1.000, 5.000],  loss: 0.005849, mae: 0.013778, mean_q: 0.028351\n",
      " 13431/20000: episode: 17, duration: 123.635s, episode steps: 1054, steps per second:   9, episode reward:  9.000, mean reward:  0.009 [ 0.000,  1.000], mean action: 1.463 [0.000, 5.000],  loss: 0.008434, mae: 0.016646, mean_q: 0.033928\n",
      " 14406/20000: episode: 18, duration: 115.577s, episode steps: 975, steps per second:   8, episode reward: 19.000, mean reward:  0.019 [ 0.000,  1.000], mean action: 1.704 [0.000, 5.000],  loss: 0.007112, mae: 0.017388, mean_q: 0.036758\n",
      " 15057/20000: episode: 19, duration: 76.093s, episode steps: 651, steps per second:   9, episode reward: 11.000, mean reward:  0.017 [ 0.000,  1.000], mean action: 1.473 [0.000, 5.000],  loss: 0.008721, mae: 0.021142, mean_q: 0.042145\n",
      " 16249/20000: episode: 20, duration: 138.637s, episode steps: 1192, steps per second:   9, episode reward: 26.000, mean reward:  0.022 [ 0.000,  1.000], mean action: 1.232 [0.000, 5.000],  loss: 0.007830, mae: 0.018999, mean_q: 0.037391\n",
      " 16731/20000: episode: 21, duration: 56.182s, episode steps: 482, steps per second:   9, episode reward:  2.000, mean reward:  0.004 [ 0.000,  1.000], mean action: 1.033 [0.000, 2.000],  loss: 0.007697, mae: 0.019536, mean_q: 0.038905\n",
      " 17561/20000: episode: 22, duration: 96.997s, episode steps: 830, steps per second:   9, episode reward: 14.000, mean reward:  0.017 [ 0.000,  1.000], mean action: 2.046 [0.000, 5.000],  loss: 0.009012, mae: 0.022910, mean_q: 0.044642\n",
      " 18242/20000: episode: 23, duration: 79.140s, episode steps: 681, steps per second:   9, episode reward:  9.000, mean reward:  0.013 [ 0.000,  1.000], mean action: 1.549 [0.000, 5.000],  loss: 0.008472, mae: 0.022041, mean_q: 0.045115\n",
      " 19426/20000: episode: 24, duration: 161.192s, episode steps: 1184, steps per second:   7, episode reward: 24.000, mean reward:  0.020 [ 0.000,  1.000], mean action: 1.946 [0.000, 5.000],  loss: 0.007474, mae: 0.021915, mean_q: 0.044971\n",
      "done, took 1408.617 seconds\n"
     ]
    },
    {
     "data": {
      "text/plain": [
       "<tensorflow.python.keras.callbacks.History at 0x1dc6a0ca550>"
      ]
     },
     "execution_count": 86,
     "metadata": {},
     "output_type": "execute_result"
    }
   ],
   "source": [
    "# Entrenamiento inicial\n",
    "# (0.0.0.2) Pasamos de 5000 a 20.000 pasos\n",
    "dqn.fit(env, nb_steps=20000, visualize=False, verbose=2)"
   ]
  },
  {
   "cell_type": "code",
   "execution_count": 87,
   "metadata": {},
   "outputs": [
    {
     "name": "stdout",
     "output_type": "stream",
     "text": [
      "Testing for 10 episodes ...\n",
      "Episode 1: reward: 16.000, steps: 1007\n",
      "Episode 2: reward: 12.000, steps: 865\n",
      "Episode 3: reward: 4.000, steps: 399\n",
      "Episode 4: reward: 12.000, steps: 824\n",
      "Episode 5: reward: 12.000, steps: 861\n",
      "Episode 6: reward: 11.000, steps: 825\n",
      "Episode 7: reward: 13.000, steps: 879\n",
      "Episode 8: reward: 17.000, steps: 969\n",
      "Episode 9: reward: 12.000, steps: 883\n",
      "Episode 10: reward: 12.000, steps: 875\n",
      "Media de recompensa: 12.1\n"
     ]
    }
   ],
   "source": [
    "#Evaluación en modo test\n",
    "scores = dqn.test(env, nb_episodes=10, visualize=False)\n",
    "print(\"Media de recompensa:\", np.mean(scores.history['episode_reward']))"
   ]
  },
  {
   "cell_type": "code",
   "execution_count": 88,
   "metadata": {},
   "outputs": [],
   "source": [
    "#Guardado de pesos\n",
    "dqn.save_weights('dqn_spaceinvaders_weights_firebias.h5f', overwrite=True)"
   ]
  },
  {
   "cell_type": "code",
   "execution_count": 89,
   "metadata": {
    "id": "OHYryKd1Gb2b"
   },
   "outputs": [],
   "source": [
    "## Testing part to calculate the mean reward\n",
    "#weights_filename = 'dqn_{}_weights.h5f'.format(env_name)\n",
    "#dqn.load_weights(weights_filename)\n",
    "#dqn.test(env, nb_episodes=10, visualize=False)"
   ]
  },
  {
   "cell_type": "markdown",
   "metadata": {
    "id": "-NAlu8b1Gb2b"
   },
   "source": [
    "3. Justificación de los parámetros seleccionados y de los resultados obtenidos"
   ]
  },
  {
   "cell_type": "markdown",
   "metadata": {
    "id": "ANFQiicXK3sO"
   },
   "source": [
    "---"
   ]
  }
 ],
 "metadata": {
  "colab": {
   "provenance": []
  },
  "kernelspec": {
   "display_name": "Python [miar_rl]",
   "language": "python",
   "name": "miar_rl"
  },
  "language_info": {
   "codemirror_mode": {
    "name": "ipython",
    "version": 3
   },
   "file_extension": ".py",
   "mimetype": "text/x-python",
   "name": "python",
   "nbconvert_exporter": "python",
   "pygments_lexer": "ipython3",
   "version": "3.8.20"
  }
 },
 "nbformat": 4,
 "nbformat_minor": 4
}
